{
 "cells": [
  {
   "cell_type": "code",
   "execution_count": 7,
   "metadata": {
    "tags": []
   },
   "outputs": [
    {
     "output_type": "stream",
     "name": "stdout",
     "text": [
      "The autoreload extension is already loaded. To reload it, use:\n  %reload_ext autoreload\n"
     ]
    }
   ],
   "source": [
    "%load_ext autoreload\n",
    "%autoreload 1"
   ]
  },
  {
   "cell_type": "code",
   "execution_count": 8,
   "metadata": {
    "jupyter": {
     "outputs_hidden": false
    },
    "pycharm": {
     "name": "#%%\n"
    }
   },
   "outputs": [],
   "source": [
    "import torch\n",
    "from matplotlib import pyplot as plt\n",
    "from opf.plot import plot_equality, plot_inequality\n",
    "from pytorch_lightning.loggers import WandbLogger\n",
    "from opf.utils import model_from_parameters\n",
    "\n",
    "%aimport opf\n",
    "%aimport opf.modules\n",
    "%aimport opf.constraints\n",
    "%aimport opf.utils\n",
    "%aimport opf.power"
   ]
  },
  {
   "cell_type": "code",
   "execution_count": 9,
   "metadata": {
    "jupyter": {
     "outputs_hidden": false
    },
    "pycharm": {
     "name": "#%%\n"
    }
   },
   "outputs": [],
   "source": [
    "param = dict(\n",
    "    case_name=\"case118\",\n",
    "    adj_scaling=\"auto\",\n",
    "    adj_threshold=0.01,\n",
    "    batch_size=256,\n",
    "    max_epochs=1000,\n",
    "    K=8,\n",
    "    F=32,\n",
    "    gnn_layers=2,\n",
    "    MLP=4,\n",
    "    mlp_layers=1,\n",
    "    s=10,\n",
    "    t=500,\n",
    "    cost_weight=0.1,\n",
    "    lr=1e-4,\n",
    "    constraint_features=False,\n",
    ")\n",
    "\n",
    "root_dir = \"../\"\n",
    "data_dir = root_dir + \"data/\"\n",
    "log_dir = root_dir + \"logs/\""
   ]
  },
  {
   "cell_type": "code",
   "execution_count": 10,
   "metadata": {
    "pycharm": {
     "name": "#%%\n"
    }
   },
   "outputs": [
    {
     "output_type": "stream",
     "name": "stderr",
     "text": [
      "GPU available: True, used: True\n",
      "TPU available: False, using: 0 TPU cores\n",
      "Failed to detect the name of this notebook, you can set it manually with the WANDB_NOTEBOOK_NAME environment variable to enable code saving.\n",
      "\u001b[34m\u001b[1mwandb\u001b[0m: Currently logged in as: \u001b[33mdamowerko\u001b[0m (use `wandb login --relogin` to force relogin)\n",
      "\u001b[34m\u001b[1mwandb\u001b[0m: wandb version 0.11.2 is available!  To upgrade, please run:\n",
      "\u001b[34m\u001b[1mwandb\u001b[0m:  $ pip install wandb --upgrade\n"
     ]
    },
    {
     "output_type": "display_data",
     "data": {
      "text/plain": "<IPython.core.display.HTML object>",
      "text/html": "\n                Tracking run with wandb version 0.10.33<br/>\n                Syncing run <strong style=\"color:#cdcd00\">snowy-donkey-1213</strong> to <a href=\"https://wandb.ai\" target=\"_blank\">Weights & Biases</a> <a href=\"https://docs.wandb.com/integrations/jupyter.html\" target=\"_blank\">(Documentation)</a>.<br/>\n                Project page: <a href=\"https://wandb.ai/damowerko/opf\" target=\"_blank\">https://wandb.ai/damowerko/opf</a><br/>\n                Run page: <a href=\"https://wandb.ai/damowerko/opf/runs/234fxbfw\" target=\"_blank\">https://wandb.ai/damowerko/opf/runs/234fxbfw</a><br/>\n                Run data is saved locally in <code>../logs/wandb/run-20210805_122152-234fxbfw</code><br/><br/>\n            "
     },
     "metadata": {}
    }
   ],
   "source": [
    "logger = WandbLogger(project=\"opf\", save_dir=log_dir, config=param)\n",
    "barrier, trainer, dm = model_from_parameters(\n",
    "    param,\n",
    "    gpus=1,\n",
    "    logger=logger,\n",
    "    data_dir=data_dir,\n",
    "    patience=50\n",
    ")\n",
    "logger.watch(barrier)"
   ]
  },
  {
   "cell_type": "code",
   "execution_count": 11,
   "metadata": {},
   "outputs": [
    {
     "output_type": "stream",
     "name": "stderr",
     "text": [
      "LOCAL_RANK: 0 - CUDA_VISIBLE_DEVICES: [0]\n",
      "\n",
      "  | Name  | Type | Params\n",
      "-------------------------------\n",
      "0 | model | GNN  | 1.8 M \n",
      "-------------------------------\n",
      "1.8 M     Trainable params\n",
      "0         Non-trainable params\n",
      "1.8 M     Total params\n",
      "14.332    Total estimated model params size (MB)\n",
      "/home/damow/.pyenv/versions/3.9.5/envs/opf/lib/python3.9/site-packages/pytorch_lightning/core/step_result.py:115: UserWarning: To copy construct from a tensor, it is recommended to use sourceTensor.clone().detach() or sourceTensor.clone().detach().requires_grad_(True), rather than torch.tensor(sourceTensor).\n",
      "  value = torch.tensor(value, device=device, dtype=torch.float)\n"
     ]
    },
    {
     "output_type": "display_data",
     "data": {
      "text/plain": "Finding best initial lr:   0%|          | 0/100 [00:00<?, ?it/s]",
      "application/vnd.jupyter.widget-view+json": {
       "version_major": 2,
       "version_minor": 0,
       "model_id": "8666a317cd3049e38fd8a665987c55d5"
      }
     },
     "metadata": {}
    },
    {
     "output_type": "stream",
     "name": "stderr",
     "text": [
      "LR finder stopped early after 96 steps due to diverging loss.\n",
      "Restored states from the checkpoint file at /home/damow/repos/OPF/notebooks/lr_find_temp_model.ckpt\n",
      "Learning rate set to 3.9810717055349715e-05\n"
     ]
    },
    {
     "output_type": "display_data",
     "data": {
      "text/plain": "3.9810717055349715e-05"
     },
     "metadata": {}
    },
    {
     "output_type": "display_data",
     "data": {
      "text/plain": "<Figure size 432x288 with 1 Axes>",
      "image/svg+xml": "<?xml version=\"1.0\" encoding=\"utf-8\" standalone=\"no\"?>\n<!DOCTYPE svg PUBLIC \"-//W3C//DTD SVG 1.1//EN\"\n  \"http://www.w3.org/Graphics/SVG/1.1/DTD/svg11.dtd\">\n<svg height=\"270.554009pt\" version=\"1.1\" viewBox=\"0 0 389.329679 270.554009\" width=\"389.329679pt\" xmlns=\"http://www.w3.org/2000/svg\" xmlns:xlink=\"http://www.w3.org/1999/xlink\">\n <metadata>\n  <rdf:RDF xmlns:cc=\"http://creativecommons.org/ns#\" xmlns:dc=\"http://purl.org/dc/elements/1.1/\" xmlns:rdf=\"http://www.w3.org/1999/02/22-rdf-syntax-ns#\">\n   <cc:Work>\n    <dc:type rdf:resource=\"http://purl.org/dc/dcmitype/StillImage\"/>\n    <dc:date>2021-08-05T12:22:11.632611</dc:date>\n    <dc:format>image/svg+xml</dc:format>\n    <dc:creator>\n     <cc:Agent>\n      <dc:title>Matplotlib v3.4.2, https://matplotlib.org/</dc:title>\n     </cc:Agent>\n    </dc:creator>\n   </cc:Work>\n  </rdf:RDF>\n </metadata>\n <defs>\n  <style type=\"text/css\">*{stroke-linecap:butt;stroke-linejoin:round;}</style>\n </defs>\n <g id=\"figure_1\">\n  <g id=\"patch_1\">\n   <path d=\"M 0 270.554009 \nL 389.329679 270.554009 \nL 389.329679 0 \nL 0 0 \nz\n\" style=\"fill:none;\"/>\n  </g>\n  <g id=\"axes_1\">\n   <g id=\"patch_2\">\n    <path d=\"M 39.785756 234.642655 \nL 374.585756 234.642655 \nL 374.585756 17.202655 \nL 39.785756 17.202655 \nz\n\" style=\"fill:#ffffff;\"/>\n   </g>\n   <g id=\"matplotlib.axis_1\">\n    <g id=\"xtick_1\">\n     <g id=\"line2d_1\">\n      <defs>\n       <path d=\"M 0 0 \nL 0 3.5 \n\" id=\"m60bff6364e\" style=\"stroke:#000000;stroke-width:0.8;\"/>\n      </defs>\n      <g>\n       <use style=\"stroke:#000000;stroke-width:0.8;\" x=\"55.003938\" xlink:href=\"#m60bff6364e\" y=\"234.642655\"/>\n      </g>\n     </g>\n     <g id=\"text_1\">\n      <!-- $\\mathdefault{10^{-8}}$ -->\n      <g transform=\"translate(44.923651 248.561154)scale(0.1 -0.1)\">\n       <defs>\n        <path d=\"M 1702 4058 \nC 1702 4192 1696 4192 1606 4192 \nC 1357 3916 979 3827 621 3827 \nC 602 3827 570 3827 563 3808 \nC 557 3795 557 3782 557 3648 \nC 755 3648 1088 3686 1344 3839 \nL 1344 461 \nC 1344 236 1331 160 781 160 \nL 589 160 \nL 589 0 \nC 896 0 1216 0 1523 0 \nC 1830 0 2150 0 2458 0 \nL 2458 160 \nL 2266 160 \nC 1715 160 1702 230 1702 458 \nL 1702 4058 \nz\n\" id=\"CMR17-31\" transform=\"scale(0.015625)\"/>\n        <path d=\"M 2688 2025 \nC 2688 2416 2682 3080 2413 3591 \nC 2176 4039 1798 4198 1466 4198 \nC 1158 4198 768 4058 525 3597 \nC 269 3118 243 2524 243 2025 \nC 243 1661 250 1106 448 619 \nC 723 -39 1216 -128 1466 -128 \nC 1760 -128 2208 -7 2470 600 \nC 2662 1042 2688 1559 2688 2025 \nz\nM 1466 -26 \nC 1056 -26 813 325 723 812 \nC 653 1188 653 1738 653 2096 \nC 653 2588 653 2997 736 3387 \nC 858 3929 1216 4096 1466 4096 \nC 1728 4096 2067 3923 2189 3400 \nC 2272 3036 2278 2607 2278 2096 \nC 2278 1680 2278 1169 2202 792 \nC 2067 95 1690 -26 1466 -26 \nz\n\" id=\"CMR17-30\" transform=\"scale(0.015625)\"/>\n        <path d=\"M 4218 1472 \nC 4326 1472 4442 1472 4442 1600 \nC 4442 1728 4326 1728 4218 1728 \nL 755 1728 \nC 646 1728 531 1728 531 1600 \nC 531 1472 646 1472 755 1472 \nL 4218 1472 \nz\n\" id=\"CMSY10-0\" transform=\"scale(0.015625)\"/>\n        <path d=\"M 1741 2264 \nC 2144 2467 2554 2773 2554 3263 \nC 2554 3841 1990 4179 1472 4179 \nC 890 4179 378 3759 378 3180 \nC 378 3021 416 2747 666 2505 \nC 730 2442 998 2251 1171 2130 \nC 883 1983 211 1634 211 934 \nC 211 279 838 -128 1459 -128 \nC 2144 -128 2720 362 2720 1010 \nC 2720 1590 2330 1857 2074 2029 \nL 1741 2264 \nz\nM 902 2822 \nC 851 2854 595 3051 595 3351 \nC 595 3739 998 4032 1459 4032 \nC 1965 4032 2336 3676 2336 3262 \nC 2336 2669 1670 2331 1638 2331 \nC 1632 2331 1626 2331 1574 2370 \nL 902 2822 \nz\nM 2080 1519 \nC 2176 1449 2483 1240 2483 851 \nC 2483 381 2010 25 1472 25 \nC 890 25 448 438 448 940 \nC 448 1443 838 1862 1280 2060 \nL 2080 1519 \nz\n\" id=\"CMR17-38\" transform=\"scale(0.015625)\"/>\n       </defs>\n       <use transform=\"scale(0.996264)\" xlink:href=\"#CMR17-31\"/>\n       <use transform=\"translate(45.690477 0)scale(0.996264)\" xlink:href=\"#CMR17-30\"/>\n       <use transform=\"translate(91.380954 36.153639)scale(0.697382)\" xlink:href=\"#CMSY10-0\"/>\n       <use transform=\"translate(145.621947 36.153639)scale(0.697382)\" xlink:href=\"#CMR17-38\"/>\n      </g>\n     </g>\n    </g>\n    <g id=\"xtick_2\">\n     <g id=\"line2d_2\">\n      <g>\n       <use style=\"stroke:#000000;stroke-width:0.8;\" x=\"107.844847\" xlink:href=\"#m60bff6364e\" y=\"234.642655\"/>\n      </g>\n     </g>\n     <g id=\"text_2\">\n      <!-- $\\mathdefault{10^{-7}}$ -->\n      <g transform=\"translate(97.76456 248.561154)scale(0.1 -0.1)\">\n       <defs>\n        <path d=\"M 2886 3941 \nL 2886 4081 \nL 1382 4081 \nC 634 4081 621 4165 595 4288 \nL 480 4288 \nL 294 3094 \nL 410 3094 \nC 429 3215 474 3540 550 3661 \nC 589 3712 1062 3712 1171 3712 \nL 2579 3712 \nL 1869 2661 \nC 1395 1954 1069 999 1069 165 \nC 1069 89 1069 -128 1299 -128 \nC 1530 -128 1530 89 1530 171 \nL 1530 465 \nC 1530 1508 1709 2196 2003 2636 \nL 2886 3941 \nz\n\" id=\"CMR17-37\" transform=\"scale(0.015625)\"/>\n       </defs>\n       <use transform=\"scale(0.996264)\" xlink:href=\"#CMR17-31\"/>\n       <use transform=\"translate(45.690477 0)scale(0.996264)\" xlink:href=\"#CMR17-30\"/>\n       <use transform=\"translate(91.380954 36.153639)scale(0.697382)\" xlink:href=\"#CMSY10-0\"/>\n       <use transform=\"translate(145.621947 36.153639)scale(0.697382)\" xlink:href=\"#CMR17-37\"/>\n      </g>\n     </g>\n    </g>\n    <g id=\"xtick_3\">\n     <g id=\"line2d_3\">\n      <g>\n       <use style=\"stroke:#000000;stroke-width:0.8;\" x=\"160.685756\" xlink:href=\"#m60bff6364e\" y=\"234.642655\"/>\n      </g>\n     </g>\n     <g id=\"text_3\">\n      <!-- $\\mathdefault{10^{-6}}$ -->\n      <g transform=\"translate(150.605469 248.561154)scale(0.1 -0.1)\">\n       <defs>\n        <path d=\"M 678 2176 \nC 678 3690 1395 4032 1811 4032 \nC 1946 4032 2272 4009 2400 3776 \nC 2298 3776 2106 3776 2106 3553 \nC 2106 3381 2246 3323 2336 3323 \nC 2394 3323 2566 3348 2566 3560 \nC 2566 3954 2246 4179 1805 4179 \nC 1043 4179 243 3390 243 1984 \nC 243 253 966 -128 1478 -128 \nC 2099 -128 2688 427 2688 1283 \nC 2688 2081 2170 2662 1517 2662 \nC 1126 2662 838 2407 678 1960 \nL 678 2176 \nz\nM 1478 25 \nC 691 25 691 1200 691 1436 \nC 691 1896 909 2560 1504 2560 \nC 1613 2560 1926 2560 2138 2120 \nC 2253 1870 2253 1609 2253 1289 \nC 2253 944 2253 690 2118 434 \nC 1978 171 1773 25 1478 25 \nz\n\" id=\"CMR17-36\" transform=\"scale(0.015625)\"/>\n       </defs>\n       <use transform=\"scale(0.996264)\" xlink:href=\"#CMR17-31\"/>\n       <use transform=\"translate(45.690477 0)scale(0.996264)\" xlink:href=\"#CMR17-30\"/>\n       <use transform=\"translate(91.380954 36.153639)scale(0.697382)\" xlink:href=\"#CMSY10-0\"/>\n       <use transform=\"translate(145.621947 36.153639)scale(0.697382)\" xlink:href=\"#CMR17-36\"/>\n      </g>\n     </g>\n    </g>\n    <g id=\"xtick_4\">\n     <g id=\"line2d_4\">\n      <g>\n       <use style=\"stroke:#000000;stroke-width:0.8;\" x=\"213.526665\" xlink:href=\"#m60bff6364e\" y=\"234.642655\"/>\n      </g>\n     </g>\n     <g id=\"text_4\">\n      <!-- $\\mathdefault{10^{-5}}$ -->\n      <g transform=\"translate(203.446378 248.561154)scale(0.1 -0.1)\">\n       <defs>\n        <path d=\"M 730 3692 \nC 794 3666 1056 3584 1325 3584 \nC 1920 3584 2246 3911 2432 4100 \nC 2432 4157 2432 4192 2394 4192 \nC 2387 4192 2374 4192 2323 4163 \nC 2099 4058 1837 3973 1517 3973 \nC 1325 3973 1037 3999 723 4139 \nC 653 4171 640 4171 634 4171 \nC 602 4171 595 4164 595 4037 \nL 595 2203 \nC 595 2089 595 2057 659 2057 \nC 691 2057 704 2070 736 2114 \nC 941 2401 1222 2522 1542 2522 \nC 1766 2522 2246 2382 2246 1289 \nC 2246 1085 2246 715 2054 421 \nC 1894 159 1645 25 1370 25 \nC 947 25 518 320 403 814 \nC 429 807 480 795 506 795 \nC 589 795 749 840 749 1038 \nC 749 1210 627 1280 506 1280 \nC 358 1280 262 1190 262 1011 \nC 262 454 704 -128 1382 -128 \nC 2042 -128 2669 440 2669 1264 \nC 2669 2030 2170 2624 1549 2624 \nC 1222 2624 947 2503 730 2274 \nL 730 3692 \nz\n\" id=\"CMR17-35\" transform=\"scale(0.015625)\"/>\n       </defs>\n       <use transform=\"scale(0.996264)\" xlink:href=\"#CMR17-31\"/>\n       <use transform=\"translate(45.690477 0)scale(0.996264)\" xlink:href=\"#CMR17-30\"/>\n       <use transform=\"translate(91.380954 36.153639)scale(0.697382)\" xlink:href=\"#CMSY10-0\"/>\n       <use transform=\"translate(145.621947 36.153639)scale(0.697382)\" xlink:href=\"#CMR17-35\"/>\n      </g>\n     </g>\n    </g>\n    <g id=\"xtick_5\">\n     <g id=\"line2d_5\">\n      <g>\n       <use style=\"stroke:#000000;stroke-width:0.8;\" x=\"266.367574\" xlink:href=\"#m60bff6364e\" y=\"234.642655\"/>\n      </g>\n     </g>\n     <g id=\"text_5\">\n      <!-- $\\mathdefault{10^{-4}}$ -->\n      <g transform=\"translate(256.287287 248.561154)scale(0.1 -0.1)\">\n       <defs>\n        <path d=\"M 2150 4122 \nC 2150 4256 2144 4256 2029 4256 \nL 128 1254 \nL 128 1088 \nL 1779 1088 \nL 1779 457 \nC 1779 224 1766 160 1318 160 \nL 1197 160 \nL 1197 0 \nC 1402 0 1747 0 1965 0 \nC 2182 0 2528 0 2733 0 \nL 2733 160 \nL 2611 160 \nC 2163 160 2150 224 2150 457 \nL 2150 1088 \nL 2803 1088 \nL 2803 1254 \nL 2150 1254 \nL 2150 4122 \nz\nM 1798 3703 \nL 1798 1254 \nL 256 1254 \nL 1798 3703 \nz\n\" id=\"CMR17-34\" transform=\"scale(0.015625)\"/>\n       </defs>\n       <use transform=\"scale(0.996264)\" xlink:href=\"#CMR17-31\"/>\n       <use transform=\"translate(45.690477 0)scale(0.996264)\" xlink:href=\"#CMR17-30\"/>\n       <use transform=\"translate(91.380954 36.153639)scale(0.697382)\" xlink:href=\"#CMSY10-0\"/>\n       <use transform=\"translate(145.621947 36.153639)scale(0.697382)\" xlink:href=\"#CMR17-34\"/>\n      </g>\n     </g>\n    </g>\n    <g id=\"xtick_6\">\n     <g id=\"line2d_6\">\n      <g>\n       <use style=\"stroke:#000000;stroke-width:0.8;\" x=\"319.208483\" xlink:href=\"#m60bff6364e\" y=\"234.642655\"/>\n      </g>\n     </g>\n     <g id=\"text_6\">\n      <!-- $\\mathdefault{10^{-3}}$ -->\n      <g transform=\"translate(309.128196 248.561154)scale(0.1 -0.1)\">\n       <defs>\n        <path d=\"M 1414 2157 \nC 1984 2157 2234 1662 2234 1090 \nC 2234 320 1824 25 1453 25 \nC 1114 25 563 194 390 693 \nC 422 680 454 680 486 680 \nC 640 680 755 782 755 948 \nC 755 1133 614 1216 486 1216 \nC 378 1216 211 1165 211 926 \nC 211 335 787 -128 1466 -128 \nC 2176 -128 2720 430 2720 1085 \nC 2720 1707 2208 2157 1600 2227 \nC 2086 2328 2554 2756 2554 3329 \nC 2554 3820 2048 4179 1472 4179 \nC 890 4179 378 3829 378 3329 \nC 378 3110 544 3072 627 3072 \nC 762 3072 877 3155 877 3321 \nC 877 3486 762 3569 627 3569 \nC 602 3569 570 3569 544 3557 \nC 730 3959 1235 4032 1459 4032 \nC 1683 4032 2106 3925 2106 3320 \nC 2106 3143 2080 2828 1862 2550 \nC 1670 2304 1453 2304 1242 2284 \nC 1210 2284 1062 2269 1037 2269 \nC 992 2263 966 2257 966 2208 \nC 966 2163 973 2157 1101 2157 \nL 1414 2157 \nz\n\" id=\"CMR17-33\" transform=\"scale(0.015625)\"/>\n       </defs>\n       <use transform=\"scale(0.996264)\" xlink:href=\"#CMR17-31\"/>\n       <use transform=\"translate(45.690477 0)scale(0.996264)\" xlink:href=\"#CMR17-30\"/>\n       <use transform=\"translate(91.380954 36.153639)scale(0.697382)\" xlink:href=\"#CMSY10-0\"/>\n       <use transform=\"translate(145.621947 36.153639)scale(0.697382)\" xlink:href=\"#CMR17-33\"/>\n      </g>\n     </g>\n    </g>\n    <g id=\"xtick_7\">\n     <g id=\"line2d_7\">\n      <g>\n       <use style=\"stroke:#000000;stroke-width:0.8;\" x=\"372.049392\" xlink:href=\"#m60bff6364e\" y=\"234.642655\"/>\n      </g>\n     </g>\n     <g id=\"text_7\">\n      <!-- $\\mathdefault{10^{-2}}$ -->\n      <g transform=\"translate(361.969105 248.561154)scale(0.1 -0.1)\">\n       <defs>\n        <path d=\"M 2669 989 \nL 2554 989 \nC 2490 536 2438 459 2413 420 \nC 2381 369 1920 369 1830 369 \nL 602 369 \nC 832 619 1280 1072 1824 1597 \nC 2214 1967 2669 2402 2669 3035 \nC 2669 3790 2067 4224 1395 4224 \nC 691 4224 262 3604 262 3030 \nC 262 2780 448 2748 525 2748 \nC 589 2748 781 2787 781 3010 \nC 781 3207 614 3264 525 3264 \nC 486 3264 448 3258 422 3245 \nC 544 3790 915 4058 1306 4058 \nC 1862 4058 2227 3617 2227 3035 \nC 2227 2479 1901 2000 1536 1584 \nL 262 146 \nL 262 0 \nL 2515 0 \nL 2669 989 \nz\n\" id=\"CMR17-32\" transform=\"scale(0.015625)\"/>\n       </defs>\n       <use transform=\"scale(0.996264)\" xlink:href=\"#CMR17-31\"/>\n       <use transform=\"translate(45.690477 0)scale(0.996264)\" xlink:href=\"#CMR17-30\"/>\n       <use transform=\"translate(91.380954 36.153639)scale(0.697382)\" xlink:href=\"#CMSY10-0\"/>\n       <use transform=\"translate(145.621947 36.153639)scale(0.697382)\" xlink:href=\"#CMR17-32\"/>\n      </g>\n     </g>\n    </g>\n    <g id=\"xtick_8\">\n     <g id=\"line2d_8\">\n      <defs>\n       <path d=\"M 0 0 \nL 0 2 \n\" id=\"m1c8ef627ff\" style=\"stroke:#000000;stroke-width:0.6;\"/>\n      </defs>\n      <g>\n       <use style=\"stroke:#000000;stroke-width:0.6;\" x=\"43.281248\" xlink:href=\"#m1c8ef627ff\" y=\"234.642655\"/>\n      </g>\n     </g>\n    </g>\n    <g id=\"xtick_9\">\n     <g id=\"line2d_9\">\n      <g>\n       <use style=\"stroke:#000000;stroke-width:0.6;\" x=\"46.818777\" xlink:href=\"#m1c8ef627ff\" y=\"234.642655\"/>\n      </g>\n     </g>\n    </g>\n    <g id=\"xtick_10\">\n     <g id=\"line2d_10\">\n      <g>\n       <use style=\"stroke:#000000;stroke-width:0.6;\" x=\"49.883124\" xlink:href=\"#m1c8ef627ff\" y=\"234.642655\"/>\n      </g>\n     </g>\n    </g>\n    <g id=\"xtick_11\">\n     <g id=\"line2d_11\">\n      <g>\n       <use style=\"stroke:#000000;stroke-width:0.6;\" x=\"52.58607\" xlink:href=\"#m1c8ef627ff\" y=\"234.642655\"/>\n      </g>\n     </g>\n    </g>\n    <g id=\"xtick_12\">\n     <g id=\"line2d_12\">\n      <g>\n       <use style=\"stroke:#000000;stroke-width:0.6;\" x=\"70.910636\" xlink:href=\"#m1c8ef627ff\" y=\"234.642655\"/>\n      </g>\n     </g>\n    </g>\n    <g id=\"xtick_13\">\n     <g id=\"line2d_13\">\n      <g>\n       <use style=\"stroke:#000000;stroke-width:0.6;\" x=\"80.215458\" xlink:href=\"#m1c8ef627ff\" y=\"234.642655\"/>\n      </g>\n     </g>\n    </g>\n    <g id=\"xtick_14\">\n     <g id=\"line2d_14\">\n      <g>\n       <use style=\"stroke:#000000;stroke-width:0.6;\" x=\"86.817335\" xlink:href=\"#m1c8ef627ff\" y=\"234.642655\"/>\n      </g>\n     </g>\n    </g>\n    <g id=\"xtick_15\">\n     <g id=\"line2d_15\">\n      <g>\n       <use style=\"stroke:#000000;stroke-width:0.6;\" x=\"91.938148\" xlink:href=\"#m1c8ef627ff\" y=\"234.642655\"/>\n      </g>\n     </g>\n    </g>\n    <g id=\"xtick_16\">\n     <g id=\"line2d_16\">\n      <g>\n       <use style=\"stroke:#000000;stroke-width:0.6;\" x=\"96.122157\" xlink:href=\"#m1c8ef627ff\" y=\"234.642655\"/>\n      </g>\n     </g>\n    </g>\n    <g id=\"xtick_17\">\n     <g id=\"line2d_17\">\n      <g>\n       <use style=\"stroke:#000000;stroke-width:0.6;\" x=\"99.659686\" xlink:href=\"#m1c8ef627ff\" y=\"234.642655\"/>\n      </g>\n     </g>\n    </g>\n    <g id=\"xtick_18\">\n     <g id=\"line2d_18\">\n      <g>\n       <use style=\"stroke:#000000;stroke-width:0.6;\" x=\"102.724033\" xlink:href=\"#m1c8ef627ff\" y=\"234.642655\"/>\n      </g>\n     </g>\n    </g>\n    <g id=\"xtick_19\">\n     <g id=\"line2d_19\">\n      <g>\n       <use style=\"stroke:#000000;stroke-width:0.6;\" x=\"105.426979\" xlink:href=\"#m1c8ef627ff\" y=\"234.642655\"/>\n      </g>\n     </g>\n    </g>\n    <g id=\"xtick_20\">\n     <g id=\"line2d_20\">\n      <g>\n       <use style=\"stroke:#000000;stroke-width:0.6;\" x=\"123.751545\" xlink:href=\"#m1c8ef627ff\" y=\"234.642655\"/>\n      </g>\n     </g>\n    </g>\n    <g id=\"xtick_21\">\n     <g id=\"line2d_21\">\n      <g>\n       <use style=\"stroke:#000000;stroke-width:0.6;\" x=\"133.056367\" xlink:href=\"#m1c8ef627ff\" y=\"234.642655\"/>\n      </g>\n     </g>\n    </g>\n    <g id=\"xtick_22\">\n     <g id=\"line2d_22\">\n      <g>\n       <use style=\"stroke:#000000;stroke-width:0.6;\" x=\"139.658244\" xlink:href=\"#m1c8ef627ff\" y=\"234.642655\"/>\n      </g>\n     </g>\n    </g>\n    <g id=\"xtick_23\">\n     <g id=\"line2d_23\">\n      <g>\n       <use style=\"stroke:#000000;stroke-width:0.6;\" x=\"144.779057\" xlink:href=\"#m1c8ef627ff\" y=\"234.642655\"/>\n      </g>\n     </g>\n    </g>\n    <g id=\"xtick_24\">\n     <g id=\"line2d_24\">\n      <g>\n       <use style=\"stroke:#000000;stroke-width:0.6;\" x=\"148.963066\" xlink:href=\"#m1c8ef627ff\" y=\"234.642655\"/>\n      </g>\n     </g>\n    </g>\n    <g id=\"xtick_25\">\n     <g id=\"line2d_25\">\n      <g>\n       <use style=\"stroke:#000000;stroke-width:0.6;\" x=\"152.500595\" xlink:href=\"#m1c8ef627ff\" y=\"234.642655\"/>\n      </g>\n     </g>\n    </g>\n    <g id=\"xtick_26\">\n     <g id=\"line2d_26\">\n      <g>\n       <use style=\"stroke:#000000;stroke-width:0.6;\" x=\"155.564942\" xlink:href=\"#m1c8ef627ff\" y=\"234.642655\"/>\n      </g>\n     </g>\n    </g>\n    <g id=\"xtick_27\">\n     <g id=\"line2d_27\">\n      <g>\n       <use style=\"stroke:#000000;stroke-width:0.6;\" x=\"158.267888\" xlink:href=\"#m1c8ef627ff\" y=\"234.642655\"/>\n      </g>\n     </g>\n    </g>\n    <g id=\"xtick_28\">\n     <g id=\"line2d_28\">\n      <g>\n       <use style=\"stroke:#000000;stroke-width:0.6;\" x=\"176.592454\" xlink:href=\"#m1c8ef627ff\" y=\"234.642655\"/>\n      </g>\n     </g>\n    </g>\n    <g id=\"xtick_29\">\n     <g id=\"line2d_29\">\n      <g>\n       <use style=\"stroke:#000000;stroke-width:0.6;\" x=\"185.897277\" xlink:href=\"#m1c8ef627ff\" y=\"234.642655\"/>\n      </g>\n     </g>\n    </g>\n    <g id=\"xtick_30\">\n     <g id=\"line2d_30\">\n      <g>\n       <use style=\"stroke:#000000;stroke-width:0.6;\" x=\"192.499153\" xlink:href=\"#m1c8ef627ff\" y=\"234.642655\"/>\n      </g>\n     </g>\n    </g>\n    <g id=\"xtick_31\">\n     <g id=\"line2d_31\">\n      <g>\n       <use style=\"stroke:#000000;stroke-width:0.6;\" x=\"197.619966\" xlink:href=\"#m1c8ef627ff\" y=\"234.642655\"/>\n      </g>\n     </g>\n    </g>\n    <g id=\"xtick_32\">\n     <g id=\"line2d_32\">\n      <g>\n       <use style=\"stroke:#000000;stroke-width:0.6;\" x=\"201.803975\" xlink:href=\"#m1c8ef627ff\" y=\"234.642655\"/>\n      </g>\n     </g>\n    </g>\n    <g id=\"xtick_33\">\n     <g id=\"line2d_33\">\n      <g>\n       <use style=\"stroke:#000000;stroke-width:0.6;\" x=\"205.341504\" xlink:href=\"#m1c8ef627ff\" y=\"234.642655\"/>\n      </g>\n     </g>\n    </g>\n    <g id=\"xtick_34\">\n     <g id=\"line2d_34\">\n      <g>\n       <use style=\"stroke:#000000;stroke-width:0.6;\" x=\"208.405852\" xlink:href=\"#m1c8ef627ff\" y=\"234.642655\"/>\n      </g>\n     </g>\n    </g>\n    <g id=\"xtick_35\">\n     <g id=\"line2d_35\">\n      <g>\n       <use style=\"stroke:#000000;stroke-width:0.6;\" x=\"211.108797\" xlink:href=\"#m1c8ef627ff\" y=\"234.642655\"/>\n      </g>\n     </g>\n    </g>\n    <g id=\"xtick_36\">\n     <g id=\"line2d_36\">\n      <g>\n       <use style=\"stroke:#000000;stroke-width:0.6;\" x=\"229.433363\" xlink:href=\"#m1c8ef627ff\" y=\"234.642655\"/>\n      </g>\n     </g>\n    </g>\n    <g id=\"xtick_37\">\n     <g id=\"line2d_37\">\n      <g>\n       <use style=\"stroke:#000000;stroke-width:0.6;\" x=\"238.738186\" xlink:href=\"#m1c8ef627ff\" y=\"234.642655\"/>\n      </g>\n     </g>\n    </g>\n    <g id=\"xtick_38\">\n     <g id=\"line2d_38\">\n      <g>\n       <use style=\"stroke:#000000;stroke-width:0.6;\" x=\"245.340062\" xlink:href=\"#m1c8ef627ff\" y=\"234.642655\"/>\n      </g>\n     </g>\n    </g>\n    <g id=\"xtick_39\">\n     <g id=\"line2d_39\">\n      <g>\n       <use style=\"stroke:#000000;stroke-width:0.6;\" x=\"250.460875\" xlink:href=\"#m1c8ef627ff\" y=\"234.642655\"/>\n      </g>\n     </g>\n    </g>\n    <g id=\"xtick_40\">\n     <g id=\"line2d_40\">\n      <g>\n       <use style=\"stroke:#000000;stroke-width:0.6;\" x=\"254.644884\" xlink:href=\"#m1c8ef627ff\" y=\"234.642655\"/>\n      </g>\n     </g>\n    </g>\n    <g id=\"xtick_41\">\n     <g id=\"line2d_41\">\n      <g>\n       <use style=\"stroke:#000000;stroke-width:0.6;\" x=\"258.182413\" xlink:href=\"#m1c8ef627ff\" y=\"234.642655\"/>\n      </g>\n     </g>\n    </g>\n    <g id=\"xtick_42\">\n     <g id=\"line2d_42\">\n      <g>\n       <use style=\"stroke:#000000;stroke-width:0.6;\" x=\"261.246761\" xlink:href=\"#m1c8ef627ff\" y=\"234.642655\"/>\n      </g>\n     </g>\n    </g>\n    <g id=\"xtick_43\">\n     <g id=\"line2d_43\">\n      <g>\n       <use style=\"stroke:#000000;stroke-width:0.6;\" x=\"263.949706\" xlink:href=\"#m1c8ef627ff\" y=\"234.642655\"/>\n      </g>\n     </g>\n    </g>\n    <g id=\"xtick_44\">\n     <g id=\"line2d_44\">\n      <g>\n       <use style=\"stroke:#000000;stroke-width:0.6;\" x=\"282.274273\" xlink:href=\"#m1c8ef627ff\" y=\"234.642655\"/>\n      </g>\n     </g>\n    </g>\n    <g id=\"xtick_45\">\n     <g id=\"line2d_45\">\n      <g>\n       <use style=\"stroke:#000000;stroke-width:0.6;\" x=\"291.579095\" xlink:href=\"#m1c8ef627ff\" y=\"234.642655\"/>\n      </g>\n     </g>\n    </g>\n    <g id=\"xtick_46\">\n     <g id=\"line2d_46\">\n      <g>\n       <use style=\"stroke:#000000;stroke-width:0.6;\" x=\"298.180971\" xlink:href=\"#m1c8ef627ff\" y=\"234.642655\"/>\n      </g>\n     </g>\n    </g>\n    <g id=\"xtick_47\">\n     <g id=\"line2d_47\">\n      <g>\n       <use style=\"stroke:#000000;stroke-width:0.6;\" x=\"303.301784\" xlink:href=\"#m1c8ef627ff\" y=\"234.642655\"/>\n      </g>\n     </g>\n    </g>\n    <g id=\"xtick_48\">\n     <g id=\"line2d_48\">\n      <g>\n       <use style=\"stroke:#000000;stroke-width:0.6;\" x=\"307.485793\" xlink:href=\"#m1c8ef627ff\" y=\"234.642655\"/>\n      </g>\n     </g>\n    </g>\n    <g id=\"xtick_49\">\n     <g id=\"line2d_49\">\n      <g>\n       <use style=\"stroke:#000000;stroke-width:0.6;\" x=\"311.023323\" xlink:href=\"#m1c8ef627ff\" y=\"234.642655\"/>\n      </g>\n     </g>\n    </g>\n    <g id=\"xtick_50\">\n     <g id=\"line2d_50\">\n      <g>\n       <use style=\"stroke:#000000;stroke-width:0.6;\" x=\"314.08767\" xlink:href=\"#m1c8ef627ff\" y=\"234.642655\"/>\n      </g>\n     </g>\n    </g>\n    <g id=\"xtick_51\">\n     <g id=\"line2d_51\">\n      <g>\n       <use style=\"stroke:#000000;stroke-width:0.6;\" x=\"316.790616\" xlink:href=\"#m1c8ef627ff\" y=\"234.642655\"/>\n      </g>\n     </g>\n    </g>\n    <g id=\"xtick_52\">\n     <g id=\"line2d_52\">\n      <g>\n       <use style=\"stroke:#000000;stroke-width:0.6;\" x=\"335.115182\" xlink:href=\"#m1c8ef627ff\" y=\"234.642655\"/>\n      </g>\n     </g>\n    </g>\n    <g id=\"xtick_53\">\n     <g id=\"line2d_53\">\n      <g>\n       <use style=\"stroke:#000000;stroke-width:0.6;\" x=\"344.420004\" xlink:href=\"#m1c8ef627ff\" y=\"234.642655\"/>\n      </g>\n     </g>\n    </g>\n    <g id=\"xtick_54\">\n     <g id=\"line2d_54\">\n      <g>\n       <use style=\"stroke:#000000;stroke-width:0.6;\" x=\"351.02188\" xlink:href=\"#m1c8ef627ff\" y=\"234.642655\"/>\n      </g>\n     </g>\n    </g>\n    <g id=\"xtick_55\">\n     <g id=\"line2d_55\">\n      <g>\n       <use style=\"stroke:#000000;stroke-width:0.6;\" x=\"356.142693\" xlink:href=\"#m1c8ef627ff\" y=\"234.642655\"/>\n      </g>\n     </g>\n    </g>\n    <g id=\"xtick_56\">\n     <g id=\"line2d_56\">\n      <g>\n       <use style=\"stroke:#000000;stroke-width:0.6;\" x=\"360.326702\" xlink:href=\"#m1c8ef627ff\" y=\"234.642655\"/>\n      </g>\n     </g>\n    </g>\n    <g id=\"xtick_57\">\n     <g id=\"line2d_57\">\n      <g>\n       <use style=\"stroke:#000000;stroke-width:0.6;\" x=\"363.864232\" xlink:href=\"#m1c8ef627ff\" y=\"234.642655\"/>\n      </g>\n     </g>\n    </g>\n    <g id=\"xtick_58\">\n     <g id=\"line2d_58\">\n      <g>\n       <use style=\"stroke:#000000;stroke-width:0.6;\" x=\"366.928579\" xlink:href=\"#m1c8ef627ff\" y=\"234.642655\"/>\n      </g>\n     </g>\n    </g>\n    <g id=\"xtick_59\">\n     <g id=\"line2d_59\">\n      <g>\n       <use style=\"stroke:#000000;stroke-width:0.6;\" x=\"369.631525\" xlink:href=\"#m1c8ef627ff\" y=\"234.642655\"/>\n      </g>\n     </g>\n    </g>\n    <g id=\"text_8\">\n     <!-- Learning rate -->\n     <g transform=\"translate(177.754398 261.416831)scale(0.1 -0.1)\">\n      <defs>\n       <path d=\"M 3469 1615 \nL 3354 1615 \nC 3302 983 3219 166 2125 166 \nL 1530 166 \nC 1274 166 1261 197 1261 414 \nL 1261 3898 \nC 1261 4129 1274 4192 1760 4192 \nL 1901 4192 \nL 1901 4352 \nC 1638 4352 1331 4352 1069 4352 \nC 870 4352 512 4352 326 4352 \nL 326 4192 \nC 768 4192 838 4192 838 3905 \nL 838 452 \nC 838 166 768 166 326 166 \nL 326 0 \nL 3315 0 \nL 3469 1615 \nz\n\" id=\"CMR17-4c\" transform=\"scale(0.015625)\"/>\n       <path d=\"M 2438 1472 \nC 2464 1498 2464 1511 2464 1576 \nC 2464 2238 2118 2816 1389 2816 \nC 710 2816 173 2169 173 1383 \nC 173 551 781 -64 1459 -64 \nC 2176 -64 2458 607 2458 740 \nC 2458 784 2419 784 2406 784 \nC 2362 784 2355 771 2330 696 \nC 2189 265 1837 51 1504 51 \nC 1229 51 954 203 781 480 \nC 582 803 582 1176 582 1472 \nL 2438 1472 \nz\nM 589 1568 \nC 634 2505 1126 2714 1382 2714 \nC 1818 2714 2112 2297 2118 1568 \nL 589 1568 \nz\n\" id=\"CMR17-65\" transform=\"scale(0.015625)\"/>\n       <path d=\"M 2304 1653 \nC 2304 2072 2304 2294 2035 2543 \nC 1798 2752 1523 2816 1306 2816 \nC 800 2816 435 2407 435 1971 \nC 435 1728 627 1728 666 1728 \nC 749 1728 896 1778 896 1954 \nC 896 2112 774 2181 666 2181 \nC 640 2181 608 2174 589 2168 \nC 723 2592 1069 2714 1293 2714 \nC 1613 2714 1965 2429 1965 1885 \nL 1965 1600 \nC 1587 1600 1133 1549 774 1357 \nC 371 1133 256 813 256 570 \nC 256 77 832 -64 1171 -64 \nC 1523 -64 1850 139 1990 511 \nC 2003 233 2182 -18 2464 -18 \nC 2598 -18 2938 70 2938 567 \nL 2938 920 \nL 2822 920 \nL 2822 562 \nC 2822 178 2650 128 2566 128 \nC 2304 128 2304 458 2304 738 \nL 2304 1653 \nz\nM 1965 870 \nC 1965 317 1568 38 1216 38 \nC 896 38 646 275 646 570 \nC 646 761 730 1100 1101 1305 \nC 1408 1478 1760 1504 1965 1504 \nL 1965 870 \nz\n\" id=\"CMR17-61\" transform=\"scale(0.015625)\"/>\n       <path d=\"M 960 1497 \nC 960 2112 1222 2688 1702 2688 \nC 1747 2688 1792 2682 1837 2662 \nC 1837 2662 1696 2617 1696 2452 \nC 1696 2298 1818 2234 1914 2234 \nC 1990 2234 2131 2279 2131 2458 \nC 2131 2663 1926 2790 1709 2790 \nC 1222 2790 1011 2317 947 2093 \nL 941 2093 \nL 941 2790 \nL 198 2720 \nL 198 2554 \nC 576 2554 634 2515 634 2208 \nL 634 428 \nC 634 184 608 153 198 153 \nL 198 -13 \nC 352 0 646 0 813 0 \nC 998 0 1325 0 1498 -13 \nL 1498 153 \nC 1037 153 960 153 960 440 \nL 960 1497 \nz\n\" id=\"CMR17-72\" transform=\"scale(0.015625)\"/>\n       <path d=\"M 2656 1933 \nC 2656 2259 2592 2790 1837 2790 \nC 1331 2790 1069 2400 973 2144 \nL 966 2144 \nL 966 2790 \nL 211 2720 \nL 211 2554 \nC 589 2554 646 2515 646 2208 \nL 646 428 \nC 646 184 621 153 211 153 \nL 211 -13 \nC 365 0 646 0 813 0 \nC 979 0 1267 0 1421 -13 \nL 1421 153 \nC 1011 153 986 178 986 428 \nL 986 1658 \nC 986 2247 1344 2688 1792 2688 \nC 2266 2688 2317 2266 2317 1958 \nL 2317 428 \nC 2317 184 2291 153 1882 153 \nL 1882 -13 \nC 2035 0 2317 0 2483 0 \nC 2650 0 2938 0 3091 -13 \nL 3091 153 \nC 2682 153 2656 178 2656 428 \nL 2656 1933 \nz\n\" id=\"CMR17-6e\" transform=\"scale(0.015625)\"/>\n       <path d=\"M 992 3909 \nC 992 4049 877 4170 730 4170 \nC 589 4170 467 4056 467 3909 \nC 467 3769 582 3648 730 3648 \nC 870 3648 992 3763 992 3909 \nz\nM 243 2706 \nL 243 2541 \nC 602 2541 653 2502 653 2197 \nL 653 427 \nC 653 184 627 153 218 153 \nL 218 -13 \nC 371 0 646 0 806 0 \nC 960 0 1222 0 1370 -13 \nL 1370 153 \nC 992 153 979 191 979 420 \nL 979 2776 \nL 243 2706 \nz\n\" id=\"CMR17-69\" transform=\"scale(0.015625)\"/>\n       <path d=\"M 710 1164 \nC 832 1068 1043 960 1299 960 \nC 1805 960 2240 1357 2240 1888 \nC 2240 2054 2189 2310 1997 2509 \nC 2176 2692 2438 2752 2586 2752 \nC 2611 2752 2650 2752 2682 2734 \nC 2656 2728 2598 2703 2598 2605 \nC 2598 2527 2656 2471 2739 2471 \nC 2835 2471 2886 2533 2886 2614 \nC 2886 2731 2790 2854 2586 2854 \nC 2330 2854 2106 2738 1926 2580 \nC 1734 2753 1504 2816 1299 2816 \nC 794 2816 358 2419 358 1888 \nC 358 1522 570 1292 634 1228 \nC 442 1004 442 743 442 711 \nC 442 545 506 302 723 168 \nC 390 85 128 -169 128 -486 \nC 128 -943 736 -1280 1466 -1280 \nC 2170 -1280 2803 -956 2803 -479 \nC 2803 384 1856 384 1363 384 \nC 1216 384 954 384 922 391 \nC 723 423 589 602 589 826 \nC 589 883 589 1024 710 1164 \nz\nM 1299 1068 \nC 736 1068 736 1760 736 1889 \nC 736 2016 736 2708 1299 2708 \nC 1862 2708 1862 2016 1862 1889 \nC 1862 1760 1862 1068 1299 1068 \nz\nM 1466 -1171 \nC 826 -1171 384 -835 384 -486 \nC 384 -289 493 -105 634 -4 \nC 794 104 858 104 1293 104 \nC 1818 104 2547 104 2547 -486 \nC 2547 -835 2106 -1171 1466 -1171 \nz\n\" id=\"CMR17-67\" transform=\"scale(0.015625)\"/>\n       <path d=\"M 966 2560 \nL 1862 2560 \nL 1862 2725 \nL 966 2725 \nL 966 3904 \nL 851 3904 \nC 838 3245 614 2668 70 2668 \nL 70 2560 \nL 627 2560 \nL 627 771 \nC 627 650 627 -64 1370 -64 \nC 1747 -64 1965 306 1965 777 \nL 1965 1140 \nL 1850 1140 \nL 1850 783 \nC 1850 344 1677 51 1408 51 \nC 1222 51 966 178 966 758 \nL 966 2560 \nz\n\" id=\"CMR17-74\" transform=\"scale(0.015625)\"/>\n      </defs>\n      <use transform=\"scale(0.996264)\" xlink:href=\"#CMR17-4c\"/>\n      <use transform=\"translate(57.381408 0)scale(0.996264)\" xlink:href=\"#CMR17-65\"/>\n      <use transform=\"translate(97.867068 0)scale(0.996264)\" xlink:href=\"#CMR17-61\"/>\n      <use transform=\"translate(143.557545 0)scale(0.996264)\" xlink:href=\"#CMR17-72\"/>\n      <use transform=\"translate(178.838313 0)scale(0.996264)\" xlink:href=\"#CMR17-6e\"/>\n      <use transform=\"translate(229.733683 0)scale(0.996264)\" xlink:href=\"#CMR17-69\"/>\n      <use transform=\"translate(254.604741 0)scale(0.996264)\" xlink:href=\"#CMR17-6e\"/>\n      <use transform=\"translate(305.500111 0)scale(0.996264)\" xlink:href=\"#CMR17-67\"/>\n      <use transform=\"translate(381.266555 0)scale(0.996264)\" xlink:href=\"#CMR17-72\"/>\n      <use transform=\"translate(416.547323 0)scale(0.996264)\" xlink:href=\"#CMR17-61\"/>\n      <use transform=\"translate(462.2378 0)scale(0.996264)\" xlink:href=\"#CMR17-74\"/>\n      <use transform=\"translate(497.518567 0)scale(0.996264)\" xlink:href=\"#CMR17-65\"/>\n     </g>\n    </g>\n   </g>\n   <g id=\"matplotlib.axis_2\">\n    <g id=\"ytick_1\">\n     <g id=\"line2d_60\">\n      <defs>\n       <path d=\"M 0 0 \nL -3.5 0 \n\" id=\"m6da99041b6\" style=\"stroke:#000000;stroke-width:0.8;\"/>\n      </defs>\n      <g>\n       <use style=\"stroke:#000000;stroke-width:0.8;\" x=\"39.785756\" xlink:href=\"#m6da99041b6\" y=\"208.442433\"/>\n      </g>\n     </g>\n     <g id=\"text_9\">\n      <!-- $\\mathdefault{0.5}$ -->\n      <g transform=\"translate(20.055677 211.901682)scale(0.1 -0.1)\">\n       <defs>\n        <path d=\"M 1178 307 \nC 1178 492 1024 619 870 619 \nC 685 619 557 466 557 313 \nC 557 128 710 0 864 0 \nC 1050 0 1178 153 1178 307 \nz\n\" id=\"CMMI12-3a\" transform=\"scale(0.015625)\"/>\n       </defs>\n       <use transform=\"scale(0.996264)\" xlink:href=\"#CMR17-30\"/>\n       <use transform=\"translate(45.690477 0)scale(0.996264)\" xlink:href=\"#CMMI12-3a\"/>\n       <use transform=\"translate(72.787654 0)scale(0.996264)\" xlink:href=\"#CMR17-35\"/>\n      </g>\n     </g>\n    </g>\n    <g id=\"ytick_2\">\n     <g id=\"line2d_61\">\n      <g>\n       <use style=\"stroke:#000000;stroke-width:0.8;\" x=\"39.785756\" xlink:href=\"#m6da99041b6\" y=\"177.318356\"/>\n      </g>\n     </g>\n     <g id=\"text_10\">\n      <!-- $\\mathdefault{1.0}$ -->\n      <g transform=\"translate(20.055677 180.777605)scale(0.1 -0.1)\">\n       <use transform=\"scale(0.996264)\" xlink:href=\"#CMR17-31\"/>\n       <use transform=\"translate(45.690477 0)scale(0.996264)\" xlink:href=\"#CMMI12-3a\"/>\n       <use transform=\"translate(72.787654 0)scale(0.996264)\" xlink:href=\"#CMR17-30\"/>\n      </g>\n     </g>\n    </g>\n    <g id=\"ytick_3\">\n     <g id=\"line2d_62\">\n      <g>\n       <use style=\"stroke:#000000;stroke-width:0.8;\" x=\"39.785756\" xlink:href=\"#m6da99041b6\" y=\"146.194279\"/>\n      </g>\n     </g>\n     <g id=\"text_11\">\n      <!-- $\\mathdefault{1.5}$ -->\n      <g transform=\"translate(20.055677 149.653528)scale(0.1 -0.1)\">\n       <use transform=\"scale(0.996264)\" xlink:href=\"#CMR17-31\"/>\n       <use transform=\"translate(45.690477 0)scale(0.996264)\" xlink:href=\"#CMMI12-3a\"/>\n       <use transform=\"translate(72.787654 0)scale(0.996264)\" xlink:href=\"#CMR17-35\"/>\n      </g>\n     </g>\n    </g>\n    <g id=\"ytick_4\">\n     <g id=\"line2d_63\">\n      <g>\n       <use style=\"stroke:#000000;stroke-width:0.8;\" x=\"39.785756\" xlink:href=\"#m6da99041b6\" y=\"115.070202\"/>\n      </g>\n     </g>\n     <g id=\"text_12\">\n      <!-- $\\mathdefault{2.0}$ -->\n      <g transform=\"translate(20.055677 118.529451)scale(0.1 -0.1)\">\n       <use transform=\"scale(0.996264)\" xlink:href=\"#CMR17-32\"/>\n       <use transform=\"translate(45.690477 0)scale(0.996264)\" xlink:href=\"#CMMI12-3a\"/>\n       <use transform=\"translate(72.787654 0)scale(0.996264)\" xlink:href=\"#CMR17-30\"/>\n      </g>\n     </g>\n    </g>\n    <g id=\"ytick_5\">\n     <g id=\"line2d_64\">\n      <g>\n       <use style=\"stroke:#000000;stroke-width:0.8;\" x=\"39.785756\" xlink:href=\"#m6da99041b6\" y=\"83.946125\"/>\n      </g>\n     </g>\n     <g id=\"text_13\">\n      <!-- $\\mathdefault{2.5}$ -->\n      <g transform=\"translate(20.055677 87.405374)scale(0.1 -0.1)\">\n       <use transform=\"scale(0.996264)\" xlink:href=\"#CMR17-32\"/>\n       <use transform=\"translate(45.690477 0)scale(0.996264)\" xlink:href=\"#CMMI12-3a\"/>\n       <use transform=\"translate(72.787654 0)scale(0.996264)\" xlink:href=\"#CMR17-35\"/>\n      </g>\n     </g>\n    </g>\n    <g id=\"ytick_6\">\n     <g id=\"line2d_65\">\n      <g>\n       <use style=\"stroke:#000000;stroke-width:0.8;\" x=\"39.785756\" xlink:href=\"#m6da99041b6\" y=\"52.822048\"/>\n      </g>\n     </g>\n     <g id=\"text_14\">\n      <!-- $\\mathdefault{3.0}$ -->\n      <g transform=\"translate(20.055677 56.281297)scale(0.1 -0.1)\">\n       <use transform=\"scale(0.996264)\" xlink:href=\"#CMR17-33\"/>\n       <use transform=\"translate(45.690477 0)scale(0.996264)\" xlink:href=\"#CMMI12-3a\"/>\n       <use transform=\"translate(72.787654 0)scale(0.996264)\" xlink:href=\"#CMR17-30\"/>\n      </g>\n     </g>\n    </g>\n    <g id=\"ytick_7\">\n     <g id=\"line2d_66\">\n      <g>\n       <use style=\"stroke:#000000;stroke-width:0.8;\" x=\"39.785756\" xlink:href=\"#m6da99041b6\" y=\"21.697971\"/>\n      </g>\n     </g>\n     <g id=\"text_15\">\n      <!-- $\\mathdefault{3.5}$ -->\n      <g transform=\"translate(20.055677 25.15722)scale(0.1 -0.1)\">\n       <use transform=\"scale(0.996264)\" xlink:href=\"#CMR17-33\"/>\n       <use transform=\"translate(45.690477 0)scale(0.996264)\" xlink:href=\"#CMMI12-3a\"/>\n       <use transform=\"translate(72.787654 0)scale(0.996264)\" xlink:href=\"#CMR17-35\"/>\n      </g>\n     </g>\n    </g>\n    <g id=\"text_16\">\n     <!-- Loss -->\n     <g transform=\"translate(14.118498 135.456362)rotate(-90)scale(0.1 -0.1)\">\n      <defs>\n       <path d=\"M 2758 1356 \nC 2758 2176 2163 2816 1466 2816 \nC 768 2816 173 2176 173 1356 \nC 173 551 768 -64 1466 -64 \nC 2163 -64 2758 551 2758 1356 \nz\nM 1466 51 \nC 1165 51 909 230 762 480 \nC 602 767 582 1126 582 1408 \nC 582 1677 595 2010 762 2298 \nC 890 2509 1139 2714 1466 2714 \nC 1754 2714 1997 2554 2150 2330 \nC 2349 2029 2349 1607 2349 1408 \nC 2349 1158 2336 775 2163 467 \nC 1984 173 1709 51 1466 51 \nz\n\" id=\"CMR17-6f\" transform=\"scale(0.015625)\"/>\n       <path d=\"M 1978 2697 \nC 1978 2813 1971 2819 1933 2819 \nC 1907 2819 1901 2813 1824 2717 \nC 1805 2691 1747 2626 1728 2601 \nC 1523 2819 1235 2819 1126 2819 \nC 416 2819 160 2447 160 2076 \nC 160 1498 813 1365 998 1325 \nC 1402 1243 1542 1217 1677 1101 \nC 1760 1025 1901 884 1901 654 \nC 1901 384 1747 38 1158 38 \nC 602 38 403 460 288 1021 \nC 269 1110 269 1117 218 1117 \nC 166 1117 160 1110 160 983 \nL 160 63 \nC 160 -51 166 -58 205 -58 \nC 237 -58 243 -51 275 0 \nC 314 57 410 211 448 276 \nC 576 103 800 -64 1158 -64 \nC 1792 -64 2131 283 2131 784 \nC 2131 1112 1958 1285 1875 1362 \nC 1683 1561 1459 1606 1190 1657 \nC 838 1735 390 1825 390 2217 \nC 390 2383 480 2737 1126 2737 \nC 1811 2737 1850 2094 1862 1888 \nC 1869 1856 1901 1849 1920 1849 \nC 1978 1849 1978 1869 1978 1978 \nL 1978 2697 \nz\n\" id=\"CMR17-73\" transform=\"scale(0.015625)\"/>\n      </defs>\n      <use transform=\"scale(0.996264)\" xlink:href=\"#CMR17-4c\"/>\n      <use transform=\"translate(57.381408 0)scale(0.996264)\" xlink:href=\"#CMR17-6f\"/>\n      <use transform=\"translate(103.071885 0)scale(0.996264)\" xlink:href=\"#CMR17-73\"/>\n      <use transform=\"translate(138.873223 0)scale(0.996264)\" xlink:href=\"#CMR17-73\"/>\n     </g>\n    </g>\n    <g id=\"text_17\">\n     <!-- $\\times\\mathdefault{10^{9}}\\mathdefault{}$ -->\n     <g transform=\"translate(39.785756 14.202655)scale(0.1 -0.1)\">\n      <defs>\n       <path d=\"M 2490 1785 \nL 1210 3059 \nC 1133 3136 1120 3148 1069 3148 \nC 1005 3148 941 3091 941 3020 \nC 941 2976 954 2963 1024 2892 \nL 2304 1606 \nL 1024 320 \nC 954 249 941 236 941 192 \nC 941 121 1005 64 1069 64 \nC 1120 64 1133 76 1210 153 \nL 2483 1427 \nL 3808 102 \nC 3821 96 3866 64 3904 64 \nC 3981 64 4032 121 4032 192 \nC 4032 204 4032 230 4013 262 \nC 4006 275 2989 1280 2669 1606 \nL 3840 2777 \nC 3872 2816 3968 2899 4000 2937 \nC 4006 2950 4032 2976 4032 3020 \nC 4032 3091 3981 3148 3904 3148 \nC 3853 3148 3827 3123 3757 3052 \nL 2490 1785 \nz\n\" id=\"CMSY10-2\" transform=\"scale(0.015625)\"/>\n       <path d=\"M 2253 1864 \nC 2253 464 1670 31 1190 31 \nC 1043 31 685 31 538 294 \nC 704 268 826 357 826 518 \nC 826 692 685 749 595 749 \nC 538 749 365 723 365 506 \nC 365 71 742 -128 1203 -128 \nC 1939 -128 2688 674 2688 2073 \nC 2688 3817 1971 4179 1485 4179 \nC 851 4179 243 3628 243 2778 \nC 243 1991 762 1408 1414 1408 \nC 1952 1408 2189 1903 2253 2112 \nL 2253 1864 \nz\nM 1427 1510 \nC 1254 1510 1011 1542 813 1922 \nC 678 2169 678 2461 678 2771 \nC 678 3146 678 3405 858 3684 \nC 947 3817 1114 4032 1485 4032 \nC 2240 4032 2240 2885 2240 2632 \nC 2240 2182 2035 1510 1427 1510 \nz\n\" id=\"CMR17-39\" transform=\"scale(0.015625)\"/>\n      </defs>\n      <use transform=\"scale(0.996264)\" xlink:href=\"#CMSY10-2\"/>\n      <use transform=\"translate(77.487468 0)scale(0.996264)\" xlink:href=\"#CMR17-31\"/>\n      <use transform=\"translate(123.177945 0)scale(0.996264)\" xlink:href=\"#CMR17-30\"/>\n      <use transform=\"translate(168.868422 36.153639)scale(0.697382)\" xlink:href=\"#CMR17-39\"/>\n     </g>\n    </g>\n   </g>\n   <g id=\"line2d_67\">\n    <path clip-path=\"url(#p363d502248)\" d=\"M 55.003938 190.829771 \nL 61.344847 190.815121 \nL 64.515301 190.805866 \nL 67.685756 190.746478 \nL 70.85621 190.783254 \nL 74.026665 190.819821 \nL 77.197119 190.847918 \nL 80.367574 190.834072 \nL 83.538028 190.860721 \nL 86.708483 190.851061 \nL 89.878938 190.867675 \nL 93.049392 190.864921 \nL 96.219847 190.877721 \nL 99.390301 190.8777 \nL 102.560756 190.912965 \nL 105.73121 190.902942 \nL 108.901665 190.911282 \nL 112.072119 190.927475 \nL 115.242574 190.947543 \nL 118.413028 190.96355 \nL 121.583483 190.987444 \nL 124.753938 191.018304 \nL 127.924392 191.044317 \nL 131.094847 191.08512 \nL 134.265301 191.124089 \nL 137.435756 191.15488 \nL 140.60621 191.200247 \nL 143.776665 191.249402 \nL 146.947119 191.305292 \nL 150.117574 191.368632 \nL 153.288028 191.450244 \nL 156.458483 191.541822 \nL 159.628938 191.639899 \nL 162.799392 191.751862 \nL 165.969847 191.864197 \nL 169.140301 192.00077 \nL 172.310756 192.144941 \nL 175.48121 192.315819 \nL 178.651665 192.508137 \nL 181.822119 192.730246 \nL 184.992574 192.974807 \nL 188.163028 193.240503 \nL 191.333483 193.535152 \nL 194.503938 193.860527 \nL 197.674392 194.227384 \nL 200.844847 194.635854 \nL 204.015301 195.079555 \nL 207.185756 195.567356 \nL 210.35621 196.098565 \nL 213.526665 196.675344 \nL 216.697119 197.295224 \nL 219.867574 197.956008 \nL 223.038028 198.665388 \nL 226.208483 199.414464 \nL 229.378938 200.200452 \nL 232.549392 201.018362 \nL 235.719847 201.86247 \nL 238.890301 202.727539 \nL 242.060756 203.605358 \nL 245.23121 204.490001 \nL 248.401665 205.373534 \nL 251.572119 206.249988 \nL 254.742574 207.112993 \nL 257.913028 207.957995 \nL 261.083483 208.781203 \nL 264.253938 209.579543 \nL 267.424392 210.35092 \nL 270.594847 211.094098 \nL 273.765301 211.808892 \nL 276.935756 212.497271 \nL 280.10621 213.16016 \nL 283.276665 213.79942 \nL 286.447119 214.419926 \nL 289.617574 215.02829 \nL 292.788028 215.627644 \nL 295.958483 216.217763 \nL 299.128938 216.795763 \nL 302.299392 217.352184 \nL 305.469847 217.89111 \nL 308.640301 218.421658 \nL 311.810756 218.941134 \nL 314.98121 219.444707 \nL 318.151665 219.932348 \nL 321.322119 220.404397 \nL 324.492574 220.862624 \nL 327.663028 221.311708 \nL 330.833483 221.746325 \nL 334.003938 222.172521 \nL 337.174392 222.585259 \nL 340.344847 222.987659 \nL 343.515301 223.377744 \nL 346.685756 223.757078 \nL 349.85621 224.1253 \nL 353.026665 224.483828 \nL 356.197119 224.759019 \nL 359.367574 27.086292 \n\" style=\"fill:none;stroke:#1f77b4;stroke-linecap:square;stroke-width:1.5;\"/>\n   </g>\n   <g id=\"line2d_68\">\n    <path clip-path=\"url(#p363d502248)\" d=\"M 245.23121 204.490001 \n\" style=\"fill:none;stroke:#ff0000;stroke-linecap:square;stroke-width:1.5;\"/>\n    <defs>\n     <path d=\"M 0 5 \nC 1.326016 5 2.597899 4.473168 3.535534 3.535534 \nC 4.473168 2.597899 5 1.326016 5 0 \nC 5 -1.326016 4.473168 -2.597899 3.535534 -3.535534 \nC 2.597899 -4.473168 1.326016 -5 0 -5 \nC -1.326016 -5 -2.597899 -4.473168 -3.535534 -3.535534 \nC -4.473168 -2.597899 -5 -1.326016 -5 0 \nC -5 1.326016 -4.473168 2.597899 -3.535534 3.535534 \nC -2.597899 4.473168 -1.326016 5 0 5 \nz\n\" id=\"m2a5451bbbf\" style=\"stroke:#ff0000;\"/>\n    </defs>\n    <g clip-path=\"url(#p363d502248)\">\n     <use style=\"fill:#ff0000;stroke:#ff0000;\" x=\"245.23121\" xlink:href=\"#m2a5451bbbf\" y=\"204.490001\"/>\n    </g>\n   </g>\n   <g id=\"patch_3\">\n    <path d=\"M 39.785756 234.642655 \nL 39.785756 17.202655 \n\" style=\"fill:none;stroke:#000000;stroke-linecap:square;stroke-linejoin:miter;stroke-width:0.8;\"/>\n   </g>\n   <g id=\"patch_4\">\n    <path d=\"M 374.585756 234.642655 \nL 374.585756 17.202655 \n\" style=\"fill:none;stroke:#000000;stroke-linecap:square;stroke-linejoin:miter;stroke-width:0.8;\"/>\n   </g>\n   <g id=\"patch_5\">\n    <path d=\"M 39.785756 234.642655 \nL 374.585756 234.642655 \n\" style=\"fill:none;stroke:#000000;stroke-linecap:square;stroke-linejoin:miter;stroke-width:0.8;\"/>\n   </g>\n   <g id=\"patch_6\">\n    <path d=\"M 39.785756 17.202655 \nL 374.585756 17.202655 \n\" style=\"fill:none;stroke:#000000;stroke-linecap:square;stroke-linejoin:miter;stroke-width:0.8;\"/>\n   </g>\n  </g>\n </g>\n <defs>\n  <clipPath id=\"p363d502248\">\n   <rect height=\"217.44\" width=\"334.8\" x=\"39.785756\" y=\"17.202655\"/>\n  </clipPath>\n </defs>\n</svg>\n",
      "image/png": "[encoded data removed]"
     },
     "metadata": {
      "needs_background": "light"
     }
    }
   ],
   "source": [
    "result = trainer.tune(barrier, datamodule=dm, lr_find_kwargs=dict(min_lr=1e-8, max_lr=1e-2))\n",
    "lr_finder = result[\"lr_find\"]\n",
    "lr_finder.plot(suggest=True)\n",
    "display(barrier.hparams.lr)"
   ]
  },
  {
   "cell_type": "code",
   "execution_count": 14,
   "metadata": {
    "pycharm": {
     "name": "#%%\n"
    }
   },
   "outputs": [
    {
     "name": "stderr",
     "output_type": "stream",
     "text": [
      "LOCAL_RANK: 0 - CUDA_VISIBLE_DEVICES: [0]\n",
      "\n",
      "  | Name  | Type | Params\n",
      "-------------------------------\n",
      "0 | model | GNN  | 2.5 M \n",
      "-------------------------------\n",
      "2.5 M     Trainable params\n",
      "0         Non-trainable params\n",
      "2.5 M     Total params\n",
      "20.096    Total estimated model params size (MB)\n"
     ]
    },
    {
     "data": {
      "application/vnd.jupyter.widget-view+json": {
       "model_id": "",
       "version_major": 2,
       "version_minor": 0
      },
      "text/plain": [
       "Validation sanity check: 0it [00:00, ?it/s]"
      ]
     },
     "metadata": {},
     "output_type": "display_data"
    },
    {
     "data": {
      "application/vnd.jupyter.widget-view+json": {
       "model_id": "c85a2d4617ea40209c76883cf3444430",
       "version_major": 2,
       "version_minor": 0
      },
      "text/plain": [
       "Training: 89it [00:00, ?it/s]"
      ]
     },
     "metadata": {},
     "output_type": "display_data"
    },
    {
     "data": {
      "application/vnd.jupyter.widget-view+json": {
       "model_id": "",
       "version_major": 2,
       "version_minor": 0
      },
      "text/plain": [
       "Validating: 0it [00:00, ?it/s]"
      ]
     },
     "metadata": {},
     "output_type": "display_data"
    },
    {
     "data": {
      "application/vnd.jupyter.widget-view+json": {
       "model_id": "",
       "version_major": 2,
       "version_minor": 0
      },
      "text/plain": [
       "Validating: 0it [00:00, ?it/s]"
      ]
     },
     "metadata": {},
     "output_type": "display_data"
    },
    {
     "data": {
      "application/vnd.jupyter.widget-view+json": {
       "model_id": "",
       "version_major": 2,
       "version_minor": 0
      },
      "text/plain": [
       "Validating: 0it [00:00, ?it/s]"
      ]
     },
     "metadata": {},
     "output_type": "display_data"
    },
    {
     "data": {
      "application/vnd.jupyter.widget-view+json": {
       "model_id": "",
       "version_major": 2,
       "version_minor": 0
      },
      "text/plain": [
       "Validating: 0it [00:00, ?it/s]"
      ]
     },
     "metadata": {},
     "output_type": "display_data"
    },
    {
     "data": {
      "application/vnd.jupyter.widget-view+json": {
       "model_id": "",
       "version_major": 2,
       "version_minor": 0
      },
      "text/plain": [
       "Validating: 0it [00:00, ?it/s]"
      ]
     },
     "metadata": {},
     "output_type": "display_data"
    },
    {
     "data": {
      "application/vnd.jupyter.widget-view+json": {
       "model_id": "",
       "version_major": 2,
       "version_minor": 0
      },
      "text/plain": [
       "Validating: 0it [00:00, ?it/s]"
      ]
     },
     "metadata": {},
     "output_type": "display_data"
    },
    {
     "data": {
      "application/vnd.jupyter.widget-view+json": {
       "model_id": "",
       "version_major": 2,
       "version_minor": 0
      },
      "text/plain": [
       "Validating: 0it [00:00, ?it/s]"
      ]
     },
     "metadata": {},
     "output_type": "display_data"
    },
    {
     "data": {
      "application/vnd.jupyter.widget-view+json": {
       "model_id": "",
       "version_major": 2,
       "version_minor": 0
      },
      "text/plain": [
       "Validating: 0it [00:00, ?it/s]"
      ]
     },
     "metadata": {},
     "output_type": "display_data"
    },
    {
     "data": {
      "application/vnd.jupyter.widget-view+json": {
       "model_id": "",
       "version_major": 2,
       "version_minor": 0
      },
      "text/plain": [
       "Validating: 0it [00:00, ?it/s]"
      ]
     },
     "metadata": {},
     "output_type": "display_data"
    },
    {
     "data": {
      "application/vnd.jupyter.widget-view+json": {
       "model_id": "",
       "version_major": 2,
       "version_minor": 0
      },
      "text/plain": [
       "Validating: 0it [00:00, ?it/s]"
      ]
     },
     "metadata": {},
     "output_type": "display_data"
    },
    {
     "data": {
      "application/vnd.jupyter.widget-view+json": {
       "model_id": "",
       "version_major": 2,
       "version_minor": 0
      },
      "text/plain": [
       "Validating: 0it [00:00, ?it/s]"
      ]
     },
     "metadata": {},
     "output_type": "display_data"
    },
    {
     "data": {
      "application/vnd.jupyter.widget-view+json": {
       "model_id": "",
       "version_major": 2,
       "version_minor": 0
      },
      "text/plain": [
       "Validating: 0it [00:00, ?it/s]"
      ]
     },
     "metadata": {},
     "output_type": "display_data"
    },
    {
     "data": {
      "application/vnd.jupyter.widget-view+json": {
       "model_id": "",
       "version_major": 2,
       "version_minor": 0
      },
      "text/plain": [
       "Validating: 0it [00:00, ?it/s]"
      ]
     },
     "metadata": {},
     "output_type": "display_data"
    },
    {
     "data": {
      "application/vnd.jupyter.widget-view+json": {
       "model_id": "",
       "version_major": 2,
       "version_minor": 0
      },
      "text/plain": [
       "Validating: 0it [00:00, ?it/s]"
      ]
     },
     "metadata": {},
     "output_type": "display_data"
    },
    {
     "data": {
      "application/vnd.jupyter.widget-view+json": {
       "model_id": "",
       "version_major": 2,
       "version_minor": 0
      },
      "text/plain": [
       "Validating: 0it [00:00, ?it/s]"
      ]
     },
     "metadata": {},
     "output_type": "display_data"
    },
    {
     "data": {
      "application/vnd.jupyter.widget-view+json": {
       "model_id": "",
       "version_major": 2,
       "version_minor": 0
      },
      "text/plain": [
       "Validating: 0it [00:00, ?it/s]"
      ]
     },
     "metadata": {},
     "output_type": "display_data"
    },
    {
     "data": {
      "application/vnd.jupyter.widget-view+json": {
       "model_id": "",
       "version_major": 2,
       "version_minor": 0
      },
      "text/plain": [
       "Validating: 0it [00:00, ?it/s]"
      ]
     },
     "metadata": {},
     "output_type": "display_data"
    },
    {
     "data": {
      "application/vnd.jupyter.widget-view+json": {
       "model_id": "",
       "version_major": 2,
       "version_minor": 0
      },
      "text/plain": [
       "Validating: 0it [00:00, ?it/s]"
      ]
     },
     "metadata": {},
     "output_type": "display_data"
    },
    {
     "data": {
      "application/vnd.jupyter.widget-view+json": {
       "model_id": "",
       "version_major": 2,
       "version_minor": 0
      },
      "text/plain": [
       "Validating: 0it [00:00, ?it/s]"
      ]
     },
     "metadata": {},
     "output_type": "display_data"
    },
    {
     "data": {
      "application/vnd.jupyter.widget-view+json": {
       "model_id": "",
       "version_major": 2,
       "version_minor": 0
      },
      "text/plain": [
       "Validating: 0it [00:00, ?it/s]"
      ]
     },
     "metadata": {},
     "output_type": "display_data"
    },
    {
     "data": {
      "application/vnd.jupyter.widget-view+json": {
       "model_id": "",
       "version_major": 2,
       "version_minor": 0
      },
      "text/plain": [
       "Validating: 0it [00:00, ?it/s]"
      ]
     },
     "metadata": {},
     "output_type": "display_data"
    },
    {
     "data": {
      "application/vnd.jupyter.widget-view+json": {
       "model_id": "",
       "version_major": 2,
       "version_minor": 0
      },
      "text/plain": [
       "Validating: 0it [00:00, ?it/s]"
      ]
     },
     "metadata": {},
     "output_type": "display_data"
    },
    {
     "data": {
      "application/vnd.jupyter.widget-view+json": {
       "model_id": "",
       "version_major": 2,
       "version_minor": 0
      },
      "text/plain": [
       "Validating: 0it [00:00, ?it/s]"
      ]
     },
     "metadata": {},
     "output_type": "display_data"
    },
    {
     "data": {
      "application/vnd.jupyter.widget-view+json": {
       "model_id": "",
       "version_major": 2,
       "version_minor": 0
      },
      "text/plain": [
       "Validating: 0it [00:00, ?it/s]"
      ]
     },
     "metadata": {},
     "output_type": "display_data"
    },
    {
     "data": {
      "application/vnd.jupyter.widget-view+json": {
       "model_id": "",
       "version_major": 2,
       "version_minor": 0
      },
      "text/plain": [
       "Validating: 0it [00:00, ?it/s]"
      ]
     },
     "metadata": {},
     "output_type": "display_data"
    },
    {
     "data": {
      "application/vnd.jupyter.widget-view+json": {
       "model_id": "",
       "version_major": 2,
       "version_minor": 0
      },
      "text/plain": [
       "Validating: 0it [00:00, ?it/s]"
      ]
     },
     "metadata": {},
     "output_type": "display_data"
    },
    {
     "data": {
      "application/vnd.jupyter.widget-view+json": {
       "model_id": "",
       "version_major": 2,
       "version_minor": 0
      },
      "text/plain": [
       "Validating: 0it [00:00, ?it/s]"
      ]
     },
     "metadata": {},
     "output_type": "display_data"
    },
    {
     "data": {
      "application/vnd.jupyter.widget-view+json": {
       "model_id": "",
       "version_major": 2,
       "version_minor": 0
      },
      "text/plain": [
       "Validating: 0it [00:00, ?it/s]"
      ]
     },
     "metadata": {},
     "output_type": "display_data"
    },
    {
     "data": {
      "application/vnd.jupyter.widget-view+json": {
       "model_id": "",
       "version_major": 2,
       "version_minor": 0
      },
      "text/plain": [
       "Validating: 0it [00:00, ?it/s]"
      ]
     },
     "metadata": {},
     "output_type": "display_data"
    },
    {
     "data": {
      "application/vnd.jupyter.widget-view+json": {
       "model_id": "",
       "version_major": 2,
       "version_minor": 0
      },
      "text/plain": [
       "Validating: 0it [00:00, ?it/s]"
      ]
     },
     "metadata": {},
     "output_type": "display_data"
    },
    {
     "data": {
      "application/vnd.jupyter.widget-view+json": {
       "model_id": "",
       "version_major": 2,
       "version_minor": 0
      },
      "text/plain": [
       "Validating: 0it [00:00, ?it/s]"
      ]
     },
     "metadata": {},
     "output_type": "display_data"
    },
    {
     "data": {
      "application/vnd.jupyter.widget-view+json": {
       "model_id": "",
       "version_major": 2,
       "version_minor": 0
      },
      "text/plain": [
       "Validating: 0it [00:00, ?it/s]"
      ]
     },
     "metadata": {},
     "output_type": "display_data"
    },
    {
     "data": {
      "application/vnd.jupyter.widget-view+json": {
       "model_id": "",
       "version_major": 2,
       "version_minor": 0
      },
      "text/plain": [
       "Validating: 0it [00:00, ?it/s]"
      ]
     },
     "metadata": {},
     "output_type": "display_data"
    },
    {
     "data": {
      "application/vnd.jupyter.widget-view+json": {
       "model_id": "",
       "version_major": 2,
       "version_minor": 0
      },
      "text/plain": [
       "Validating: 0it [00:00, ?it/s]"
      ]
     },
     "metadata": {},
     "output_type": "display_data"
    },
    {
     "data": {
      "application/vnd.jupyter.widget-view+json": {
       "model_id": "",
       "version_major": 2,
       "version_minor": 0
      },
      "text/plain": [
       "Validating: 0it [00:00, ?it/s]"
      ]
     },
     "metadata": {},
     "output_type": "display_data"
    },
    {
     "data": {
      "application/vnd.jupyter.widget-view+json": {
       "model_id": "",
       "version_major": 2,
       "version_minor": 0
      },
      "text/plain": [
       "Validating: 0it [00:00, ?it/s]"
      ]
     },
     "metadata": {},
     "output_type": "display_data"
    },
    {
     "data": {
      "application/vnd.jupyter.widget-view+json": {
       "model_id": "",
       "version_major": 2,
       "version_minor": 0
      },
      "text/plain": [
       "Validating: 0it [00:00, ?it/s]"
      ]
     },
     "metadata": {},
     "output_type": "display_data"
    },
    {
     "data": {
      "application/vnd.jupyter.widget-view+json": {
       "model_id": "",
       "version_major": 2,
       "version_minor": 0
      },
      "text/plain": [
       "Validating: 0it [00:00, ?it/s]"
      ]
     },
     "metadata": {},
     "output_type": "display_data"
    },
    {
     "data": {
      "application/vnd.jupyter.widget-view+json": {
       "model_id": "",
       "version_major": 2,
       "version_minor": 0
      },
      "text/plain": [
       "Validating: 0it [00:00, ?it/s]"
      ]
     },
     "metadata": {},
     "output_type": "display_data"
    },
    {
     "data": {
      "application/vnd.jupyter.widget-view+json": {
       "model_id": "",
       "version_major": 2,
       "version_minor": 0
      },
      "text/plain": [
       "Validating: 0it [00:00, ?it/s]"
      ]
     },
     "metadata": {},
     "output_type": "display_data"
    },
    {
     "data": {
      "application/vnd.jupyter.widget-view+json": {
       "model_id": "",
       "version_major": 2,
       "version_minor": 0
      },
      "text/plain": [
       "Validating: 0it [00:00, ?it/s]"
      ]
     },
     "metadata": {},
     "output_type": "display_data"
    },
    {
     "data": {
      "application/vnd.jupyter.widget-view+json": {
       "model_id": "",
       "version_major": 2,
       "version_minor": 0
      },
      "text/plain": [
       "Validating: 0it [00:00, ?it/s]"
      ]
     },
     "metadata": {},
     "output_type": "display_data"
    },
    {
     "data": {
      "application/vnd.jupyter.widget-view+json": {
       "model_id": "",
       "version_major": 2,
       "version_minor": 0
      },
      "text/plain": [
       "Validating: 0it [00:00, ?it/s]"
      ]
     },
     "metadata": {},
     "output_type": "display_data"
    },
    {
     "data": {
      "application/vnd.jupyter.widget-view+json": {
       "model_id": "",
       "version_major": 2,
       "version_minor": 0
      },
      "text/plain": [
       "Validating: 0it [00:00, ?it/s]"
      ]
     },
     "metadata": {},
     "output_type": "display_data"
    },
    {
     "data": {
      "application/vnd.jupyter.widget-view+json": {
       "model_id": "",
       "version_major": 2,
       "version_minor": 0
      },
      "text/plain": [
       "Validating: 0it [00:00, ?it/s]"
      ]
     },
     "metadata": {},
     "output_type": "display_data"
    },
    {
     "data": {
      "application/vnd.jupyter.widget-view+json": {
       "model_id": "",
       "version_major": 2,
       "version_minor": 0
      },
      "text/plain": [
       "Validating: 0it [00:00, ?it/s]"
      ]
     },
     "metadata": {},
     "output_type": "display_data"
    },
    {
     "data": {
      "application/vnd.jupyter.widget-view+json": {
       "model_id": "",
       "version_major": 2,
       "version_minor": 0
      },
      "text/plain": [
       "Validating: 0it [00:00, ?it/s]"
      ]
     },
     "metadata": {},
     "output_type": "display_data"
    },
    {
     "data": {
      "application/vnd.jupyter.widget-view+json": {
       "model_id": "",
       "version_major": 2,
       "version_minor": 0
      },
      "text/plain": [
       "Validating: 0it [00:00, ?it/s]"
      ]
     },
     "metadata": {},
     "output_type": "display_data"
    },
    {
     "data": {
      "application/vnd.jupyter.widget-view+json": {
       "model_id": "",
       "version_major": 2,
       "version_minor": 0
      },
      "text/plain": [
       "Validating: 0it [00:00, ?it/s]"
      ]
     },
     "metadata": {},
     "output_type": "display_data"
    },
    {
     "data": {
      "application/vnd.jupyter.widget-view+json": {
       "model_id": "",
       "version_major": 2,
       "version_minor": 0
      },
      "text/plain": [
       "Validating: 0it [00:00, ?it/s]"
      ]
     },
     "metadata": {},
     "output_type": "display_data"
    },
    {
     "data": {
      "application/vnd.jupyter.widget-view+json": {
       "model_id": "",
       "version_major": 2,
       "version_minor": 0
      },
      "text/plain": [
       "Validating: 0it [00:00, ?it/s]"
      ]
     },
     "metadata": {},
     "output_type": "display_data"
    },
    {
     "data": {
      "application/vnd.jupyter.widget-view+json": {
       "model_id": "",
       "version_major": 2,
       "version_minor": 0
      },
      "text/plain": [
       "Validating: 0it [00:00, ?it/s]"
      ]
     },
     "metadata": {},
     "output_type": "display_data"
    },
    {
     "data": {
      "application/vnd.jupyter.widget-view+json": {
       "model_id": "",
       "version_major": 2,
       "version_minor": 0
      },
      "text/plain": [
       "Validating: 0it [00:00, ?it/s]"
      ]
     },
     "metadata": {},
     "output_type": "display_data"
    },
    {
     "data": {
      "application/vnd.jupyter.widget-view+json": {
       "model_id": "",
       "version_major": 2,
       "version_minor": 0
      },
      "text/plain": [
       "Validating: 0it [00:00, ?it/s]"
      ]
     },
     "metadata": {},
     "output_type": "display_data"
    },
    {
     "data": {
      "application/vnd.jupyter.widget-view+json": {
       "model_id": "",
       "version_major": 2,
       "version_minor": 0
      },
      "text/plain": [
       "Validating: 0it [00:00, ?it/s]"
      ]
     },
     "metadata": {},
     "output_type": "display_data"
    },
    {
     "data": {
      "application/vnd.jupyter.widget-view+json": {
       "model_id": "",
       "version_major": 2,
       "version_minor": 0
      },
      "text/plain": [
       "Validating: 0it [00:00, ?it/s]"
      ]
     },
     "metadata": {},
     "output_type": "display_data"
    },
    {
     "data": {
      "application/vnd.jupyter.widget-view+json": {
       "model_id": "",
       "version_major": 2,
       "version_minor": 0
      },
      "text/plain": [
       "Validating: 0it [00:00, ?it/s]"
      ]
     },
     "metadata": {},
     "output_type": "display_data"
    },
    {
     "data": {
      "application/vnd.jupyter.widget-view+json": {
       "model_id": "",
       "version_major": 2,
       "version_minor": 0
      },
      "text/plain": [
       "Validating: 0it [00:00, ?it/s]"
      ]
     },
     "metadata": {},
     "output_type": "display_data"
    },
    {
     "data": {
      "application/vnd.jupyter.widget-view+json": {
       "model_id": "",
       "version_major": 2,
       "version_minor": 0
      },
      "text/plain": [
       "Validating: 0it [00:00, ?it/s]"
      ]
     },
     "metadata": {},
     "output_type": "display_data"
    },
    {
     "data": {
      "application/vnd.jupyter.widget-view+json": {
       "model_id": "",
       "version_major": 2,
       "version_minor": 0
      },
      "text/plain": [
       "Validating: 0it [00:00, ?it/s]"
      ]
     },
     "metadata": {},
     "output_type": "display_data"
    },
    {
     "data": {
      "application/vnd.jupyter.widget-view+json": {
       "model_id": "",
       "version_major": 2,
       "version_minor": 0
      },
      "text/plain": [
       "Validating: 0it [00:00, ?it/s]"
      ]
     },
     "metadata": {},
     "output_type": "display_data"
    },
    {
     "data": {
      "application/vnd.jupyter.widget-view+json": {
       "model_id": "",
       "version_major": 2,
       "version_minor": 0
      },
      "text/plain": [
       "Validating: 0it [00:00, ?it/s]"
      ]
     },
     "metadata": {},
     "output_type": "display_data"
    },
    {
     "data": {
      "application/vnd.jupyter.widget-view+json": {
       "model_id": "",
       "version_major": 2,
       "version_minor": 0
      },
      "text/plain": [
       "Validating: 0it [00:00, ?it/s]"
      ]
     },
     "metadata": {},
     "output_type": "display_data"
    },
    {
     "data": {
      "application/vnd.jupyter.widget-view+json": {
       "model_id": "",
       "version_major": 2,
       "version_minor": 0
      },
      "text/plain": [
       "Validating: 0it [00:00, ?it/s]"
      ]
     },
     "metadata": {},
     "output_type": "display_data"
    },
    {
     "data": {
      "application/vnd.jupyter.widget-view+json": {
       "model_id": "",
       "version_major": 2,
       "version_minor": 0
      },
      "text/plain": [
       "Validating: 0it [00:00, ?it/s]"
      ]
     },
     "metadata": {},
     "output_type": "display_data"
    },
    {
     "data": {
      "application/vnd.jupyter.widget-view+json": {
       "model_id": "",
       "version_major": 2,
       "version_minor": 0
      },
      "text/plain": [
       "Validating: 0it [00:00, ?it/s]"
      ]
     },
     "metadata": {},
     "output_type": "display_data"
    },
    {
     "data": {
      "application/vnd.jupyter.widget-view+json": {
       "model_id": "",
       "version_major": 2,
       "version_minor": 0
      },
      "text/plain": [
       "Validating: 0it [00:00, ?it/s]"
      ]
     },
     "metadata": {},
     "output_type": "display_data"
    },
    {
     "data": {
      "application/vnd.jupyter.widget-view+json": {
       "model_id": "",
       "version_major": 2,
       "version_minor": 0
      },
      "text/plain": [
       "Validating: 0it [00:00, ?it/s]"
      ]
     },
     "metadata": {},
     "output_type": "display_data"
    },
    {
     "data": {
      "application/vnd.jupyter.widget-view+json": {
       "model_id": "",
       "version_major": 2,
       "version_minor": 0
      },
      "text/plain": [
       "Validating: 0it [00:00, ?it/s]"
      ]
     },
     "metadata": {},
     "output_type": "display_data"
    },
    {
     "data": {
      "application/vnd.jupyter.widget-view+json": {
       "model_id": "",
       "version_major": 2,
       "version_minor": 0
      },
      "text/plain": [
       "Validating: 0it [00:00, ?it/s]"
      ]
     },
     "metadata": {},
     "output_type": "display_data"
    },
    {
     "data": {
      "application/vnd.jupyter.widget-view+json": {
       "model_id": "",
       "version_major": 2,
       "version_minor": 0
      },
      "text/plain": [
       "Validating: 0it [00:00, ?it/s]"
      ]
     },
     "metadata": {},
     "output_type": "display_data"
    },
    {
     "data": {
      "application/vnd.jupyter.widget-view+json": {
       "model_id": "",
       "version_major": 2,
       "version_minor": 0
      },
      "text/plain": [
       "Validating: 0it [00:00, ?it/s]"
      ]
     },
     "metadata": {},
     "output_type": "display_data"
    },
    {
     "data": {
      "application/vnd.jupyter.widget-view+json": {
       "model_id": "",
       "version_major": 2,
       "version_minor": 0
      },
      "text/plain": [
       "Validating: 0it [00:00, ?it/s]"
      ]
     },
     "metadata": {},
     "output_type": "display_data"
    },
    {
     "data": {
      "application/vnd.jupyter.widget-view+json": {
       "model_id": "",
       "version_major": 2,
       "version_minor": 0
      },
      "text/plain": [
       "Validating: 0it [00:00, ?it/s]"
      ]
     },
     "metadata": {},
     "output_type": "display_data"
    },
    {
     "data": {
      "application/vnd.jupyter.widget-view+json": {
       "model_id": "",
       "version_major": 2,
       "version_minor": 0
      },
      "text/plain": [
       "Validating: 0it [00:00, ?it/s]"
      ]
     },
     "metadata": {},
     "output_type": "display_data"
    },
    {
     "data": {
      "application/vnd.jupyter.widget-view+json": {
       "model_id": "",
       "version_major": 2,
       "version_minor": 0
      },
      "text/plain": [
       "Validating: 0it [00:00, ?it/s]"
      ]
     },
     "metadata": {},
     "output_type": "display_data"
    },
    {
     "data": {
      "application/vnd.jupyter.widget-view+json": {
       "model_id": "",
       "version_major": 2,
       "version_minor": 0
      },
      "text/plain": [
       "Validating: 0it [00:00, ?it/s]"
      ]
     },
     "metadata": {},
     "output_type": "display_data"
    },
    {
     "data": {
      "application/vnd.jupyter.widget-view+json": {
       "model_id": "",
       "version_major": 2,
       "version_minor": 0
      },
      "text/plain": [
       "Validating: 0it [00:00, ?it/s]"
      ]
     },
     "metadata": {},
     "output_type": "display_data"
    },
    {
     "data": {
      "application/vnd.jupyter.widget-view+json": {
       "model_id": "",
       "version_major": 2,
       "version_minor": 0
      },
      "text/plain": [
       "Validating: 0it [00:00, ?it/s]"
      ]
     },
     "metadata": {},
     "output_type": "display_data"
    },
    {
     "data": {
      "application/vnd.jupyter.widget-view+json": {
       "model_id": "",
       "version_major": 2,
       "version_minor": 0
      },
      "text/plain": [
       "Validating: 0it [00:00, ?it/s]"
      ]
     },
     "metadata": {},
     "output_type": "display_data"
    },
    {
     "data": {
      "application/vnd.jupyter.widget-view+json": {
       "model_id": "",
       "version_major": 2,
       "version_minor": 0
      },
      "text/plain": [
       "Validating: 0it [00:00, ?it/s]"
      ]
     },
     "metadata": {},
     "output_type": "display_data"
    },
    {
     "data": {
      "application/vnd.jupyter.widget-view+json": {
       "model_id": "",
       "version_major": 2,
       "version_minor": 0
      },
      "text/plain": [
       "Validating: 0it [00:00, ?it/s]"
      ]
     },
     "metadata": {},
     "output_type": "display_data"
    },
    {
     "data": {
      "application/vnd.jupyter.widget-view+json": {
       "model_id": "",
       "version_major": 2,
       "version_minor": 0
      },
      "text/plain": [
       "Validating: 0it [00:00, ?it/s]"
      ]
     },
     "metadata": {},
     "output_type": "display_data"
    },
    {
     "data": {
      "application/vnd.jupyter.widget-view+json": {
       "model_id": "",
       "version_major": 2,
       "version_minor": 0
      },
      "text/plain": [
       "Validating: 0it [00:00, ?it/s]"
      ]
     },
     "metadata": {},
     "output_type": "display_data"
    },
    {
     "data": {
      "application/vnd.jupyter.widget-view+json": {
       "model_id": "",
       "version_major": 2,
       "version_minor": 0
      },
      "text/plain": [
       "Validating: 0it [00:00, ?it/s]"
      ]
     },
     "metadata": {},
     "output_type": "display_data"
    },
    {
     "data": {
      "application/vnd.jupyter.widget-view+json": {
       "model_id": "",
       "version_major": 2,
       "version_minor": 0
      },
      "text/plain": [
       "Validating: 0it [00:00, ?it/s]"
      ]
     },
     "metadata": {},
     "output_type": "display_data"
    },
    {
     "data": {
      "application/vnd.jupyter.widget-view+json": {
       "model_id": "",
       "version_major": 2,
       "version_minor": 0
      },
      "text/plain": [
       "Validating: 0it [00:00, ?it/s]"
      ]
     },
     "metadata": {},
     "output_type": "display_data"
    },
    {
     "data": {
      "application/vnd.jupyter.widget-view+json": {
       "model_id": "",
       "version_major": 2,
       "version_minor": 0
      },
      "text/plain": [
       "Validating: 0it [00:00, ?it/s]"
      ]
     },
     "metadata": {},
     "output_type": "display_data"
    },
    {
     "data": {
      "application/vnd.jupyter.widget-view+json": {
       "model_id": "",
       "version_major": 2,
       "version_minor": 0
      },
      "text/plain": [
       "Validating: 0it [00:00, ?it/s]"
      ]
     },
     "metadata": {},
     "output_type": "display_data"
    },
    {
     "data": {
      "application/vnd.jupyter.widget-view+json": {
       "model_id": "",
       "version_major": 2,
       "version_minor": 0
      },
      "text/plain": [
       "Validating: 0it [00:00, ?it/s]"
      ]
     },
     "metadata": {},
     "output_type": "display_data"
    },
    {
     "data": {
      "application/vnd.jupyter.widget-view+json": {
       "model_id": "",
       "version_major": 2,
       "version_minor": 0
      },
      "text/plain": [
       "Validating: 0it [00:00, ?it/s]"
      ]
     },
     "metadata": {},
     "output_type": "display_data"
    },
    {
     "data": {
      "application/vnd.jupyter.widget-view+json": {
       "model_id": "",
       "version_major": 2,
       "version_minor": 0
      },
      "text/plain": [
       "Validating: 0it [00:00, ?it/s]"
      ]
     },
     "metadata": {},
     "output_type": "display_data"
    },
    {
     "data": {
      "application/vnd.jupyter.widget-view+json": {
       "model_id": "",
       "version_major": 2,
       "version_minor": 0
      },
      "text/plain": [
       "Validating: 0it [00:00, ?it/s]"
      ]
     },
     "metadata": {},
     "output_type": "display_data"
    },
    {
     "data": {
      "application/vnd.jupyter.widget-view+json": {
       "model_id": "",
       "version_major": 2,
       "version_minor": 0
      },
      "text/plain": [
       "Validating: 0it [00:00, ?it/s]"
      ]
     },
     "metadata": {},
     "output_type": "display_data"
    },
    {
     "data": {
      "application/vnd.jupyter.widget-view+json": {
       "model_id": "",
       "version_major": 2,
       "version_minor": 0
      },
      "text/plain": [
       "Validating: 0it [00:00, ?it/s]"
      ]
     },
     "metadata": {},
     "output_type": "display_data"
    },
    {
     "data": {
      "application/vnd.jupyter.widget-view+json": {
       "model_id": "",
       "version_major": 2,
       "version_minor": 0
      },
      "text/plain": [
       "Validating: 0it [00:00, ?it/s]"
      ]
     },
     "metadata": {},
     "output_type": "display_data"
    },
    {
     "data": {
      "application/vnd.jupyter.widget-view+json": {
       "model_id": "",
       "version_major": 2,
       "version_minor": 0
      },
      "text/plain": [
       "Validating: 0it [00:00, ?it/s]"
      ]
     },
     "metadata": {},
     "output_type": "display_data"
    },
    {
     "data": {
      "application/vnd.jupyter.widget-view+json": {
       "model_id": "",
       "version_major": 2,
       "version_minor": 0
      },
      "text/plain": [
       "Validating: 0it [00:00, ?it/s]"
      ]
     },
     "metadata": {},
     "output_type": "display_data"
    },
    {
     "data": {
      "application/vnd.jupyter.widget-view+json": {
       "model_id": "",
       "version_major": 2,
       "version_minor": 0
      },
      "text/plain": [
       "Validating: 0it [00:00, ?it/s]"
      ]
     },
     "metadata": {},
     "output_type": "display_data"
    },
    {
     "data": {
      "application/vnd.jupyter.widget-view+json": {
       "model_id": "",
       "version_major": 2,
       "version_minor": 0
      },
      "text/plain": [
       "Validating: 0it [00:00, ?it/s]"
      ]
     },
     "metadata": {},
     "output_type": "display_data"
    },
    {
     "data": {
      "application/vnd.jupyter.widget-view+json": {
       "model_id": "",
       "version_major": 2,
       "version_minor": 0
      },
      "text/plain": [
       "Validating: 0it [00:00, ?it/s]"
      ]
     },
     "metadata": {},
     "output_type": "display_data"
    },
    {
     "data": {
      "application/vnd.jupyter.widget-view+json": {
       "model_id": "",
       "version_major": 2,
       "version_minor": 0
      },
      "text/plain": [
       "Validating: 0it [00:00, ?it/s]"
      ]
     },
     "metadata": {},
     "output_type": "display_data"
    },
    {
     "data": {
      "application/vnd.jupyter.widget-view+json": {
       "model_id": "",
       "version_major": 2,
       "version_minor": 0
      },
      "text/plain": [
       "Validating: 0it [00:00, ?it/s]"
      ]
     },
     "metadata": {},
     "output_type": "display_data"
    },
    {
     "data": {
      "application/vnd.jupyter.widget-view+json": {
       "model_id": "",
       "version_major": 2,
       "version_minor": 0
      },
      "text/plain": [
       "Validating: 0it [00:00, ?it/s]"
      ]
     },
     "metadata": {},
     "output_type": "display_data"
    },
    {
     "data": {
      "application/vnd.jupyter.widget-view+json": {
       "model_id": "",
       "version_major": 2,
       "version_minor": 0
      },
      "text/plain": [
       "Validating: 0it [00:00, ?it/s]"
      ]
     },
     "metadata": {},
     "output_type": "display_data"
    },
    {
     "data": {
      "application/vnd.jupyter.widget-view+json": {
       "model_id": "",
       "version_major": 2,
       "version_minor": 0
      },
      "text/plain": [
       "Validating: 0it [00:00, ?it/s]"
      ]
     },
     "metadata": {},
     "output_type": "display_data"
    },
    {
     "data": {
      "application/vnd.jupyter.widget-view+json": {
       "model_id": "",
       "version_major": 2,
       "version_minor": 0
      },
      "text/plain": [
       "Validating: 0it [00:00, ?it/s]"
      ]
     },
     "metadata": {},
     "output_type": "display_data"
    },
    {
     "data": {
      "application/vnd.jupyter.widget-view+json": {
       "model_id": "",
       "version_major": 2,
       "version_minor": 0
      },
      "text/plain": [
       "Validating: 0it [00:00, ?it/s]"
      ]
     },
     "metadata": {},
     "output_type": "display_data"
    },
    {
     "data": {
      "application/vnd.jupyter.widget-view+json": {
       "model_id": "",
       "version_major": 2,
       "version_minor": 0
      },
      "text/plain": [
       "Validating: 0it [00:00, ?it/s]"
      ]
     },
     "metadata": {},
     "output_type": "display_data"
    },
    {
     "data": {
      "application/vnd.jupyter.widget-view+json": {
       "model_id": "",
       "version_major": 2,
       "version_minor": 0
      },
      "text/plain": [
       "Validating: 0it [00:00, ?it/s]"
      ]
     },
     "metadata": {},
     "output_type": "display_data"
    },
    {
     "data": {
      "application/vnd.jupyter.widget-view+json": {
       "model_id": "",
       "version_major": 2,
       "version_minor": 0
      },
      "text/plain": [
       "Validating: 0it [00:00, ?it/s]"
      ]
     },
     "metadata": {},
     "output_type": "display_data"
    },
    {
     "data": {
      "application/vnd.jupyter.widget-view+json": {
       "model_id": "",
       "version_major": 2,
       "version_minor": 0
      },
      "text/plain": [
       "Validating: 0it [00:00, ?it/s]"
      ]
     },
     "metadata": {},
     "output_type": "display_data"
    },
    {
     "data": {
      "application/vnd.jupyter.widget-view+json": {
       "model_id": "",
       "version_major": 2,
       "version_minor": 0
      },
      "text/plain": [
       "Validating: 0it [00:00, ?it/s]"
      ]
     },
     "metadata": {},
     "output_type": "display_data"
    },
    {
     "data": {
      "application/vnd.jupyter.widget-view+json": {
       "model_id": "",
       "version_major": 2,
       "version_minor": 0
      },
      "text/plain": [
       "Validating: 0it [00:00, ?it/s]"
      ]
     },
     "metadata": {},
     "output_type": "display_data"
    },
    {
     "data": {
      "application/vnd.jupyter.widget-view+json": {
       "model_id": "",
       "version_major": 2,
       "version_minor": 0
      },
      "text/plain": [
       "Validating: 0it [00:00, ?it/s]"
      ]
     },
     "metadata": {},
     "output_type": "display_data"
    },
    {
     "data": {
      "application/vnd.jupyter.widget-view+json": {
       "model_id": "",
       "version_major": 2,
       "version_minor": 0
      },
      "text/plain": [
       "Validating: 0it [00:00, ?it/s]"
      ]
     },
     "metadata": {},
     "output_type": "display_data"
    },
    {
     "data": {
      "application/vnd.jupyter.widget-view+json": {
       "model_id": "",
       "version_major": 2,
       "version_minor": 0
      },
      "text/plain": [
       "Validating: 0it [00:00, ?it/s]"
      ]
     },
     "metadata": {},
     "output_type": "display_data"
    },
    {
     "data": {
      "application/vnd.jupyter.widget-view+json": {
       "model_id": "",
       "version_major": 2,
       "version_minor": 0
      },
      "text/plain": [
       "Validating: 0it [00:00, ?it/s]"
      ]
     },
     "metadata": {},
     "output_type": "display_data"
    },
    {
     "data": {
      "application/vnd.jupyter.widget-view+json": {
       "model_id": "",
       "version_major": 2,
       "version_minor": 0
      },
      "text/plain": [
       "Validating: 0it [00:00, ?it/s]"
      ]
     },
     "metadata": {},
     "output_type": "display_data"
    },
    {
     "data": {
      "application/vnd.jupyter.widget-view+json": {
       "model_id": "",
       "version_major": 2,
       "version_minor": 0
      },
      "text/plain": [
       "Validating: 0it [00:00, ?it/s]"
      ]
     },
     "metadata": {},
     "output_type": "display_data"
    },
    {
     "data": {
      "application/vnd.jupyter.widget-view+json": {
       "model_id": "",
       "version_major": 2,
       "version_minor": 0
      },
      "text/plain": [
       "Validating: 0it [00:00, ?it/s]"
      ]
     },
     "metadata": {},
     "output_type": "display_data"
    },
    {
     "data": {
      "application/vnd.jupyter.widget-view+json": {
       "model_id": "",
       "version_major": 2,
       "version_minor": 0
      },
      "text/plain": [
       "Validating: 0it [00:00, ?it/s]"
      ]
     },
     "metadata": {},
     "output_type": "display_data"
    },
    {
     "data": {
      "application/vnd.jupyter.widget-view+json": {
       "model_id": "",
       "version_major": 2,
       "version_minor": 0
      },
      "text/plain": [
       "Validating: 0it [00:00, ?it/s]"
      ]
     },
     "metadata": {},
     "output_type": "display_data"
    },
    {
     "data": {
      "application/vnd.jupyter.widget-view+json": {
       "model_id": "",
       "version_major": 2,
       "version_minor": 0
      },
      "text/plain": [
       "Validating: 0it [00:00, ?it/s]"
      ]
     },
     "metadata": {},
     "output_type": "display_data"
    },
    {
     "data": {
      "application/vnd.jupyter.widget-view+json": {
       "model_id": "",
       "version_major": 2,
       "version_minor": 0
      },
      "text/plain": [
       "Validating: 0it [00:00, ?it/s]"
      ]
     },
     "metadata": {},
     "output_type": "display_data"
    },
    {
     "data": {
      "application/vnd.jupyter.widget-view+json": {
       "model_id": "",
       "version_major": 2,
       "version_minor": 0
      },
      "text/plain": [
       "Validating: 0it [00:00, ?it/s]"
      ]
     },
     "metadata": {},
     "output_type": "display_data"
    },
    {
     "data": {
      "application/vnd.jupyter.widget-view+json": {
       "model_id": "",
       "version_major": 2,
       "version_minor": 0
      },
      "text/plain": [
       "Validating: 0it [00:00, ?it/s]"
      ]
     },
     "metadata": {},
     "output_type": "display_data"
    },
    {
     "data": {
      "application/vnd.jupyter.widget-view+json": {
       "model_id": "",
       "version_major": 2,
       "version_minor": 0
      },
      "text/plain": [
       "Validating: 0it [00:00, ?it/s]"
      ]
     },
     "metadata": {},
     "output_type": "display_data"
    },
    {
     "data": {
      "application/vnd.jupyter.widget-view+json": {
       "model_id": "",
       "version_major": 2,
       "version_minor": 0
      },
      "text/plain": [
       "Validating: 0it [00:00, ?it/s]"
      ]
     },
     "metadata": {},
     "output_type": "display_data"
    },
    {
     "data": {
      "application/vnd.jupyter.widget-view+json": {
       "model_id": "",
       "version_major": 2,
       "version_minor": 0
      },
      "text/plain": [
       "Validating: 0it [00:00, ?it/s]"
      ]
     },
     "metadata": {},
     "output_type": "display_data"
    },
    {
     "data": {
      "application/vnd.jupyter.widget-view+json": {
       "model_id": "",
       "version_major": 2,
       "version_minor": 0
      },
      "text/plain": [
       "Validating: 0it [00:00, ?it/s]"
      ]
     },
     "metadata": {},
     "output_type": "display_data"
    },
    {
     "data": {
      "application/vnd.jupyter.widget-view+json": {
       "model_id": "",
       "version_major": 2,
       "version_minor": 0
      },
      "text/plain": [
       "Validating: 0it [00:00, ?it/s]"
      ]
     },
     "metadata": {},
     "output_type": "display_data"
    },
    {
     "data": {
      "application/vnd.jupyter.widget-view+json": {
       "model_id": "",
       "version_major": 2,
       "version_minor": 0
      },
      "text/plain": [
       "Validating: 0it [00:00, ?it/s]"
      ]
     },
     "metadata": {},
     "output_type": "display_data"
    },
    {
     "data": {
      "application/vnd.jupyter.widget-view+json": {
       "model_id": "",
       "version_major": 2,
       "version_minor": 0
      },
      "text/plain": [
       "Validating: 0it [00:00, ?it/s]"
      ]
     },
     "metadata": {},
     "output_type": "display_data"
    },
    {
     "data": {
      "application/vnd.jupyter.widget-view+json": {
       "model_id": "",
       "version_major": 2,
       "version_minor": 0
      },
      "text/plain": [
       "Validating: 0it [00:00, ?it/s]"
      ]
     },
     "metadata": {},
     "output_type": "display_data"
    },
    {
     "data": {
      "application/vnd.jupyter.widget-view+json": {
       "model_id": "",
       "version_major": 2,
       "version_minor": 0
      },
      "text/plain": [
       "Validating: 0it [00:00, ?it/s]"
      ]
     },
     "metadata": {},
     "output_type": "display_data"
    },
    {
     "data": {
      "application/vnd.jupyter.widget-view+json": {
       "model_id": "",
       "version_major": 2,
       "version_minor": 0
      },
      "text/plain": [
       "Validating: 0it [00:00, ?it/s]"
      ]
     },
     "metadata": {},
     "output_type": "display_data"
    },
    {
     "data": {
      "application/vnd.jupyter.widget-view+json": {
       "model_id": "",
       "version_major": 2,
       "version_minor": 0
      },
      "text/plain": [
       "Validating: 0it [00:00, ?it/s]"
      ]
     },
     "metadata": {},
     "output_type": "display_data"
    },
    {
     "data": {
      "application/vnd.jupyter.widget-view+json": {
       "model_id": "",
       "version_major": 2,
       "version_minor": 0
      },
      "text/plain": [
       "Validating: 0it [00:00, ?it/s]"
      ]
     },
     "metadata": {},
     "output_type": "display_data"
    },
    {
     "data": {
      "application/vnd.jupyter.widget-view+json": {
       "model_id": "",
       "version_major": 2,
       "version_minor": 0
      },
      "text/plain": [
       "Validating: 0it [00:00, ?it/s]"
      ]
     },
     "metadata": {},
     "output_type": "display_data"
    },
    {
     "data": {
      "application/vnd.jupyter.widget-view+json": {
       "model_id": "",
       "version_major": 2,
       "version_minor": 0
      },
      "text/plain": [
       "Validating: 0it [00:00, ?it/s]"
      ]
     },
     "metadata": {},
     "output_type": "display_data"
    },
    {
     "data": {
      "application/vnd.jupyter.widget-view+json": {
       "model_id": "",
       "version_major": 2,
       "version_minor": 0
      },
      "text/plain": [
       "Validating: 0it [00:00, ?it/s]"
      ]
     },
     "metadata": {},
     "output_type": "display_data"
    },
    {
     "data": {
      "application/vnd.jupyter.widget-view+json": {
       "model_id": "",
       "version_major": 2,
       "version_minor": 0
      },
      "text/plain": [
       "Validating: 0it [00:00, ?it/s]"
      ]
     },
     "metadata": {},
     "output_type": "display_data"
    },
    {
     "data": {
      "application/vnd.jupyter.widget-view+json": {
       "model_id": "",
       "version_major": 2,
       "version_minor": 0
      },
      "text/plain": [
       "Validating: 0it [00:00, ?it/s]"
      ]
     },
     "metadata": {},
     "output_type": "display_data"
    },
    {
     "data": {
      "application/vnd.jupyter.widget-view+json": {
       "model_id": "",
       "version_major": 2,
       "version_minor": 0
      },
      "text/plain": [
       "Validating: 0it [00:00, ?it/s]"
      ]
     },
     "metadata": {},
     "output_type": "display_data"
    },
    {
     "data": {
      "application/vnd.jupyter.widget-view+json": {
       "model_id": "",
       "version_major": 2,
       "version_minor": 0
      },
      "text/plain": [
       "Validating: 0it [00:00, ?it/s]"
      ]
     },
     "metadata": {},
     "output_type": "display_data"
    },
    {
     "data": {
      "application/vnd.jupyter.widget-view+json": {
       "model_id": "",
       "version_major": 2,
       "version_minor": 0
      },
      "text/plain": [
       "Validating: 0it [00:00, ?it/s]"
      ]
     },
     "metadata": {},
     "output_type": "display_data"
    },
    {
     "data": {
      "application/vnd.jupyter.widget-view+json": {
       "model_id": "",
       "version_major": 2,
       "version_minor": 0
      },
      "text/plain": [
       "Validating: 0it [00:00, ?it/s]"
      ]
     },
     "metadata": {},
     "output_type": "display_data"
    },
    {
     "data": {
      "application/vnd.jupyter.widget-view+json": {
       "model_id": "",
       "version_major": 2,
       "version_minor": 0
      },
      "text/plain": [
       "Validating: 0it [00:00, ?it/s]"
      ]
     },
     "metadata": {},
     "output_type": "display_data"
    },
    {
     "data": {
      "application/vnd.jupyter.widget-view+json": {
       "model_id": "",
       "version_major": 2,
       "version_minor": 0
      },
      "text/plain": [
       "Validating: 0it [00:00, ?it/s]"
      ]
     },
     "metadata": {},
     "output_type": "display_data"
    },
    {
     "data": {
      "application/vnd.jupyter.widget-view+json": {
       "model_id": "",
       "version_major": 2,
       "version_minor": 0
      },
      "text/plain": [
       "Validating: 0it [00:00, ?it/s]"
      ]
     },
     "metadata": {},
     "output_type": "display_data"
    },
    {
     "data": {
      "application/vnd.jupyter.widget-view+json": {
       "model_id": "",
       "version_major": 2,
       "version_minor": 0
      },
      "text/plain": [
       "Validating: 0it [00:00, ?it/s]"
      ]
     },
     "metadata": {},
     "output_type": "display_data"
    },
    {
     "data": {
      "application/vnd.jupyter.widget-view+json": {
       "model_id": "",
       "version_major": 2,
       "version_minor": 0
      },
      "text/plain": [
       "Validating: 0it [00:00, ?it/s]"
      ]
     },
     "metadata": {},
     "output_type": "display_data"
    },
    {
     "data": {
      "application/vnd.jupyter.widget-view+json": {
       "model_id": "",
       "version_major": 2,
       "version_minor": 0
      },
      "text/plain": [
       "Validating: 0it [00:00, ?it/s]"
      ]
     },
     "metadata": {},
     "output_type": "display_data"
    },
    {
     "data": {
      "application/vnd.jupyter.widget-view+json": {
       "model_id": "",
       "version_major": 2,
       "version_minor": 0
      },
      "text/plain": [
       "Validating: 0it [00:00, ?it/s]"
      ]
     },
     "metadata": {},
     "output_type": "display_data"
    },
    {
     "data": {
      "application/vnd.jupyter.widget-view+json": {
       "model_id": "",
       "version_major": 2,
       "version_minor": 0
      },
      "text/plain": [
       "Validating: 0it [00:00, ?it/s]"
      ]
     },
     "metadata": {},
     "output_type": "display_data"
    },
    {
     "data": {
      "application/vnd.jupyter.widget-view+json": {
       "model_id": "",
       "version_major": 2,
       "version_minor": 0
      },
      "text/plain": [
       "Validating: 0it [00:00, ?it/s]"
      ]
     },
     "metadata": {},
     "output_type": "display_data"
    },
    {
     "data": {
      "application/vnd.jupyter.widget-view+json": {
       "model_id": "",
       "version_major": 2,
       "version_minor": 0
      },
      "text/plain": [
       "Validating: 0it [00:00, ?it/s]"
      ]
     },
     "metadata": {},
     "output_type": "display_data"
    },
    {
     "data": {
      "application/vnd.jupyter.widget-view+json": {
       "model_id": "",
       "version_major": 2,
       "version_minor": 0
      },
      "text/plain": [
       "Validating: 0it [00:00, ?it/s]"
      ]
     },
     "metadata": {},
     "output_type": "display_data"
    },
    {
     "data": {
      "application/vnd.jupyter.widget-view+json": {
       "model_id": "",
       "version_major": 2,
       "version_minor": 0
      },
      "text/plain": [
       "Validating: 0it [00:00, ?it/s]"
      ]
     },
     "metadata": {},
     "output_type": "display_data"
    },
    {
     "data": {
      "application/vnd.jupyter.widget-view+json": {
       "model_id": "",
       "version_major": 2,
       "version_minor": 0
      },
      "text/plain": [
       "Validating: 0it [00:00, ?it/s]"
      ]
     },
     "metadata": {},
     "output_type": "display_data"
    },
    {
     "data": {
      "application/vnd.jupyter.widget-view+json": {
       "model_id": "",
       "version_major": 2,
       "version_minor": 0
      },
      "text/plain": [
       "Validating: 0it [00:00, ?it/s]"
      ]
     },
     "metadata": {},
     "output_type": "display_data"
    },
    {
     "data": {
      "application/vnd.jupyter.widget-view+json": {
       "model_id": "",
       "version_major": 2,
       "version_minor": 0
      },
      "text/plain": [
       "Validating: 0it [00:00, ?it/s]"
      ]
     },
     "metadata": {},
     "output_type": "display_data"
    },
    {
     "data": {
      "application/vnd.jupyter.widget-view+json": {
       "model_id": "",
       "version_major": 2,
       "version_minor": 0
      },
      "text/plain": [
       "Validating: 0it [00:00, ?it/s]"
      ]
     },
     "metadata": {},
     "output_type": "display_data"
    },
    {
     "data": {
      "application/vnd.jupyter.widget-view+json": {
       "model_id": "",
       "version_major": 2,
       "version_minor": 0
      },
      "text/plain": [
       "Validating: 0it [00:00, ?it/s]"
      ]
     },
     "metadata": {},
     "output_type": "display_data"
    },
    {
     "data": {
      "application/vnd.jupyter.widget-view+json": {
       "model_id": "",
       "version_major": 2,
       "version_minor": 0
      },
      "text/plain": [
       "Validating: 0it [00:00, ?it/s]"
      ]
     },
     "metadata": {},
     "output_type": "display_data"
    },
    {
     "data": {
      "application/vnd.jupyter.widget-view+json": {
       "model_id": "",
       "version_major": 2,
       "version_minor": 0
      },
      "text/plain": [
       "Validating: 0it [00:00, ?it/s]"
      ]
     },
     "metadata": {},
     "output_type": "display_data"
    },
    {
     "data": {
      "application/vnd.jupyter.widget-view+json": {
       "model_id": "",
       "version_major": 2,
       "version_minor": 0
      },
      "text/plain": [
       "Validating: 0it [00:00, ?it/s]"
      ]
     },
     "metadata": {},
     "output_type": "display_data"
    },
    {
     "data": {
      "application/vnd.jupyter.widget-view+json": {
       "model_id": "",
       "version_major": 2,
       "version_minor": 0
      },
      "text/plain": [
       "Validating: 0it [00:00, ?it/s]"
      ]
     },
     "metadata": {},
     "output_type": "display_data"
    },
    {
     "data": {
      "application/vnd.jupyter.widget-view+json": {
       "model_id": "",
       "version_major": 2,
       "version_minor": 0
      },
      "text/plain": [
       "Validating: 0it [00:00, ?it/s]"
      ]
     },
     "metadata": {},
     "output_type": "display_data"
    },
    {
     "data": {
      "application/vnd.jupyter.widget-view+json": {
       "model_id": "",
       "version_major": 2,
       "version_minor": 0
      },
      "text/plain": [
       "Validating: 0it [00:00, ?it/s]"
      ]
     },
     "metadata": {},
     "output_type": "display_data"
    },
    {
     "data": {
      "application/vnd.jupyter.widget-view+json": {
       "model_id": "",
       "version_major": 2,
       "version_minor": 0
      },
      "text/plain": [
       "Validating: 0it [00:00, ?it/s]"
      ]
     },
     "metadata": {},
     "output_type": "display_data"
    },
    {
     "data": {
      "application/vnd.jupyter.widget-view+json": {
       "model_id": "",
       "version_major": 2,
       "version_minor": 0
      },
      "text/plain": [
       "Validating: 0it [00:00, ?it/s]"
      ]
     },
     "metadata": {},
     "output_type": "display_data"
    },
    {
     "data": {
      "application/vnd.jupyter.widget-view+json": {
       "model_id": "",
       "version_major": 2,
       "version_minor": 0
      },
      "text/plain": [
       "Validating: 0it [00:00, ?it/s]"
      ]
     },
     "metadata": {},
     "output_type": "display_data"
    },
    {
     "data": {
      "application/vnd.jupyter.widget-view+json": {
       "model_id": "",
       "version_major": 2,
       "version_minor": 0
      },
      "text/plain": [
       "Validating: 0it [00:00, ?it/s]"
      ]
     },
     "metadata": {},
     "output_type": "display_data"
    },
    {
     "data": {
      "application/vnd.jupyter.widget-view+json": {
       "model_id": "",
       "version_major": 2,
       "version_minor": 0
      },
      "text/plain": [
       "Validating: 0it [00:00, ?it/s]"
      ]
     },
     "metadata": {},
     "output_type": "display_data"
    },
    {
     "data": {
      "application/vnd.jupyter.widget-view+json": {
       "model_id": "",
       "version_major": 2,
       "version_minor": 0
      },
      "text/plain": [
       "Validating: 0it [00:00, ?it/s]"
      ]
     },
     "metadata": {},
     "output_type": "display_data"
    },
    {
     "data": {
      "application/vnd.jupyter.widget-view+json": {
       "model_id": "",
       "version_major": 2,
       "version_minor": 0
      },
      "text/plain": [
       "Validating: 0it [00:00, ?it/s]"
      ]
     },
     "metadata": {},
     "output_type": "display_data"
    },
    {
     "data": {
      "application/vnd.jupyter.widget-view+json": {
       "model_id": "",
       "version_major": 2,
       "version_minor": 0
      },
      "text/plain": [
       "Validating: 0it [00:00, ?it/s]"
      ]
     },
     "metadata": {},
     "output_type": "display_data"
    },
    {
     "data": {
      "application/vnd.jupyter.widget-view+json": {
       "model_id": "",
       "version_major": 2,
       "version_minor": 0
      },
      "text/plain": [
       "Validating: 0it [00:00, ?it/s]"
      ]
     },
     "metadata": {},
     "output_type": "display_data"
    },
    {
     "data": {
      "application/vnd.jupyter.widget-view+json": {
       "model_id": "",
       "version_major": 2,
       "version_minor": 0
      },
      "text/plain": [
       "Validating: 0it [00:00, ?it/s]"
      ]
     },
     "metadata": {},
     "output_type": "display_data"
    },
    {
     "data": {
      "application/vnd.jupyter.widget-view+json": {
       "model_id": "",
       "version_major": 2,
       "version_minor": 0
      },
      "text/plain": [
       "Validating: 0it [00:00, ?it/s]"
      ]
     },
     "metadata": {},
     "output_type": "display_data"
    },
    {
     "data": {
      "application/vnd.jupyter.widget-view+json": {
       "model_id": "",
       "version_major": 2,
       "version_minor": 0
      },
      "text/plain": [
       "Validating: 0it [00:00, ?it/s]"
      ]
     },
     "metadata": {},
     "output_type": "display_data"
    },
    {
     "data": {
      "application/vnd.jupyter.widget-view+json": {
       "model_id": "",
       "version_major": 2,
       "version_minor": 0
      },
      "text/plain": [
       "Validating: 0it [00:00, ?it/s]"
      ]
     },
     "metadata": {},
     "output_type": "display_data"
    },
    {
     "data": {
      "application/vnd.jupyter.widget-view+json": {
       "model_id": "",
       "version_major": 2,
       "version_minor": 0
      },
      "text/plain": [
       "Validating: 0it [00:00, ?it/s]"
      ]
     },
     "metadata": {},
     "output_type": "display_data"
    },
    {
     "data": {
      "application/vnd.jupyter.widget-view+json": {
       "model_id": "",
       "version_major": 2,
       "version_minor": 0
      },
      "text/plain": [
       "Validating: 0it [00:00, ?it/s]"
      ]
     },
     "metadata": {},
     "output_type": "display_data"
    },
    {
     "data": {
      "application/vnd.jupyter.widget-view+json": {
       "model_id": "",
       "version_major": 2,
       "version_minor": 0
      },
      "text/plain": [
       "Validating: 0it [00:00, ?it/s]"
      ]
     },
     "metadata": {},
     "output_type": "display_data"
    },
    {
     "data": {
      "application/vnd.jupyter.widget-view+json": {
       "model_id": "",
       "version_major": 2,
       "version_minor": 0
      },
      "text/plain": [
       "Validating: 0it [00:00, ?it/s]"
      ]
     },
     "metadata": {},
     "output_type": "display_data"
    },
    {
     "data": {
      "application/vnd.jupyter.widget-view+json": {
       "model_id": "",
       "version_major": 2,
       "version_minor": 0
      },
      "text/plain": [
       "Validating: 0it [00:00, ?it/s]"
      ]
     },
     "metadata": {},
     "output_type": "display_data"
    },
    {
     "data": {
      "application/vnd.jupyter.widget-view+json": {
       "model_id": "",
       "version_major": 2,
       "version_minor": 0
      },
      "text/plain": [
       "Validating: 0it [00:00, ?it/s]"
      ]
     },
     "metadata": {},
     "output_type": "display_data"
    },
    {
     "data": {
      "application/vnd.jupyter.widget-view+json": {
       "model_id": "",
       "version_major": 2,
       "version_minor": 0
      },
      "text/plain": [
       "Validating: 0it [00:00, ?it/s]"
      ]
     },
     "metadata": {},
     "output_type": "display_data"
    },
    {
     "data": {
      "application/vnd.jupyter.widget-view+json": {
       "model_id": "",
       "version_major": 2,
       "version_minor": 0
      },
      "text/plain": [
       "Validating: 0it [00:00, ?it/s]"
      ]
     },
     "metadata": {},
     "output_type": "display_data"
    },
    {
     "data": {
      "application/vnd.jupyter.widget-view+json": {
       "model_id": "",
       "version_major": 2,
       "version_minor": 0
      },
      "text/plain": [
       "Validating: 0it [00:00, ?it/s]"
      ]
     },
     "metadata": {},
     "output_type": "display_data"
    },
    {
     "data": {
      "application/vnd.jupyter.widget-view+json": {
       "model_id": "",
       "version_major": 2,
       "version_minor": 0
      },
      "text/plain": [
       "Validating: 0it [00:00, ?it/s]"
      ]
     },
     "metadata": {},
     "output_type": "display_data"
    },
    {
     "data": {
      "application/vnd.jupyter.widget-view+json": {
       "model_id": "",
       "version_major": 2,
       "version_minor": 0
      },
      "text/plain": [
       "Validating: 0it [00:00, ?it/s]"
      ]
     },
     "metadata": {},
     "output_type": "display_data"
    },
    {
     "data": {
      "application/vnd.jupyter.widget-view+json": {
       "model_id": "",
       "version_major": 2,
       "version_minor": 0
      },
      "text/plain": [
       "Validating: 0it [00:00, ?it/s]"
      ]
     },
     "metadata": {},
     "output_type": "display_data"
    },
    {
     "data": {
      "application/vnd.jupyter.widget-view+json": {
       "model_id": "",
       "version_major": 2,
       "version_minor": 0
      },
      "text/plain": [
       "Validating: 0it [00:00, ?it/s]"
      ]
     },
     "metadata": {},
     "output_type": "display_data"
    },
    {
     "data": {
      "application/vnd.jupyter.widget-view+json": {
       "model_id": "",
       "version_major": 2,
       "version_minor": 0
      },
      "text/plain": [
       "Validating: 0it [00:00, ?it/s]"
      ]
     },
     "metadata": {},
     "output_type": "display_data"
    },
    {
     "data": {
      "application/vnd.jupyter.widget-view+json": {
       "model_id": "",
       "version_major": 2,
       "version_minor": 0
      },
      "text/plain": [
       "Validating: 0it [00:00, ?it/s]"
      ]
     },
     "metadata": {},
     "output_type": "display_data"
    },
    {
     "data": {
      "application/vnd.jupyter.widget-view+json": {
       "model_id": "",
       "version_major": 2,
       "version_minor": 0
      },
      "text/plain": [
       "Validating: 0it [00:00, ?it/s]"
      ]
     },
     "metadata": {},
     "output_type": "display_data"
    },
    {
     "data": {
      "application/vnd.jupyter.widget-view+json": {
       "model_id": "",
       "version_major": 2,
       "version_minor": 0
      },
      "text/plain": [
       "Validating: 0it [00:00, ?it/s]"
      ]
     },
     "metadata": {},
     "output_type": "display_data"
    },
    {
     "data": {
      "application/vnd.jupyter.widget-view+json": {
       "model_id": "",
       "version_major": 2,
       "version_minor": 0
      },
      "text/plain": [
       "Validating: 0it [00:00, ?it/s]"
      ]
     },
     "metadata": {},
     "output_type": "display_data"
    },
    {
     "data": {
      "application/vnd.jupyter.widget-view+json": {
       "model_id": "",
       "version_major": 2,
       "version_minor": 0
      },
      "text/plain": [
       "Validating: 0it [00:00, ?it/s]"
      ]
     },
     "metadata": {},
     "output_type": "display_data"
    },
    {
     "data": {
      "application/vnd.jupyter.widget-view+json": {
       "model_id": "",
       "version_major": 2,
       "version_minor": 0
      },
      "text/plain": [
       "Validating: 0it [00:00, ?it/s]"
      ]
     },
     "metadata": {},
     "output_type": "display_data"
    },
    {
     "data": {
      "application/vnd.jupyter.widget-view+json": {
       "model_id": "",
       "version_major": 2,
       "version_minor": 0
      },
      "text/plain": [
       "Validating: 0it [00:00, ?it/s]"
      ]
     },
     "metadata": {},
     "output_type": "display_data"
    },
    {
     "data": {
      "application/vnd.jupyter.widget-view+json": {
       "model_id": "",
       "version_major": 2,
       "version_minor": 0
      },
      "text/plain": [
       "Validating: 0it [00:00, ?it/s]"
      ]
     },
     "metadata": {},
     "output_type": "display_data"
    }
   ],
   "source": [
    "trainer.fit(barrier, dm)"
   ]
  },
  {
   "cell_type": "code",
   "execution_count": 15,
   "metadata": {},
   "outputs": [
    {
     "name": "stderr",
     "output_type": "stream",
     "text": [
      "LOCAL_RANK: 0 - CUDA_VISIBLE_DEVICES: [0]\n"
     ]
    },
    {
     "data": {
      "application/vnd.jupyter.widget-view+json": {
       "model_id": "985b24c9a844444a945dd7e16c32690f",
       "version_major": 2,
       "version_minor": 0
      },
      "text/plain": [
       "Testing: 0it [00:00, ?it/s]"
      ]
     },
     "metadata": {},
     "output_type": "display_data"
    },
    {
     "name": "stdout",
     "output_type": "stream",
     "text": [
      "--------------------------------------------------------------------------------\n",
      "DATALOADER:0 TEST RESULTS\n",
      "{'acopf/cost': 1.4139745235443115,\n",
      " 'acopf/equality/error_max': 0.0,\n",
      " 'acopf/equality/error_mean': 0.0,\n",
      " 'acopf/equality/loss': 8.909831983316963e-09,\n",
      " 'acopf/equality/rate': 0.0,\n",
      " 'acopf/inequality/error_max': 0.0,\n",
      " 'acopf/inequality/error_mean': 0.0,\n",
      " 'acopf/inequality/loss': 0.016814110800623894,\n",
      " 'acopf/inequality/rate': 0.0,\n",
      " 'test/cost': 1.3521101474761963,\n",
      " 'test/equality/error_max': 0.0,\n",
      " 'test/equality/error_mean': 0.0,\n",
      " 'test/equality/loss': 1.6589408612013162e-13,\n",
      " 'test/equality/rate': 0.0,\n",
      " 'test/inequality/error_max': 0.03254477307200432,\n",
      " 'test/inequality/error_mean': 0.009373554028570652,\n",
      " 'test/inequality/loss': 0.03020951710641384,\n",
      " 'test/inequality/rate': 0.002804266754537821}\n",
      "--------------------------------------------------------------------------------\n"
     ]
    },
    {
     "data": {
      "text/plain": [
       "[{'test/cost': 1.3521101474761963,\n",
       "  'test/equality/loss': 1.6589408612013162e-13,\n",
       "  'test/equality/rate': 0.0,\n",
       "  'test/equality/error_mean': 0.0,\n",
       "  'test/equality/error_max': 0.0,\n",
       "  'test/inequality/loss': 0.03020951710641384,\n",
       "  'test/inequality/rate': 0.002804266754537821,\n",
       "  'test/inequality/error_mean': 0.009373554028570652,\n",
       "  'test/inequality/error_max': 0.03254477307200432,\n",
       "  'acopf/cost': 1.4139745235443115,\n",
       "  'acopf/equality/loss': 8.909831983316963e-09,\n",
       "  'acopf/equality/rate': 0.0,\n",
       "  'acopf/equality/error_mean': 0.0,\n",
       "  'acopf/equality/error_max': 0.0,\n",
       "  'acopf/inequality/loss': 0.016814110800623894,\n",
       "  'acopf/inequality/rate': 0.0,\n",
       "  'acopf/inequality/error_mean': 0.0,\n",
       "  'acopf/inequality/error_max': 0.0}]"
      ]
     },
     "execution_count": 15,
     "metadata": {},
     "output_type": "execute_result"
    }
   ],
   "source": [
    "trainer.test(datamodule=dm, ckpt_path=\"best\")"
   ]
  },
  {
   "cell_type": "code",
   "execution_count": 16,
   "metadata": {},
   "outputs": [
    {
     "data": {
      "text/html": [
       "<br/>Waiting for W&B process to finish, PID 3286244<br/>Program ended successfully."
      ],
      "text/plain": [
       "<IPython.core.display.HTML object>"
      ]
     },
     "metadata": {},
     "output_type": "display_data"
    },
    {
     "data": {
      "application/vnd.jupyter.widget-view+json": {
       "model_id": "",
       "version_major": 2,
       "version_minor": 0
      },
      "text/plain": [
       "VBox(children=(Label(value=' 0.70MB of 0.70MB uploaded (0.00MB deduped)\\r'), FloatProgress(value=1.0, max=1.0)…"
      ]
     },
     "metadata": {},
     "output_type": "display_data"
    },
    {
     "data": {
      "text/html": [
       "Find user logs for this run at: <code>../logs/wandb/run-20210722_083831-170neocr/logs/debug.log</code>"
      ],
      "text/plain": [
       "<IPython.core.display.HTML object>"
      ]
     },
     "metadata": {},
     "output_type": "display_data"
    },
    {
     "data": {
      "text/html": [
       "Find internal logs for this run at: <code>../logs/wandb/run-20210722_083831-170neocr/logs/debug-internal.log</code>"
      ],
      "text/plain": [
       "<IPython.core.display.HTML object>"
      ]
     },
     "metadata": {},
     "output_type": "display_data"
    },
    {
     "data": {
      "text/html": [
       "<h3>Run summary:</h3><br/><style>\n",
       "    table.wandb td:nth-child(1) { padding: 0 10px; text-align: right }\n",
       "    </style><table class=\"wandb\">\n",
       "<tr><td>train/loss</td><td>0.22073</td></tr><tr><td>train/cost</td><td>1.0553</td></tr><tr><td>train/equality/loss</td><td>0.3223</td></tr><tr><td>train/equality/rate</td><td>0.99948</td></tr><tr><td>train/equality/error_mean</td><td>0.03752</td></tr><tr><td>train/equality/error_max</td><td>0.15364</td></tr><tr><td>train/inequality/loss</td><td>0.4841</td></tr><tr><td>train/inequality/rate</td><td>0.16682</td></tr><tr><td>train/inequality/error_mean</td><td>0.01844</td></tr><tr><td>train/inequality/error_max</td><td>0.31168</td></tr><tr><td>epoch</td><td>205</td></tr><tr><td>trainer/global_step</td><td>72513</td></tr><tr><td>_runtime</td><td>24268</td></tr><tr><td>_timestamp</td><td>1626981779</td></tr><tr><td>_step</td><td>1656</td></tr><tr><td>val/loss</td><td>0.34218</td></tr><tr><td>val/cost</td><td>1.05719</td></tr><tr><td>val/equality/loss</td><td>1.168</td></tr><tr><td>val/equality/rate</td><td>0.99988</td></tr><tr><td>val/equality/error_mean</td><td>0.06157</td></tr><tr><td>val/equality/error_max</td><td>0.363</td></tr><tr><td>val/inequality/loss</td><td>0.48723</td></tr><tr><td>val/inequality/rate</td><td>0.16469</td></tr><tr><td>val/inequality/error_mean</td><td>0.01696</td></tr><tr><td>val/inequality/error_max</td><td>0.3102</td></tr><tr><td>test/cost</td><td>1.35211</td></tr><tr><td>test/equality/loss</td><td>0.0</td></tr><tr><td>test/equality/rate</td><td>0.0</td></tr><tr><td>test/equality/error_mean</td><td>0.0</td></tr><tr><td>test/equality/error_max</td><td>0.0</td></tr><tr><td>test/inequality/loss</td><td>0.03021</td></tr><tr><td>test/inequality/rate</td><td>0.0028</td></tr><tr><td>test/inequality/error_mean</td><td>0.00937</td></tr><tr><td>test/inequality/error_max</td><td>0.03254</td></tr><tr><td>acopf/cost</td><td>1.41397</td></tr><tr><td>acopf/equality/loss</td><td>0.0</td></tr><tr><td>acopf/equality/rate</td><td>0.0</td></tr><tr><td>acopf/equality/error_mean</td><td>0.0</td></tr><tr><td>acopf/equality/error_max</td><td>0.0</td></tr><tr><td>acopf/inequality/loss</td><td>0.01681</td></tr><tr><td>acopf/inequality/rate</td><td>0.0</td></tr><tr><td>acopf/inequality/error_mean</td><td>0.0</td></tr><tr><td>acopf/inequality/error_max</td><td>0.0</td></tr></table>"
      ],
      "text/plain": [
       "<IPython.core.display.HTML object>"
      ]
     },
     "metadata": {},
     "output_type": "display_data"
    },
    {
     "data": {
      "text/html": [
       "<h3>Run history:</h3><br/><style>\n",
       "    table.wandb td:nth-child(1) { padding: 0 10px; text-align: right }\n",
       "    </style><table class=\"wandb\">\n",
       "<tr><td>train/loss</td><td>▇█▃▁▁▁▁▁▁▁▁▂▁▃▂▂▂▁▁▁▂▁▁▁▁▁▁▂▂▁▁▃▁▁▁▁▁▁▁▁</td></tr><tr><td>train/cost</td><td>▁▃▆▇████████████████████████████████████</td></tr><tr><td>train/equality/loss</td><td>▁█▃▁▁▁▁▁▁▁▁▂▁▃▂▂▂▁▁▁▂▁▁▁▁▁▁▂▂▁▁▃▁▁▁▁▁▁▁▁</td></tr><tr><td>train/equality/rate</td><td>█████▅▆▇█▇▅▆███▇██▆██▆▆█▁▄▅██▇▅█▄█▄██▆▇▇</td></tr><tr><td>train/equality/error_mean</td><td>██▄▂▂▁▁▂▂▂▁▃▁▃▃▂▃▂▁▂▃▂▂▁▁▁▁▃▂▁▂▃▁▂▁▁▂▁▁▂</td></tr><tr><td>train/equality/error_max</td><td>▅█▄▂▂▁▁▂▂▂▁▂▁▃▃▂▃▁▁▂▂▂▂▁▁▁▁▂▂▂▁▃▁▁▁▁▂▁▂▂</td></tr><tr><td>train/inequality/loss</td><td>█▂▁▁▁▁▁▁▁▁▁▁▁▁▁▁▁▁▁▁▁▁▁▁▁▁▁▁▁▁▁▁▁▁▁▁▁▁▁▁</td></tr><tr><td>train/inequality/rate</td><td>██▅▄▃▃▃▃▃▃▂▂▂▂▂▂▂▂▂▂▂▂▂▂▂▂▂▁▁▂▁▁▁▂▂▁▁▁▁▁</td></tr><tr><td>train/inequality/error_mean</td><td>█▂▁▁▁▁▁▁▁▁▁▁▁▁▁▁▁▁▁▁▁▁▁▁▁▁▁▁▁▁▁▁▁▁▁▁▁▁▁▁</td></tr><tr><td>train/inequality/error_max</td><td>█▃▁▁▁▁▁▁▁▁▁▁▁▁▁▁▁▁▁▁▁▁▁▁▁▁▁▁▁▁▁▁▁▁▁▁▁▁▁▁</td></tr><tr><td>epoch</td><td>▁▁▁▁▂▂▂▂▂▃▃▃▃▃▃▄▄▄▄▄▅▅▅▅▅▅▆▆▆▆▆▇▇▇▇▇▇███</td></tr><tr><td>trainer/global_step</td><td>▁▁▁▁▂▂▂▂▂▃▃▃▃▃▃▄▄▄▄▄▅▅▅▅▅▅▆▆▆▆▆▇▇▇▇▇▇███</td></tr><tr><td>_runtime</td><td>▁▁▁▁▂▂▂▂▂▃▃▃▃▃▃▄▄▄▄▄▅▅▅▅▅▅▆▆▆▆▆▇▇▇▇▇▇███</td></tr><tr><td>_timestamp</td><td>▁▁▁▁▂▂▂▂▂▃▃▃▃▃▃▄▄▄▄▄▅▅▅▅▅▅▆▆▆▆▆▇▇▇▇▇▇███</td></tr><tr><td>_step</td><td>▁▁▁▁▂▂▂▂▂▃▃▃▃▃▃▄▄▄▄▄▅▅▅▅▅▅▆▆▆▆▆▇▇▇▇▇▇███</td></tr><tr><td>val/loss</td><td>█▃▂▄▁▁▂▁▂▁▁▁▂▁▁▁▁▂▁▁▁▄▁▁▁▁▁▁▁▁▁▁▁▁▁▁▁▂▁▁</td></tr><tr><td>val/cost</td><td>▁▂▆▇████████████████████████████████████</td></tr><tr><td>val/equality/loss</td><td>▁▃▃▇▂▁▃▁▃▁▂▁▂▂▂▁▁▃▁▂▁█▁▁▁▁▁▂▂▁▁▁▁▁▁▂▁▂▁▁</td></tr><tr><td>val/equality/rate</td><td>██▇█▆▇▇▄▇▆▇▅▆▄▅▃▅█▆▆▃█▄▅▁▇▄▆█▄▆▃▇▂▁▂▇▆▆▇</td></tr><tr><td>val/equality/error_mean</td><td>█▄▃▄▂▂▃▂▂▂▂▁▂▂▂▁▁▃▁▂▁▄▁▁▁▁▁▂▂▁▁▁▁▁▁▂▁▂▁▁</td></tr><tr><td>val/equality/error_max</td><td>█▆▅▇▃▂▅▂▄▂▃▂▃▂▃▁▁▃▁▃▂▇▁▁▂▂▁▃▃▁▂▂▂▁▂▂▂▃▂▁</td></tr><tr><td>val/inequality/loss</td><td>█▃▁▁▁▁▁▁▁▁▁▁▁▁▁▁▁▁▁▁▁▁▁▁▁▁▁▁▁▁▁▁▁▁▁▁▁▁▁▁</td></tr><tr><td>val/inequality/rate</td><td>██▅▄▃▃▃▃▃▂▂▃▂▂▂▂▂▂▂▂▂▂▂▂▁▂▂▂▂▁▁▁▁▁▁▁▁▁▁▁</td></tr><tr><td>val/inequality/error_mean</td><td>█▃▁▁▁▁▁▁▁▁▁▁▁▁▁▁▁▁▁▁▁▁▁▁▁▁▁▁▁▁▁▁▁▁▁▁▁▁▁▁</td></tr><tr><td>val/inequality/error_max</td><td>█▃▁▁▁▁▁▁▁▁▁▁▁▁▁▁▁▁▁▁▁▁▁▁▁▁▁▁▁▁▁▁▁▁▁▁▁▁▁▁</td></tr><tr><td>test/cost</td><td>▁</td></tr><tr><td>test/equality/loss</td><td>▁</td></tr><tr><td>test/equality/rate</td><td>▁</td></tr><tr><td>test/equality/error_mean</td><td>▁</td></tr><tr><td>test/equality/error_max</td><td>▁</td></tr><tr><td>test/inequality/loss</td><td>▁</td></tr><tr><td>test/inequality/rate</td><td>▁</td></tr><tr><td>test/inequality/error_mean</td><td>▁</td></tr><tr><td>test/inequality/error_max</td><td>▁</td></tr><tr><td>acopf/cost</td><td>▁</td></tr><tr><td>acopf/equality/loss</td><td>▁</td></tr><tr><td>acopf/equality/rate</td><td>▁</td></tr><tr><td>acopf/equality/error_mean</td><td>▁</td></tr><tr><td>acopf/equality/error_max</td><td>▁</td></tr><tr><td>acopf/inequality/loss</td><td>▁</td></tr><tr><td>acopf/inequality/rate</td><td>▁</td></tr><tr><td>acopf/inequality/error_mean</td><td>▁</td></tr><tr><td>acopf/inequality/error_max</td><td>▁</td></tr></table><br/>"
      ],
      "text/plain": [
       "<IPython.core.display.HTML object>"
      ]
     },
     "metadata": {},
     "output_type": "display_data"
    },
    {
     "data": {
      "text/html": [
       "Synced 6 W&B file(s), 1 media file(s), 0 artifact file(s) and 1 other file(s)"
      ],
      "text/plain": [
       "<IPython.core.display.HTML object>"
      ]
     },
     "metadata": {},
     "output_type": "display_data"
    },
    {
     "data": {
      "text/html": [
       "\n",
       "                    <br/>Synced <strong style=\"color:#cdcd00\">eager-universe-1211</strong>: <a href=\"https://wandb.ai/damowerko/opf/runs/170neocr\" target=\"_blank\">https://wandb.ai/damowerko/opf/runs/170neocr</a><br/>\n",
       "                "
      ],
      "text/plain": [
       "<IPython.core.display.HTML object>"
      ]
     },
     "metadata": {},
     "output_type": "display_data"
    }
   ],
   "source": [
    "import wandb\n",
    "logger.finalize(\"finished\")\n",
    "wandb.finish()"
   ]
  }
 ],
 "metadata": {
  "kernelspec": {
   "name": "python3",
   "display_name": "Python 3.9.5 64-bit ('opf': pyenv)"
  },
  "language_info": {
   "codemirror_mode": {
    "name": "ipython",
    "version": 3
   },
   "file_extension": ".py",
   "mimetype": "text/x-python",
   "name": "python",
   "nbconvert_exporter": "python",
   "pygments_lexer": "ipython3",
   "version": "3.9.5"
  },
  "interpreter": {
   "hash": "e5fbda20988e957388c9a3a00dcb9ed41bc70017dbd51a8f0ab69eb07c4807c3"
  }
 },
 "nbformat": 4,
 "nbformat_minor": 4
}