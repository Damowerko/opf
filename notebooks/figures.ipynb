{
 "cells": [
  {
   "cell_type": "code",
   "execution_count": null,
   "metadata": {},
   "outputs": [],
   "source": [
    "import networkx as nx\n",
    "import matplotlib.pyplot as plt\n",
    "import json\n",
    "import seaborn as sns\n",
    "import pandas as pd\n",
    "import wandb\n",
    "\n",
    "from opf.dataset import CaseDataModule\n",
    "from torch_geometric.utils import to_networkx\n",
    "\n",
    "sns.set_theme(\n",
    "    context=\"paper\",\n",
    "    style=\"ticks\",\n",
    "    font_scale=0.8,\n",
    "    rc={\n",
    "        \"figure.figsize\": (3.5, 2.0),\n",
    "        \"figure.dpi\": 300,\n",
    "        \"savefig.dpi\": 300,\n",
    "        \"text.usetex\": True,\n",
    "        \"lines.linewidth\": 0.7,\n",
    "        \"axes.linewidth\": 0.7,\n",
    "        \"axes.grid\": True,\n",
    "        \"grid.linestyle\": \"--\",\n",
    "        \"grid.linewidth\": 0.5,\n",
    "        \"pdf.fonttype\": 42,\n",
    "    },\n",
    ")"
   ]
  },
  {
   "cell_type": "code",
   "execution_count": null,
   "metadata": {},
   "outputs": [],
   "source": [
    "api = wandb.Api()  # type: ignore\n",
    "\n",
    "runs = {}\n",
    "for case_name in [\n",
    "    \"case30_ieee\",\n",
    "    \"case57_ieee\",\n",
    "    \"case118_ieee\",\n",
    "    \"case300_ieee\",\n",
    "    \"case1354_pegase\",\n",
    "]:\n",
    "    # query the W&B API for all the runs in october and november 2024 within the damowerko/opf project\n",
    "    # filter by case_name and sort by val/invariant\n",
    "    runs[case_name] = api.runs(\n",
    "        path=\"damowerko/opf\",\n",
    "        filters={\n",
    "            \"config.case_name\": case_name,\n",
    "            \"created_at\": {\n",
    "                \"$gte\": \"2024-10-01T00:00:00Z\",\n",
    "                \"$lt\": \"2024-12-01T00:00:00Z\",\n",
    "            },\n",
    "        },\n",
    "        order=\"+summary_metrics.val/invariant\",\n",
    "        per_page=10,\n",
    "    )[0]"
   ]
  },
  {
   "cell_type": "code",
   "execution_count": null,
   "metadata": {},
   "outputs": [],
   "source": [
    "import re\n",
    "\n",
    "# collect the latest validation metrics into a pandas dataframe\n",
    "# and add the case_name as a column\n",
    "data = []\n",
    "for case_name, run in runs.items():\n",
    "    run_data = run.summary_metrics\n",
    "    run_data[\"case_name\"] = case_name\n",
    "    run_data[\"n_nodes\"] = int(re.search(r\"\\d+\", case_name).group())\n",
    "    data.append(run_data)\n",
    "df = pd.DataFrame.from_records(data).sort_values(\"n_nodes\")"
   ]
  },
  {
   "cell_type": "code",
   "execution_count": null,
   "metadata": {},
   "outputs": [],
   "source": [
    "df[[\"case_name\", \"val/invariant\"]]"
   ]
  },
  {
   "cell_type": "code",
   "execution_count": null,
   "metadata": {},
   "outputs": [],
   "source": []
  },
  {
   "cell_type": "code",
   "execution_count": null,
   "metadata": {},
   "outputs": [],
   "source": [
    "data = (\n",
    "    df[\n",
    "        [\n",
    "            \"case_name\",\n",
    "            \"n_nodes\",\n",
    "            \"val/inequality/error_mean\",\n",
    "            \"val/equality/error_mean\",\n",
    "            \"val/inequality/error_max\",\n",
    "            \"val/equality/error_max\",\n",
    "        ]\n",
    "    ]\n",
    "    .rename(\n",
    "        columns={\n",
    "            \"val/inequality/error_mean\": \"Mean Inequality Violation\",\n",
    "            \"val/inequality/error_max\": \"Max Inequality  Violation\",\n",
    "            \"val/equality/error_mean\": \"Mean Equality  Violation\",\n",
    "            \"val/equality/error_max\": \"Max Equality Violation\",\n",
    "        }\n",
    "    )\n",
    "    .melt(id_vars=[\"case_name\", \"n_nodes\"])\n",
    "    .assign(n_nodes=lambda x: x[\"n_nodes\"].astype(str))\n",
    ")\n",
    "\n",
    "ax = sns.barplot(data=data, hue=\"n_nodes\", x=\"value\", y=\"variable\", palette=\"mako\")\n",
    "plt.legend(title=\"Number of Buses\")\n",
    "sns.move_legend(ax, \"center left\", bbox_to_anchor=(1, 0.5), ncol=1)\n",
    "plt.ylabel(\"\")\n",
    "plt.xlabel(\"Violation Size [p.u.]\")\n",
    "plt.xscale(\"log\")\n",
    "plt.savefig(\"../figures/dual/violation_size.pdf\", bbox_inches=\"tight\")\n",
    "plt.show()"
   ]
  },
  {
   "cell_type": "code",
   "execution_count": null,
   "metadata": {},
   "outputs": [],
   "source": [
    "def parse_graph(case_name):\n",
    "    dm = CaseDataModule(case_name=case_name, data_dir=\"../data\", batch_size=1)\n",
    "    dm.setup(\"test\")\n",
    "    data = dm.test_dataset[0][0]\n",
    "    graph = to_networkx(data)\n",
    "\n",
    "    # Replace nodes of type \"branch\" with edges\n",
    "    branch_nodes = [\n",
    "        node for node, attrs in graph.nodes(data=True) if attrs[\"type\"] == \"branch\"\n",
    "    ]\n",
    "    for branch_node in branch_nodes:\n",
    "        predecessors = list(graph.predecessors(branch_node))\n",
    "        successors = list(graph.successors(branch_node))\n",
    "        for pred in predecessors:\n",
    "            for succ in successors:\n",
    "                if pred == succ:\n",
    "                    continue\n",
    "                graph.add_edge(pred, succ, type=(\"bus\", \"branch\", \"bus\"))\n",
    "        graph.remove_node(branch_node)\n",
    "\n",
    "    graph = graph.to_undirected()\n",
    "    return graph"
   ]
  },
  {
   "cell_type": "code",
   "execution_count": null,
   "metadata": {},
   "outputs": [],
   "source": [
    "graphs = {\n",
    "    case_name: parse_graph(case_name)\n",
    "    for case_name in [\n",
    "        \"case30_ieee\",\n",
    "        \"case57_ieee\",\n",
    "        \"case118_ieee\",\n",
    "        \"case300_ieee\",\n",
    "        \"case1354_pegase\",\n",
    "    ]\n",
    "}"
   ]
  },
  {
   "cell_type": "code",
   "execution_count": null,
   "metadata": {},
   "outputs": [],
   "source": [
    "dfs = []\n",
    "for case_name in graphs:\n",
    "    graph = parse_graph(case_name)\n",
    "    # get degree of each node into a pandas dataframe\n",
    "    df_degree = pd.DataFrame(graph.degree, columns=[\"node\", \"degree\"])\n",
    "    eigenvector_centrality = nx.eigenvector_centrality(graph, max_iter=1000)\n",
    "    df_eigenvector_centrality = pd.DataFrame(\n",
    "        list(eigenvector_centrality.items()),\n",
    "        columns=[\"node\", \"eigenvector_centrality\"],\n",
    "    )\n",
    "    # multiply by the number of nodes to get the same scale as degree\n",
    "    df_eigenvector_centrality[\"eigenvector_centrality\"] *= len(\n",
    "        df_eigenvector_centrality\n",
    "    )\n",
    "    df_eigenvector_centrality[\"eigenvalue\"] = nx.adjacency_spectrum(graph)\n",
    "    df = pd.merge(df_degree, df_eigenvector_centrality, on=\"node\")\n",
    "    df[\"case_name\"] = case_name\n",
    "    dfs.append(df)\n",
    "df = pd.concat(dfs)"
   ]
  },
  {
   "cell_type": "code",
   "execution_count": null,
   "metadata": {},
   "outputs": [],
   "source": [
    "sns.displot(\n",
    "    df,\n",
    "    x=\"eigenvector_centrality\",\n",
    "    hue=\"case_name\",\n",
    "    kind=\"kde\",\n",
    "    # stat=\"probability\",\n",
    "    # multiple=\"dodge\",\n",
    "    # bins=10,\n",
    "    common_norm=False,\n",
    ")\n",
    "plt.xlim(-10, 100)\n",
    "plt.show()"
   ]
  },
  {
   "cell_type": "code",
   "execution_count": null,
   "metadata": {},
   "outputs": [],
   "source": [
    "sns.displot(\n",
    "    df,\n",
    "    x=\"degree\",\n",
    "    hue=\"case_name\",\n",
    "    kind=\"kde\",\n",
    "    # stat=\"probability\",\n",
    "    # multiple=\"dodge\",\n",
    "    # bins=10,\n",
    "    common_norm=False,\n",
    ")\n",
    "plt.show()"
   ]
  },
  {
   "cell_type": "code",
   "execution_count": null,
   "metadata": {},
   "outputs": [],
   "source": [
    "sns.displot(\n",
    "    df,\n",
    "    x=\"eigenvalue\",\n",
    "    hue=\"case_name\",\n",
    "    kind=\"kde\",\n",
    "    # stat=\"probability\",\n",
    "    # multiple=\"dodge\",\n",
    "    # bins=10,\n",
    "    common_norm=False,\n",
    ")\n",
    "plt.legend(title=\"Case Name\")\n",
    "plt.show()"
   ]
  },
  {
   "cell_type": "code",
   "execution_count": null,
   "metadata": {},
   "outputs": [],
   "source": [
    "def plot_case(case_name, node_size):\n",
    "    graph = parse_graph(case_name)\n",
    "\n",
    "    node_type_colors = {\n",
    "        \"bus\": \"red\",\n",
    "        \"gen\": \"green\",\n",
    "        \"branch\": \"blue\",\n",
    "    }\n",
    "\n",
    "    node_color = []\n",
    "    for node, attrs in graph.nodes(data=True):\n",
    "        node_type = attrs[\"type\"]\n",
    "        if node_type == \"bus\":\n",
    "            node_color.append(\"tab:blue\")\n",
    "        elif node_type == \"gen\":\n",
    "            node_color.append(\"tab:green\")\n",
    "\n",
    "    edge_color = []\n",
    "    for i, j, attrs in graph.edges(data=True):\n",
    "        if attrs[\"type\"][1] == \"tie\":\n",
    "            edge_color.append(\"tab:red\")\n",
    "        elif attrs[\"type\"][1] == \"branch\":\n",
    "            edge_color.append(\"black\")\n",
    "\n",
    "    nx.draw(\n",
    "        graph,\n",
    "        node_size=node_size,\n",
    "        node_color=node_color,\n",
    "        edge_color=edge_color,\n",
    "    )"
   ]
  },
  {
   "cell_type": "code",
   "execution_count": null,
   "metadata": {},
   "outputs": [],
   "source": [
    "plt.figure(figsize=(5, 5))\n",
    "plot_case(\"case30_ieee\", 100)\n",
    "plt.savefig(\"../figures/case30_ieee.pdf\")"
   ]
  },
  {
   "cell_type": "code",
   "execution_count": null,
   "metadata": {},
   "outputs": [],
   "source": [
    "plt.figure(figsize=(5, 5))\n",
    "plot_case(\"case118_ieee\", 100 * (30 / 118) ** 0.5)\n",
    "plt.savefig(\"../figures/case118_ieee.pdf\")"
   ]
  },
  {
   "cell_type": "code",
   "execution_count": null,
   "metadata": {},
   "outputs": [],
   "source": [
    "plt.figure(figsize=(5, 5))\n",
    "plot_case(\"case300_ieee\", 100 * (30 / 300) ** 0.5)\n",
    "plt.savefig(\"../figures/case300_ieee.pdf\")"
   ]
  },
  {
   "cell_type": "code",
   "execution_count": null,
   "metadata": {},
   "outputs": [],
   "source": [
    "plt.figure(figsize=(5, 5))\n",
    "plot_case(\"case300_ieee\", 100 * (30 / 1354) ** 0.5)\n",
    "plt.savefig(\"../figures/case1354_pegase.pdf\")"
   ]
  }
 ],
 "metadata": {
  "kernelspec": {
   "display_name": "opf",
   "language": "python",
   "name": "python3"
  },
  "language_info": {
   "codemirror_mode": {
    "name": "ipython",
    "version": 3
   },
   "file_extension": ".py",
   "mimetype": "text/x-python",
   "name": "python",
   "nbconvert_exporter": "python",
   "pygments_lexer": "ipython3",
   "version": "3.11.8"
  }
 },
 "nbformat": 4,
 "nbformat_minor": 2
}
