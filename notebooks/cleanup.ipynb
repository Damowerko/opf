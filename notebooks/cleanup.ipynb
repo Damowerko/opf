{
 "cells": [
  {
   "cell_type": "code",
   "execution_count": null,
   "metadata": {},
   "outputs": [],
   "source": [
    "import wandb"
   ]
  },
  {
   "cell_type": "code",
   "execution_count": null,
   "metadata": {},
   "outputs": [],
   "source": [
    "api = wandb.Api()\n",
    "runs = list(api.runs(path=\"damowerko-academic/opf\", per_page=1000))"
   ]
  },
  {
   "cell_type": "code",
   "execution_count": null,
   "metadata": {},
   "outputs": [],
   "source": [
    "model_type = api.artifact_type(type_name=\"model\", project=\"damowerko-academic/opf\")\n",
    "collections = list(model_type.collections())"
   ]
  },
  {
   "cell_type": "code",
   "execution_count": null,
   "metadata": {},
   "outputs": [],
   "source": [
    "runs_dict = {run.id: run for run in runs}"
   ]
  },
  {
   "cell_type": "code",
   "execution_count": null,
   "metadata": {},
   "outputs": [],
   "source": [
    "collections_for_deletion = []\n",
    "for collection in collections:\n",
    "    created_by_id = collection.name.split(\"-\")[1]\n",
    "    created_by_run = runs_dict.get(created_by_id)\n",
    "\n",
    "    if created_by_run is None:\n",
    "        collections_for_deletion.append(collection)\n",
    "        continue\n",
    "\n",
    "    val_invariant = created_by_run.summary_metrics[\"val/invariant\"]\n",
    "    if val_invariant == \"Infinity\" or val_invariant > 500:\n",
    "        collections_for_deletion.append(collection)"
   ]
  },
  {
   "cell_type": "code",
   "execution_count": null,
   "metadata": {},
   "outputs": [],
   "source": [
    "# COMMENT AFTER USE for SAFETY\n",
    "# print(len(collections_for_deletion))\n",
    "# for collection in collections_for_deletion:\n",
    "#     collection.delete()"
   ]
  }
 ],
 "metadata": {
  "kernelspec": {
   "display_name": "opf",
   "language": "python",
   "name": "python3"
  },
  "language_info": {
   "codemirror_mode": {
    "name": "ipython",
    "version": 3
   },
   "file_extension": ".py",
   "mimetype": "text/x-python",
   "name": "python",
   "nbconvert_exporter": "python",
   "pygments_lexer": "ipython3",
   "version": "3.11.8"
  }
 },
 "nbformat": 4,
 "nbformat_minor": 2
}
