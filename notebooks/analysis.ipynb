{
 "cells": [
  {
   "cell_type": "code",
   "execution_count": 1,
   "metadata": {},
   "outputs": [],
   "source": [
    "%load_ext autoreload\n",
    "%autoreload 2"
   ]
  },
  {
   "cell_type": "code",
   "execution_count": 2,
   "metadata": {},
   "outputs": [],
   "source": [
    "from pathlib import Path\n",
    "from tempfile import TemporaryDirectory\n",
    "\n",
    "import matplotlib as mpl\n",
    "import seaborn as sns\n",
    "import torch\n",
    "import utils\n",
    "import wandb\n",
    "from matplotlib import pyplot as plt\n",
    "\n",
    "import opf\n",
    "import opf.dataset\n",
    "from opf.hetero import HeteroGCN\n",
    "from opf.modules import OPFLogBarrier\n",
    "\n",
    "mpl.rcParams[\"text.usetex\"] = False\n",
    "\n",
    "sns.set_style(\"white\")\n",
    "sns.set_context(\"paper\")\n",
    "\n",
    "torch.set_float32_matmul_precision(\"medium\")"
   ]
  },
  {
   "cell_type": "code",
   "execution_count": 4,
   "metadata": {},
   "outputs": [],
   "source": [
    "run_uri = \"wandb://katyamaz/opf/8uzjmnce\""
   ]
  },
  {
   "cell_type": "code",
   "execution_count": 5,
   "metadata": {},
   "outputs": [
    {
     "name": "stderr",
     "output_type": "stream",
     "text": [
      "/home/kmazu/.cache/pypoetry/virtualenvs/opf-D4LT1ipO-py3.11/lib/python3.11/site-packages/torch_sparse/tensor.py:574: UserWarning: Sparse CSR tensor support is in beta state. If you miss a functionality in the sparse tensor support, please submit a feature request to https://github.com/pytorch/pytorch/issues. (Triggered internally at ../aten/src/ATen/SparseCsrTensorImpl.cpp:53.)\n",
      "  return torch.sparse_csr_tensor(rowptr, col, value, self.sizes())\n",
      "\u001b[34m\u001b[1mwandb\u001b[0m:   1 of 1 files downloaded.  \n"
     ]
    }
   ],
   "source": [
    "base, path = run_uri.split(\"://\")\n",
    "if base != \"wandb\":\n",
    "    raise ValueError(\"Only wandb runs are supported\")\n",
    "\n",
    "api = wandb.Api()\n",
    "run = api.run(path)\n",
    "run.config.update(data_dir=\"../data\")\n",
    "\n",
    "# initialize data\n",
    "dm = opf.dataset.CaseDataModule(**run.config)\n",
    "dm.setup(\"test\")\n",
    "assert dm.test_dataset is not None\n",
    "\n",
    "# initialize model and initialize lazy layers\n",
    "barrier = OPFLogBarrier(\n",
    "    **run.config, model=HeteroGCN(dm.metadata(), -1, 4, **run.config)\n",
    ")\n",
    "barrier(dm.test_dataset[0])\n",
    "\n",
    "# load checkpoint\n",
    "with TemporaryDirectory() as tmpdir:\n",
    "    artifact = api.artifact(f\"katyamaz/opf/model-{run.id}:best\")\n",
    "    checkpoint_path = artifact.download(root=tmpdir)\n",
    "    checkpoint = torch.load(Path(checkpoint_path) / \"model.ckpt\", map_location=\"cpu\")\n",
    "    barrier.load_state_dict(checkpoint[\"state_dict\"], strict=True)"
   ]
  },
  {
   "cell_type": "code",
   "execution_count": 6,
   "metadata": {},
   "outputs": [],
   "source": [
    "# save_dir = f\"./figures/{run.config['case_name']}/\"\n",
    "# os.makedirs(save_dir, exist_ok=True)\n",
    "\n",
    "\n",
    "def save(title: str, fig=plt):\n",
    "    pass\n",
    "    # fig.savefig(save_dir + f\"{title}.png\")\n",
    "    # fig.savefig(save_dir + f\"{title}.pdf\")"
   ]
  },
  {
   "cell_type": "code",
   "execution_count": 9,
   "metadata": {},
   "outputs": [
    {
     "name": "stderr",
     "output_type": "stream",
     "text": [
      "GPU available: True (cuda), used: True\n",
      "TPU available: False, using: 0 TPU cores\n",
      "IPU available: False, using: 0 IPUs\n",
      "HPU available: False, using: 0 HPUs\n",
      "LOCAL_RANK: 0 - CUDA_VISIBLE_DEVICES: [0]\n",
      "/home/kmazu/.cache/pypoetry/virtualenvs/opf-D4LT1ipO-py3.11/lib/python3.11/site-packages/pytorch_lightning/trainer/connectors/data_connector.py:441: The 'test_dataloader' does not have many workers which may be a bottleneck. Consider increasing the value of the `num_workers` argument` to `num_workers=47` in the `DataLoader` to improve performance.\n"
     ]
    },
    {
     "data": {
      "application/vnd.jupyter.widget-view+json": {
       "model_id": "596fa83f6d1644ec9214c79991f2d54f",
       "version_major": 2,
       "version_minor": 0
      },
      "text/plain": [
       "Testing: |          | 0/? [00:00<?, ?it/s]"
      ]
     },
     "metadata": {},
     "output_type": "display_data"
    },
    {
     "name": "stderr",
     "output_type": "stream",
     "text": [
      "ERROR: LoadError: The size of the variables is not the same.\n",
      "Stacktrace:\n",
      " [1] error(s::String)\n",
      "   @ Base ./error.jl:35\n",
      " [2] main()\n",
      "   @ Main ~/opf/src/opf/project.jl:39\n",
      " [3] top-level scope\n",
      "   @ ~/opf/src/opf/project.jl:55\n",
      "in expression starting at /home/kmazu/opf/src/opf/project.jl:55\n"
     ]
    },
    {
     "ename": "RuntimeError",
     "evalue": "shape '[32, 30]' is invalid for input of size 36",
     "output_type": "error",
     "traceback": [
      "\u001b[0;31m---------------------------------------------------------------------------\u001b[0m",
      "\u001b[0;31mRuntimeError\u001b[0m                              Traceback (most recent call last)",
      "Cell \u001b[0;32mIn[9], line 3\u001b[0m\n\u001b[1;32m      1\u001b[0m \u001b[38;5;66;03m# Run test\u001b[39;00m\n\u001b[1;32m      2\u001b[0m barrier\u001b[38;5;241m.\u001b[39mdetailed_metrics \u001b[38;5;241m=\u001b[39m \u001b[38;5;28;01mTrue\u001b[39;00m\n\u001b[0;32m----> 3\u001b[0m outputs \u001b[38;5;241m=\u001b[39m \u001b[43mutils\u001b[49m\u001b[38;5;241;43m.\u001b[39;49m\u001b[43mtest\u001b[49m\u001b[43m(\u001b[49m\u001b[43mbarrier\u001b[49m\u001b[43m,\u001b[49m\u001b[43m \u001b[49m\u001b[43mdm\u001b[49m\u001b[43m,\u001b[49m\u001b[43m \u001b[49m\u001b[43maccelerator\u001b[49m\u001b[38;5;241;43m=\u001b[39;49m\u001b[38;5;124;43m\"\u001b[39;49m\u001b[38;5;124;43mgpu\u001b[39;49m\u001b[38;5;124;43m\"\u001b[39;49m\u001b[43m)\u001b[49m\n",
      "File \u001b[0;32m~/opf/notebooks/utils.py:62\u001b[0m, in \u001b[0;36mtest\u001b[0;34m(barrier, dm, accelerator)\u001b[0m\n\u001b[1;32m     58\u001b[0m cache \u001b[38;5;241m=\u001b[39m CacheOutputs()\n\u001b[1;32m     59\u001b[0m trainer \u001b[38;5;241m=\u001b[39m pl\u001b[38;5;241m.\u001b[39mTrainer(\n\u001b[1;32m     60\u001b[0m     precision\u001b[38;5;241m=\u001b[39m\u001b[38;5;241m32\u001b[39m, callbacks\u001b[38;5;241m=\u001b[39m[cache], logger\u001b[38;5;241m=\u001b[39m\u001b[38;5;28;01mFalse\u001b[39;00m, accelerator\u001b[38;5;241m=\u001b[39maccelerator\n\u001b[1;32m     61\u001b[0m )\n\u001b[0;32m---> 62\u001b[0m \u001b[43mtrainer\u001b[49m\u001b[38;5;241;43m.\u001b[39;49m\u001b[43mtest\u001b[49m\u001b[43m(\u001b[49m\u001b[43mbarrier\u001b[49m\u001b[43m,\u001b[49m\u001b[43m \u001b[49m\u001b[43mdatamodule\u001b[49m\u001b[38;5;241;43m=\u001b[39;49m\u001b[43mdm\u001b[49m\u001b[43m,\u001b[49m\u001b[43m \u001b[49m\u001b[43mverbose\u001b[49m\u001b[38;5;241;43m=\u001b[39;49m\u001b[38;5;28;43;01mFalse\u001b[39;49;00m\u001b[43m)\u001b[49m\n\u001b[1;32m     63\u001b[0m \u001b[38;5;28;01mreturn\u001b[39;00m pd\u001b[38;5;241m.\u001b[39mDataFrame(cache\u001b[38;5;241m.\u001b[39moutputs)\u001b[38;5;241m.\u001b[39mmap(torch\u001b[38;5;241m.\u001b[39mTensor\u001b[38;5;241m.\u001b[39mitem)\n",
      "File \u001b[0;32m~/.cache/pypoetry/virtualenvs/opf-D4LT1ipO-py3.11/lib/python3.11/site-packages/pytorch_lightning/trainer/trainer.py:754\u001b[0m, in \u001b[0;36mTrainer.test\u001b[0;34m(self, model, dataloaders, ckpt_path, verbose, datamodule)\u001b[0m\n\u001b[1;32m    752\u001b[0m \u001b[38;5;28mself\u001b[39m\u001b[38;5;241m.\u001b[39mstate\u001b[38;5;241m.\u001b[39mstatus \u001b[38;5;241m=\u001b[39m TrainerStatus\u001b[38;5;241m.\u001b[39mRUNNING\n\u001b[1;32m    753\u001b[0m \u001b[38;5;28mself\u001b[39m\u001b[38;5;241m.\u001b[39mtesting \u001b[38;5;241m=\u001b[39m \u001b[38;5;28;01mTrue\u001b[39;00m\n\u001b[0;32m--> 754\u001b[0m \u001b[38;5;28;01mreturn\u001b[39;00m \u001b[43mcall\u001b[49m\u001b[38;5;241;43m.\u001b[39;49m\u001b[43m_call_and_handle_interrupt\u001b[49m\u001b[43m(\u001b[49m\n\u001b[1;32m    755\u001b[0m \u001b[43m    \u001b[49m\u001b[38;5;28;43mself\u001b[39;49m\u001b[43m,\u001b[49m\u001b[43m \u001b[49m\u001b[38;5;28;43mself\u001b[39;49m\u001b[38;5;241;43m.\u001b[39;49m\u001b[43m_test_impl\u001b[49m\u001b[43m,\u001b[49m\u001b[43m \u001b[49m\u001b[43mmodel\u001b[49m\u001b[43m,\u001b[49m\u001b[43m \u001b[49m\u001b[43mdataloaders\u001b[49m\u001b[43m,\u001b[49m\u001b[43m \u001b[49m\u001b[43mckpt_path\u001b[49m\u001b[43m,\u001b[49m\u001b[43m \u001b[49m\u001b[43mverbose\u001b[49m\u001b[43m,\u001b[49m\u001b[43m \u001b[49m\u001b[43mdatamodule\u001b[49m\n\u001b[1;32m    756\u001b[0m \u001b[43m\u001b[49m\u001b[43m)\u001b[49m\n",
      "File \u001b[0;32m~/.cache/pypoetry/virtualenvs/opf-D4LT1ipO-py3.11/lib/python3.11/site-packages/pytorch_lightning/trainer/call.py:44\u001b[0m, in \u001b[0;36m_call_and_handle_interrupt\u001b[0;34m(trainer, trainer_fn, *args, **kwargs)\u001b[0m\n\u001b[1;32m     42\u001b[0m     \u001b[38;5;28;01mif\u001b[39;00m trainer\u001b[38;5;241m.\u001b[39mstrategy\u001b[38;5;241m.\u001b[39mlauncher \u001b[38;5;129;01mis\u001b[39;00m \u001b[38;5;129;01mnot\u001b[39;00m \u001b[38;5;28;01mNone\u001b[39;00m:\n\u001b[1;32m     43\u001b[0m         \u001b[38;5;28;01mreturn\u001b[39;00m trainer\u001b[38;5;241m.\u001b[39mstrategy\u001b[38;5;241m.\u001b[39mlauncher\u001b[38;5;241m.\u001b[39mlaunch(trainer_fn, \u001b[38;5;241m*\u001b[39margs, trainer\u001b[38;5;241m=\u001b[39mtrainer, \u001b[38;5;241m*\u001b[39m\u001b[38;5;241m*\u001b[39mkwargs)\n\u001b[0;32m---> 44\u001b[0m     \u001b[38;5;28;01mreturn\u001b[39;00m \u001b[43mtrainer_fn\u001b[49m\u001b[43m(\u001b[49m\u001b[38;5;241;43m*\u001b[39;49m\u001b[43margs\u001b[49m\u001b[43m,\u001b[49m\u001b[43m \u001b[49m\u001b[38;5;241;43m*\u001b[39;49m\u001b[38;5;241;43m*\u001b[39;49m\u001b[43mkwargs\u001b[49m\u001b[43m)\u001b[49m\n\u001b[1;32m     46\u001b[0m \u001b[38;5;28;01mexcept\u001b[39;00m _TunerExitException:\n\u001b[1;32m     47\u001b[0m     _call_teardown_hook(trainer)\n",
      "File \u001b[0;32m~/.cache/pypoetry/virtualenvs/opf-D4LT1ipO-py3.11/lib/python3.11/site-packages/pytorch_lightning/trainer/trainer.py:794\u001b[0m, in \u001b[0;36mTrainer._test_impl\u001b[0;34m(self, model, dataloaders, ckpt_path, verbose, datamodule)\u001b[0m\n\u001b[1;32m    790\u001b[0m \u001b[38;5;28;01massert\u001b[39;00m \u001b[38;5;28mself\u001b[39m\u001b[38;5;241m.\u001b[39mstate\u001b[38;5;241m.\u001b[39mfn \u001b[38;5;129;01mis\u001b[39;00m \u001b[38;5;129;01mnot\u001b[39;00m \u001b[38;5;28;01mNone\u001b[39;00m\n\u001b[1;32m    791\u001b[0m ckpt_path \u001b[38;5;241m=\u001b[39m \u001b[38;5;28mself\u001b[39m\u001b[38;5;241m.\u001b[39m_checkpoint_connector\u001b[38;5;241m.\u001b[39m_select_ckpt_path(\n\u001b[1;32m    792\u001b[0m     \u001b[38;5;28mself\u001b[39m\u001b[38;5;241m.\u001b[39mstate\u001b[38;5;241m.\u001b[39mfn, ckpt_path, model_provided\u001b[38;5;241m=\u001b[39mmodel_provided, model_connected\u001b[38;5;241m=\u001b[39m\u001b[38;5;28mself\u001b[39m\u001b[38;5;241m.\u001b[39mlightning_module \u001b[38;5;129;01mis\u001b[39;00m \u001b[38;5;129;01mnot\u001b[39;00m \u001b[38;5;28;01mNone\u001b[39;00m\n\u001b[1;32m    793\u001b[0m )\n\u001b[0;32m--> 794\u001b[0m results \u001b[38;5;241m=\u001b[39m \u001b[38;5;28;43mself\u001b[39;49m\u001b[38;5;241;43m.\u001b[39;49m\u001b[43m_run\u001b[49m\u001b[43m(\u001b[49m\u001b[43mmodel\u001b[49m\u001b[43m,\u001b[49m\u001b[43m \u001b[49m\u001b[43mckpt_path\u001b[49m\u001b[38;5;241;43m=\u001b[39;49m\u001b[43mckpt_path\u001b[49m\u001b[43m)\u001b[49m\n\u001b[1;32m    795\u001b[0m \u001b[38;5;66;03m# remove the tensors from the test results\u001b[39;00m\n\u001b[1;32m    796\u001b[0m results \u001b[38;5;241m=\u001b[39m convert_tensors_to_scalars(results)\n",
      "File \u001b[0;32m~/.cache/pypoetry/virtualenvs/opf-D4LT1ipO-py3.11/lib/python3.11/site-packages/pytorch_lightning/trainer/trainer.py:987\u001b[0m, in \u001b[0;36mTrainer._run\u001b[0;34m(self, model, ckpt_path)\u001b[0m\n\u001b[1;32m    982\u001b[0m \u001b[38;5;28mself\u001b[39m\u001b[38;5;241m.\u001b[39m_signal_connector\u001b[38;5;241m.\u001b[39mregister_signal_handlers()\n\u001b[1;32m    984\u001b[0m \u001b[38;5;66;03m# ----------------------------\u001b[39;00m\n\u001b[1;32m    985\u001b[0m \u001b[38;5;66;03m# RUN THE TRAINER\u001b[39;00m\n\u001b[1;32m    986\u001b[0m \u001b[38;5;66;03m# ----------------------------\u001b[39;00m\n\u001b[0;32m--> 987\u001b[0m results \u001b[38;5;241m=\u001b[39m \u001b[38;5;28;43mself\u001b[39;49m\u001b[38;5;241;43m.\u001b[39;49m\u001b[43m_run_stage\u001b[49m\u001b[43m(\u001b[49m\u001b[43m)\u001b[49m\n\u001b[1;32m    989\u001b[0m \u001b[38;5;66;03m# ----------------------------\u001b[39;00m\n\u001b[1;32m    990\u001b[0m \u001b[38;5;66;03m# POST-Training CLEAN UP\u001b[39;00m\n\u001b[1;32m    991\u001b[0m \u001b[38;5;66;03m# ----------------------------\u001b[39;00m\n\u001b[1;32m    992\u001b[0m log\u001b[38;5;241m.\u001b[39mdebug(\u001b[38;5;124mf\u001b[39m\u001b[38;5;124m\"\u001b[39m\u001b[38;5;132;01m{\u001b[39;00m\u001b[38;5;28mself\u001b[39m\u001b[38;5;241m.\u001b[39m\u001b[38;5;18m__class__\u001b[39m\u001b[38;5;241m.\u001b[39m\u001b[38;5;18m__name__\u001b[39m\u001b[38;5;132;01m}\u001b[39;00m\u001b[38;5;124m: trainer tearing down\u001b[39m\u001b[38;5;124m\"\u001b[39m)\n",
      "File \u001b[0;32m~/.cache/pypoetry/virtualenvs/opf-D4LT1ipO-py3.11/lib/python3.11/site-packages/pytorch_lightning/trainer/trainer.py:1026\u001b[0m, in \u001b[0;36mTrainer._run_stage\u001b[0;34m(self)\u001b[0m\n\u001b[1;32m   1023\u001b[0m \u001b[38;5;28mself\u001b[39m\u001b[38;5;241m.\u001b[39mlightning_module\u001b[38;5;241m.\u001b[39mzero_grad(\u001b[38;5;241m*\u001b[39m\u001b[38;5;241m*\u001b[39mzero_grad_kwargs)\n\u001b[1;32m   1025\u001b[0m \u001b[38;5;28;01mif\u001b[39;00m \u001b[38;5;28mself\u001b[39m\u001b[38;5;241m.\u001b[39mevaluating:\n\u001b[0;32m-> 1026\u001b[0m     \u001b[38;5;28;01mreturn\u001b[39;00m \u001b[38;5;28;43mself\u001b[39;49m\u001b[38;5;241;43m.\u001b[39;49m\u001b[43m_evaluation_loop\u001b[49m\u001b[38;5;241;43m.\u001b[39;49m\u001b[43mrun\u001b[49m\u001b[43m(\u001b[49m\u001b[43m)\u001b[49m\n\u001b[1;32m   1027\u001b[0m \u001b[38;5;28;01mif\u001b[39;00m \u001b[38;5;28mself\u001b[39m\u001b[38;5;241m.\u001b[39mpredicting:\n\u001b[1;32m   1028\u001b[0m     \u001b[38;5;28;01mreturn\u001b[39;00m \u001b[38;5;28mself\u001b[39m\u001b[38;5;241m.\u001b[39mpredict_loop\u001b[38;5;241m.\u001b[39mrun()\n",
      "File \u001b[0;32m~/.cache/pypoetry/virtualenvs/opf-D4LT1ipO-py3.11/lib/python3.11/site-packages/pytorch_lightning/loops/utilities.py:182\u001b[0m, in \u001b[0;36m_no_grad_context.<locals>._decorator\u001b[0;34m(self, *args, **kwargs)\u001b[0m\n\u001b[1;32m    180\u001b[0m     context_manager \u001b[38;5;241m=\u001b[39m torch\u001b[38;5;241m.\u001b[39mno_grad\n\u001b[1;32m    181\u001b[0m \u001b[38;5;28;01mwith\u001b[39;00m context_manager():\n\u001b[0;32m--> 182\u001b[0m     \u001b[38;5;28;01mreturn\u001b[39;00m \u001b[43mloop_run\u001b[49m\u001b[43m(\u001b[49m\u001b[38;5;28;43mself\u001b[39;49m\u001b[43m,\u001b[49m\u001b[43m \u001b[49m\u001b[38;5;241;43m*\u001b[39;49m\u001b[43margs\u001b[49m\u001b[43m,\u001b[49m\u001b[43m \u001b[49m\u001b[38;5;241;43m*\u001b[39;49m\u001b[38;5;241;43m*\u001b[39;49m\u001b[43mkwargs\u001b[49m\u001b[43m)\u001b[49m\n",
      "File \u001b[0;32m~/.cache/pypoetry/virtualenvs/opf-D4LT1ipO-py3.11/lib/python3.11/site-packages/pytorch_lightning/loops/evaluation_loop.py:135\u001b[0m, in \u001b[0;36m_EvaluationLoop.run\u001b[0;34m(self)\u001b[0m\n\u001b[1;32m    133\u001b[0m     \u001b[38;5;28mself\u001b[39m\u001b[38;5;241m.\u001b[39mbatch_progress\u001b[38;5;241m.\u001b[39mis_last_batch \u001b[38;5;241m=\u001b[39m data_fetcher\u001b[38;5;241m.\u001b[39mdone\n\u001b[1;32m    134\u001b[0m     \u001b[38;5;66;03m# run step hooks\u001b[39;00m\n\u001b[0;32m--> 135\u001b[0m     \u001b[38;5;28;43mself\u001b[39;49m\u001b[38;5;241;43m.\u001b[39;49m\u001b[43m_evaluation_step\u001b[49m\u001b[43m(\u001b[49m\u001b[43mbatch\u001b[49m\u001b[43m,\u001b[49m\u001b[43m \u001b[49m\u001b[43mbatch_idx\u001b[49m\u001b[43m,\u001b[49m\u001b[43m \u001b[49m\u001b[43mdataloader_idx\u001b[49m\u001b[43m,\u001b[49m\u001b[43m \u001b[49m\u001b[43mdataloader_iter\u001b[49m\u001b[43m)\u001b[49m\n\u001b[1;32m    136\u001b[0m \u001b[38;5;28;01mexcept\u001b[39;00m \u001b[38;5;167;01mStopIteration\u001b[39;00m:\n\u001b[1;32m    137\u001b[0m     \u001b[38;5;66;03m# this needs to wrap the `*_step` call too (not just `next`) for `dataloader_iter` support\u001b[39;00m\n\u001b[1;32m    138\u001b[0m     \u001b[38;5;28;01mbreak\u001b[39;00m\n",
      "File \u001b[0;32m~/.cache/pypoetry/virtualenvs/opf-D4LT1ipO-py3.11/lib/python3.11/site-packages/pytorch_lightning/loops/evaluation_loop.py:396\u001b[0m, in \u001b[0;36m_EvaluationLoop._evaluation_step\u001b[0;34m(self, batch, batch_idx, dataloader_idx, dataloader_iter)\u001b[0m\n\u001b[1;32m    390\u001b[0m hook_name \u001b[38;5;241m=\u001b[39m \u001b[38;5;124m\"\u001b[39m\u001b[38;5;124mtest_step\u001b[39m\u001b[38;5;124m\"\u001b[39m \u001b[38;5;28;01mif\u001b[39;00m trainer\u001b[38;5;241m.\u001b[39mtesting \u001b[38;5;28;01melse\u001b[39;00m \u001b[38;5;124m\"\u001b[39m\u001b[38;5;124mvalidation_step\u001b[39m\u001b[38;5;124m\"\u001b[39m\n\u001b[1;32m    391\u001b[0m step_args \u001b[38;5;241m=\u001b[39m (\n\u001b[1;32m    392\u001b[0m     \u001b[38;5;28mself\u001b[39m\u001b[38;5;241m.\u001b[39m_build_step_args_from_hook_kwargs(hook_kwargs, hook_name)\n\u001b[1;32m    393\u001b[0m     \u001b[38;5;28;01mif\u001b[39;00m \u001b[38;5;129;01mnot\u001b[39;00m using_dataloader_iter\n\u001b[1;32m    394\u001b[0m     \u001b[38;5;28;01melse\u001b[39;00m (dataloader_iter,)\n\u001b[1;32m    395\u001b[0m )\n\u001b[0;32m--> 396\u001b[0m output \u001b[38;5;241m=\u001b[39m \u001b[43mcall\u001b[49m\u001b[38;5;241;43m.\u001b[39;49m\u001b[43m_call_strategy_hook\u001b[49m\u001b[43m(\u001b[49m\u001b[43mtrainer\u001b[49m\u001b[43m,\u001b[49m\u001b[43m \u001b[49m\u001b[43mhook_name\u001b[49m\u001b[43m,\u001b[49m\u001b[43m \u001b[49m\u001b[38;5;241;43m*\u001b[39;49m\u001b[43mstep_args\u001b[49m\u001b[43m)\u001b[49m\n\u001b[1;32m    398\u001b[0m \u001b[38;5;28mself\u001b[39m\u001b[38;5;241m.\u001b[39mbatch_progress\u001b[38;5;241m.\u001b[39mincrement_processed()\n\u001b[1;32m    400\u001b[0m \u001b[38;5;28;01mif\u001b[39;00m using_dataloader_iter:\n\u001b[1;32m    401\u001b[0m     \u001b[38;5;66;03m# update the hook kwargs now that the step method might have consumed the iterator\u001b[39;00m\n",
      "File \u001b[0;32m~/.cache/pypoetry/virtualenvs/opf-D4LT1ipO-py3.11/lib/python3.11/site-packages/pytorch_lightning/trainer/call.py:309\u001b[0m, in \u001b[0;36m_call_strategy_hook\u001b[0;34m(trainer, hook_name, *args, **kwargs)\u001b[0m\n\u001b[1;32m    306\u001b[0m     \u001b[38;5;28;01mreturn\u001b[39;00m \u001b[38;5;28;01mNone\u001b[39;00m\n\u001b[1;32m    308\u001b[0m \u001b[38;5;28;01mwith\u001b[39;00m trainer\u001b[38;5;241m.\u001b[39mprofiler\u001b[38;5;241m.\u001b[39mprofile(\u001b[38;5;124mf\u001b[39m\u001b[38;5;124m\"\u001b[39m\u001b[38;5;124m[Strategy]\u001b[39m\u001b[38;5;132;01m{\u001b[39;00mtrainer\u001b[38;5;241m.\u001b[39mstrategy\u001b[38;5;241m.\u001b[39m\u001b[38;5;18m__class__\u001b[39m\u001b[38;5;241m.\u001b[39m\u001b[38;5;18m__name__\u001b[39m\u001b[38;5;132;01m}\u001b[39;00m\u001b[38;5;124m.\u001b[39m\u001b[38;5;132;01m{\u001b[39;00mhook_name\u001b[38;5;132;01m}\u001b[39;00m\u001b[38;5;124m\"\u001b[39m):\n\u001b[0;32m--> 309\u001b[0m     output \u001b[38;5;241m=\u001b[39m \u001b[43mfn\u001b[49m\u001b[43m(\u001b[49m\u001b[38;5;241;43m*\u001b[39;49m\u001b[43margs\u001b[49m\u001b[43m,\u001b[49m\u001b[43m \u001b[49m\u001b[38;5;241;43m*\u001b[39;49m\u001b[38;5;241;43m*\u001b[39;49m\u001b[43mkwargs\u001b[49m\u001b[43m)\u001b[49m\n\u001b[1;32m    311\u001b[0m \u001b[38;5;66;03m# restore current_fx when nested context\u001b[39;00m\n\u001b[1;32m    312\u001b[0m pl_module\u001b[38;5;241m.\u001b[39m_current_fx_name \u001b[38;5;241m=\u001b[39m prev_fx_name\n",
      "File \u001b[0;32m~/.cache/pypoetry/virtualenvs/opf-D4LT1ipO-py3.11/lib/python3.11/site-packages/pytorch_lightning/strategies/strategy.py:425\u001b[0m, in \u001b[0;36mStrategy.test_step\u001b[0;34m(self, *args, **kwargs)\u001b[0m\n\u001b[1;32m    423\u001b[0m \u001b[38;5;28;01mif\u001b[39;00m \u001b[38;5;28mself\u001b[39m\u001b[38;5;241m.\u001b[39mmodel \u001b[38;5;241m!=\u001b[39m \u001b[38;5;28mself\u001b[39m\u001b[38;5;241m.\u001b[39mlightning_module:\n\u001b[1;32m    424\u001b[0m     \u001b[38;5;28;01mreturn\u001b[39;00m \u001b[38;5;28mself\u001b[39m\u001b[38;5;241m.\u001b[39m_forward_redirection(\u001b[38;5;28mself\u001b[39m\u001b[38;5;241m.\u001b[39mmodel, \u001b[38;5;28mself\u001b[39m\u001b[38;5;241m.\u001b[39mlightning_module, \u001b[38;5;124m\"\u001b[39m\u001b[38;5;124mtest_step\u001b[39m\u001b[38;5;124m\"\u001b[39m, \u001b[38;5;241m*\u001b[39margs, \u001b[38;5;241m*\u001b[39m\u001b[38;5;241m*\u001b[39mkwargs)\n\u001b[0;32m--> 425\u001b[0m \u001b[38;5;28;01mreturn\u001b[39;00m \u001b[38;5;28;43mself\u001b[39;49m\u001b[38;5;241;43m.\u001b[39;49m\u001b[43mlightning_module\u001b[49m\u001b[38;5;241;43m.\u001b[39;49m\u001b[43mtest_step\u001b[49m\u001b[43m(\u001b[49m\u001b[38;5;241;43m*\u001b[39;49m\u001b[43margs\u001b[49m\u001b[43m,\u001b[49m\u001b[43m \u001b[49m\u001b[38;5;241;43m*\u001b[39;49m\u001b[38;5;241;43m*\u001b[39;49m\u001b[43mkwargs\u001b[49m\u001b[43m)\u001b[49m\n",
      "File \u001b[0;32m~/opf/src/opf/modules.py:202\u001b[0m, in \u001b[0;36mOPFLogBarrier.test_step\u001b[0;34m(self, batch, *args)\u001b[0m\n\u001b[1;32m    200\u001b[0m \u001b[38;5;28;01mdef\u001b[39;00m \u001b[38;5;21mtest_step\u001b[39m(\u001b[38;5;28mself\u001b[39m, batch: PowerflowBatch, \u001b[38;5;241m*\u001b[39margs):\n\u001b[1;32m    201\u001b[0m     \u001b[38;5;28;01mwith\u001b[39;00m torch\u001b[38;5;241m.\u001b[39mno_grad():\n\u001b[0;32m--> 202\u001b[0m         _, constraints, cost, _ \u001b[38;5;241m=\u001b[39m \u001b[38;5;28;43mself\u001b[39;49m\u001b[38;5;241;43m.\u001b[39;49m\u001b[43m_step_helper\u001b[49m\u001b[43m(\u001b[49m\n\u001b[1;32m    203\u001b[0m \u001b[43m            \u001b[49m\u001b[38;5;241;43m*\u001b[39;49m\u001b[38;5;28;43mself\u001b[39;49m\u001b[38;5;241;43m.\u001b[39;49m\u001b[43mforward\u001b[49m\u001b[43m(\u001b[49m\u001b[43mbatch\u001b[49m\u001b[43m)\u001b[49m\u001b[43m,\u001b[49m\n\u001b[1;32m    204\u001b[0m \u001b[43m            \u001b[49m\u001b[43mbatch\u001b[49m\u001b[38;5;241;43m.\u001b[39;49m\u001b[43mpowerflow_parameters\u001b[49m\u001b[43m,\u001b[49m\n\u001b[1;32m    205\u001b[0m \u001b[43m            \u001b[49m\u001b[43mproject_powermodels\u001b[49m\u001b[38;5;241;43m=\u001b[39;49m\u001b[38;5;28;43;01mTrue\u001b[39;49;00m\u001b[43m,\u001b[49m\n\u001b[1;32m    206\u001b[0m \u001b[43m        \u001b[49m\u001b[43m)\u001b[49m\n\u001b[1;32m    207\u001b[0m         test_metrics \u001b[38;5;241m=\u001b[39m \u001b[38;5;28mself\u001b[39m\u001b[38;5;241m.\u001b[39mmetrics(\n\u001b[1;32m    208\u001b[0m             cost, constraints, \u001b[38;5;124m\"\u001b[39m\u001b[38;5;124mtest\u001b[39m\u001b[38;5;124m\"\u001b[39m, \u001b[38;5;28mself\u001b[39m\u001b[38;5;241m.\u001b[39mdetailed_metrics\n\u001b[1;32m    209\u001b[0m         )\n\u001b[1;32m    210\u001b[0m         \u001b[38;5;28mself\u001b[39m\u001b[38;5;241m.\u001b[39mlog_dict(\n\u001b[1;32m    211\u001b[0m             test_metrics,\n\u001b[1;32m    212\u001b[0m             batch_size\u001b[38;5;241m=\u001b[39mbatch\u001b[38;5;241m.\u001b[39mdata\u001b[38;5;241m.\u001b[39mnum_graphs,\n\u001b[1;32m    213\u001b[0m         )\n",
      "File \u001b[0;32m~/opf/src/opf/modules.py:146\u001b[0m, in \u001b[0;36mOPFLogBarrier._step_helper\u001b[0;34m(self, V, Sg, Sd, parameters, substitute_equality, project_powermodels)\u001b[0m\n\u001b[1;32m    141\u001b[0m     \u001b[38;5;28;01mraise\u001b[39;00m \u001b[38;5;167;01mValueError\u001b[39;00m(\n\u001b[1;32m    142\u001b[0m         \u001b[38;5;124m\"\u001b[39m\u001b[38;5;124msubstitute_equality and project_powermodels are mutually exclusive\u001b[39m\u001b[38;5;124m\"\u001b[39m\n\u001b[1;32m    143\u001b[0m     )\n\u001b[1;32m    144\u001b[0m \u001b[38;5;28;01mif\u001b[39;00m project_powermodels:\n\u001b[1;32m    145\u001b[0m     \u001b[38;5;66;03m# Project the solution to the powermodels solution\u001b[39;00m\n\u001b[0;32m--> 146\u001b[0m     V, Sg, Sd \u001b[38;5;241m=\u001b[39m \u001b[38;5;28;43mself\u001b[39;49m\u001b[38;5;241;43m.\u001b[39;49m\u001b[43mproject_powermodels\u001b[49m\u001b[43m(\u001b[49m\u001b[43mV\u001b[49m\u001b[43m,\u001b[49m\u001b[43m \u001b[49m\u001b[43mSg\u001b[49m\u001b[43m,\u001b[49m\u001b[43m \u001b[49m\u001b[43mSd\u001b[49m\u001b[43m,\u001b[49m\u001b[43m \u001b[49m\u001b[43mparameters\u001b[49m\u001b[43m)\u001b[49m\n\u001b[1;32m    147\u001b[0m variables \u001b[38;5;241m=\u001b[39m pf\u001b[38;5;241m.\u001b[39mpowerflow(V, Sg, Sd, parameters)\n\u001b[1;32m    148\u001b[0m \u001b[38;5;28;01mif\u001b[39;00m substitute_equality:\n\u001b[1;32m    149\u001b[0m     \u001b[38;5;66;03m# Make a substitution to enforce equality constraints\u001b[39;00m\n",
      "File \u001b[0;32m~/opf/src/opf/modules.py:270\u001b[0m, in \u001b[0;36mOPFLogBarrier.project_powermodels\u001b[0;34m(self, V, Sg, Sd, parameters)\u001b[0m\n\u001b[1;32m    268\u001b[0m Sd \u001b[38;5;241m=\u001b[39m torch\u001b[38;5;241m.\u001b[39mfrom_numpy(Sd)\n\u001b[1;32m    269\u001b[0m V \u001b[38;5;241m=\u001b[39m torch\u001b[38;5;241m.\u001b[39mcomplex(V[\u001b[38;5;241m.\u001b[39m\u001b[38;5;241m.\u001b[39m\u001b[38;5;241m.\u001b[39m, \u001b[38;5;241m0\u001b[39m], V[\u001b[38;5;241m.\u001b[39m\u001b[38;5;241m.\u001b[39m\u001b[38;5;241m.\u001b[39m, \u001b[38;5;241m1\u001b[39m])\u001b[38;5;241m.\u001b[39mto(device, dtype)\u001b[38;5;241m.\u001b[39mview(shape)\n\u001b[0;32m--> 270\u001b[0m Sg \u001b[38;5;241m=\u001b[39m \u001b[43mtorch\u001b[49m\u001b[38;5;241;43m.\u001b[39;49m\u001b[43mcomplex\u001b[49m\u001b[43m(\u001b[49m\u001b[43mSg\u001b[49m\u001b[43m[\u001b[49m\u001b[38;5;241;43m.\u001b[39;49m\u001b[38;5;241;43m.\u001b[39;49m\u001b[38;5;241;43m.\u001b[39;49m\u001b[43m,\u001b[49m\u001b[43m \u001b[49m\u001b[38;5;241;43m0\u001b[39;49m\u001b[43m]\u001b[49m\u001b[43m,\u001b[49m\u001b[43m \u001b[49m\u001b[43mSg\u001b[49m\u001b[43m[\u001b[49m\u001b[38;5;241;43m.\u001b[39;49m\u001b[38;5;241;43m.\u001b[39;49m\u001b[38;5;241;43m.\u001b[39;49m\u001b[43m,\u001b[49m\u001b[43m \u001b[49m\u001b[38;5;241;43m1\u001b[39;49m\u001b[43m]\u001b[49m\u001b[43m)\u001b[49m\u001b[38;5;241;43m.\u001b[39;49m\u001b[43mto\u001b[49m\u001b[43m(\u001b[49m\u001b[43mdevice\u001b[49m\u001b[43m,\u001b[49m\u001b[43m \u001b[49m\u001b[43mdtype\u001b[49m\u001b[43m)\u001b[49m\u001b[38;5;241;43m.\u001b[39;49m\u001b[43mview\u001b[49m\u001b[43m(\u001b[49m\u001b[43mshape\u001b[49m\u001b[43m)\u001b[49m\n\u001b[1;32m    271\u001b[0m Sd \u001b[38;5;241m=\u001b[39m torch\u001b[38;5;241m.\u001b[39mcomplex(Sd[\u001b[38;5;241m.\u001b[39m\u001b[38;5;241m.\u001b[39m\u001b[38;5;241m.\u001b[39m, \u001b[38;5;241m0\u001b[39m], Sd[\u001b[38;5;241m.\u001b[39m\u001b[38;5;241m.\u001b[39m\u001b[38;5;241m.\u001b[39m, \u001b[38;5;241m1\u001b[39m])\u001b[38;5;241m.\u001b[39mto(device, dtype)\u001b[38;5;241m.\u001b[39mview(shape)\n\u001b[1;32m    272\u001b[0m \u001b[38;5;28;01mreturn\u001b[39;00m V, Sg, Sd\n",
      "\u001b[0;31mRuntimeError\u001b[0m: shape '[32, 30]' is invalid for input of size 36"
     ]
    }
   ],
   "source": [
    "# Run test\n",
    "barrier.detailed_metrics = True\n",
    "outputs = utils.test(barrier, dm, accelerator=\"gpu\")"
   ]
  },
  {
   "cell_type": "markdown",
   "metadata": {},
   "source": [
    "# Summary"
   ]
  },
  {
   "cell_type": "code",
   "execution_count": 7,
   "metadata": {},
   "outputs": [
    {
     "ename": "NameError",
     "evalue": "name 'outputs' is not defined",
     "output_type": "error",
     "traceback": [
      "\u001b[0;31m---------------------------------------------------------------------------\u001b[0m",
      "\u001b[0;31mNameError\u001b[0m                                 Traceback (most recent call last)",
      "Cell \u001b[0;32mIn[7], line 1\u001b[0m\n\u001b[0;32m----> 1\u001b[0m df \u001b[38;5;241m=\u001b[39m \u001b[43moutputs\u001b[49m\u001b[38;5;241m.\u001b[39mcopy()\n\u001b[1;32m      2\u001b[0m display(\n\u001b[1;32m      3\u001b[0m     df[\n\u001b[1;32m      4\u001b[0m         [\n\u001b[0;32m   (...)\u001b[0m\n\u001b[1;32m     14\u001b[0m     ]\u001b[38;5;241m.\u001b[39mmax()\n\u001b[1;32m     15\u001b[0m )\n\u001b[1;32m     17\u001b[0m \u001b[38;5;28mprint\u001b[39m(\n\u001b[1;32m     18\u001b[0m     \u001b[38;5;124mf\u001b[39m\u001b[38;5;124m\"\"\"\u001b[39m\n\u001b[1;32m     19\u001b[0m \u001b[38;5;124mGNN Cost: \u001b[39m\u001b[38;5;132;01m{\u001b[39;00mdf[\u001b[38;5;124m\"\u001b[39m\u001b[38;5;124mtest/cost\u001b[39m\u001b[38;5;124m\"\u001b[39m]\u001b[38;5;241m.\u001b[39mmean()\u001b[38;5;132;01m:\u001b[39;00m\u001b[38;5;124m0.4f\u001b[39m\u001b[38;5;132;01m}\u001b[39;00m\n\u001b[0;32m   (...)\u001b[0m\n\u001b[1;32m     23\u001b[0m \u001b[38;5;124m\"\"\"\u001b[39m\n\u001b[1;32m     24\u001b[0m )\n",
      "\u001b[0;31mNameError\u001b[0m: name 'outputs' is not defined"
     ]
    }
   ],
   "source": [
    "df = outputs.copy()\n",
    "display(\n",
    "    df[\n",
    "        [\n",
    "            \"test/equality/error_max\",\n",
    "            \"test/inequality/error_max\",\n",
    "            \"test/inequality/active_power/error_max\",\n",
    "            \"test/inequality/reactive_power/error_max\",\n",
    "            \"test/inequality/voltage_magnitude/error_max\",\n",
    "            \"test/inequality/forward_rate/error_max\",\n",
    "            \"test/inequality/backward_rate/error_max\",\n",
    "            \"test/inequality/voltage_angle_difference/error_max\",\n",
    "        ]\n",
    "    ].max()\n",
    ")\n",
    "\n",
    "print(\n",
    "    f\"\"\"\n",
    "GNN Cost: {df[\"test/cost\"].mean():0.4f}\n",
    "\n",
    "Maximum violation rate: {df[\"test/inequality/rate\"].max():0.4f}\n",
    "Rate of any violation: {(df[\"test/inequality/error_max\"] > 1e-4).sum() / len(df):0.4f}\n",
    "\"\"\"\n",
    ")\n",
    "# not implemented right now\n",
    "# IPOPT Cost: {df[\"acopf/cost\"].mean():0.4f}\n",
    "# GNN/IPOPT: {(df[\"test/cost\"]/df[\"acopf/cost\"]).mean():0.4f}"
   ]
  },
  {
   "cell_type": "markdown",
   "metadata": {},
   "source": [
    "# Histograms"
   ]
  },
  {
   "cell_type": "code",
   "execution_count": 8,
   "metadata": {
    "scrolled": false,
    "tags": []
   },
   "outputs": [
    {
     "ename": "NameError",
     "evalue": "name 'df' is not defined",
     "output_type": "error",
     "traceback": [
      "\u001b[0;31m---------------------------------------------------------------------------\u001b[0m",
      "\u001b[0;31mNameError\u001b[0m                                 Traceback (most recent call last)",
      "Cell \u001b[0;32mIn[8], line 13\u001b[0m\n\u001b[1;32m      4\u001b[0m ylabel \u001b[38;5;241m=\u001b[39m \u001b[38;5;124m\"\u001b[39m\u001b[38;5;124mCount / # of samples\u001b[39m\u001b[38;5;124m\"\u001b[39m\n\u001b[1;32m      5\u001b[0m kwargs \u001b[38;5;241m=\u001b[39m \u001b[38;5;28mdict\u001b[39m(\n\u001b[1;32m      6\u001b[0m     bins\u001b[38;5;241m=\u001b[39m\u001b[38;5;241m10\u001b[39m,\n\u001b[1;32m      7\u001b[0m     stat\u001b[38;5;241m=\u001b[39m\u001b[38;5;124m\"\u001b[39m\u001b[38;5;124mproportion\u001b[39m\u001b[38;5;124m\"\u001b[39m,\n\u001b[1;32m      8\u001b[0m     aspect\u001b[38;5;241m=\u001b[39maspect,\n\u001b[1;32m      9\u001b[0m     height\u001b[38;5;241m=\u001b[39m\u001b[38;5;241m3.5\u001b[39m \u001b[38;5;241m/\u001b[39m aspect,\n\u001b[1;32m     10\u001b[0m )\n\u001b[0;32m---> 13\u001b[0m sns\u001b[38;5;241m.\u001b[39mdisplot(\u001b[43mdf\u001b[49m, x\u001b[38;5;241m=\u001b[39m\u001b[38;5;124m\"\u001b[39m\u001b[38;5;124mtest/inequality/error_max\u001b[39m\u001b[38;5;124m\"\u001b[39m, \u001b[38;5;241m*\u001b[39m\u001b[38;5;241m*\u001b[39mkwargs)\n\u001b[1;32m     14\u001b[0m plt\u001b[38;5;241m.\u001b[39mxlabel(\u001b[38;5;124m\"\u001b[39m\u001b[38;5;124mMax inequality error\u001b[39m\u001b[38;5;124m\"\u001b[39m)\n\u001b[1;32m     15\u001b[0m plt\u001b[38;5;241m.\u001b[39mylabel(ylabel)\n",
      "\u001b[0;31mNameError\u001b[0m: name 'df' is not defined"
     ]
    }
   ],
   "source": [
    "from utils import FlowLayout\n",
    "\n",
    "aspect = 1.618\n",
    "ylabel = \"Count / # of samples\"\n",
    "kwargs = dict(\n",
    "    bins=10,\n",
    "    stat=\"proportion\",\n",
    "    aspect=aspect,\n",
    "    height=3.5 / aspect,\n",
    ")\n",
    "\n",
    "\n",
    "sns.displot(df, x=\"test/inequality/error_max\", **kwargs)\n",
    "plt.xlabel(\"Max inequality error\")\n",
    "plt.ylabel(ylabel)\n",
    "save(\"error_max\")\n",
    "\n",
    "sns.displot(df, x=\"test/inequality/error_mean\", **kwargs)\n",
    "plt.xlabel(\"Mean inequality error\")\n",
    "plt.ylabel(ylabel)\n",
    "save(\"error_mean\")\n",
    "\n",
    "# Cost improvement\n",
    "# df[\"test/cost/improvement\"] = df[\"test/cost\"] / df[\"acopf/cost\"]\n",
    "# df[\"violation\"] = df[\"test/inequality/rate\"] > 1e-8\n",
    "# sns.displot(df[~df[\"violation\"]], x=\"test/cost/improvement\", **kwargs)\n",
    "# plt.xlabel(\"GNN / IPOPT cost ratio\")\n",
    "# plt.ylabel(ylabel)\n",
    "# save(\"costs\")\n",
    "\n",
    "# map variable names to series names\n",
    "fmt = \"test/inequality/%s/error_max\"\n",
    "hist_dict = {\n",
    "    \"equality\": [\"test/equality/bus_power/error_max\"],\n",
    "    \"gen\": [fmt % \"active_power\", fmt % \"reactive_power\"],\n",
    "    \"vm\": [fmt % \"voltage_magnitude\"],\n",
    "    \"rate\": [fmt % \"forward_rate\", fmt % \"backward_rate\"],\n",
    "    \"vad\": [fmt % \"voltage_angle_difference\"],\n",
    "}\n",
    "\n",
    "sns.displot(df[\"test/equality/bus_power/error_max\"], **kwargs)\n",
    "plt.xlabel(\"Bus power equality error\")\n",
    "plt.ylabel(ylabel)\n",
    "save(\"error_equality\")\n",
    "\n",
    "power_df = df.melt(value_vars=[fmt % \"active_power\", fmt % \"reactive_power\"])\n",
    "sns.displot(power_df, x=\"value\", **kwargs)\n",
    "plt.xlabel(\"Generated power error\")\n",
    "plt.ylabel(ylabel)\n",
    "save(\"error_gen\")\n",
    "\n",
    "sns.displot(df[fmt % \"voltage_magnitude\"], **kwargs)\n",
    "plt.xlabel(\"Voltage magnitude error\")\n",
    "plt.ylabel(ylabel)\n",
    "save(\"error_vm\")\n",
    "\n",
    "flow_df = df.melt(value_vars=[fmt % \"forward_rate\", fmt % \"backward_rate\"])\n",
    "sns.displot(flow_df, x=\"value\", **kwargs)\n",
    "plt.xlabel(\"Power rate limit error\")\n",
    "plt.ylabel(ylabel)\n",
    "save(\"error_rate\")\n",
    "\n",
    "sns.displot(df[fmt % \"voltage_angle_difference\"], **kwargs)\n",
    "plt.xlabel(\"Voltage angle difference error\")\n",
    "plt.ylabel(ylabel)\n",
    "save(\"error_vad\")\n",
    "\n",
    "FlowLayout().all_open()"
   ]
  },
  {
   "cell_type": "markdown",
   "metadata": {},
   "source": [
    "# Visualizing Violations"
   ]
  },
  {
   "cell_type": "code",
   "execution_count": 10,
   "metadata": {},
   "outputs": [
    {
     "ename": "NameError",
     "evalue": "name 'df' is not defined",
     "output_type": "error",
     "traceback": [
      "\u001b[0;31m---------------------------------------------------------------------------\u001b[0m",
      "\u001b[0;31mNameError\u001b[0m                                 Traceback (most recent call last)",
      "Cell \u001b[0;32mIn[10], line 4\u001b[0m\n\u001b[1;32m      1\u001b[0m sort_term \u001b[38;5;241m=\u001b[39m \u001b[38;5;124m\"\u001b[39m\u001b[38;5;124mtest/inequality/error_max\u001b[39m\u001b[38;5;124m\"\u001b[39m\n\u001b[1;32m      2\u001b[0m quantile \u001b[38;5;241m=\u001b[39m \u001b[38;5;241m0.5\u001b[39m\n\u001b[0;32m----> 4\u001b[0m s \u001b[38;5;241m=\u001b[39m \u001b[43mdf\u001b[49m[sort_term]\n\u001b[1;32m      5\u001b[0m index \u001b[38;5;241m=\u001b[39m \u001b[38;5;28mint\u001b[39m((s\u001b[38;5;241m.\u001b[39msort_values()[::\u001b[38;5;241m-\u001b[39m\u001b[38;5;241m1\u001b[39m] \u001b[38;5;241m<\u001b[39m\u001b[38;5;241m=\u001b[39m s\u001b[38;5;241m.\u001b[39mquantile(quantile))\u001b[38;5;241m.\u001b[39midxmax())\n\u001b[1;32m      6\u001b[0m \u001b[38;5;28mprint\u001b[39m(sort_term, s[index])\n",
      "\u001b[0;31mNameError\u001b[0m: name 'df' is not defined"
     ]
    }
   ],
   "source": [
    "sort_term = \"test/inequality/error_max\"\n",
    "quantile = 0.5\n",
    "\n",
    "s = df[sort_term]\n",
    "index = int((s.sort_values()[::-1] <= s.quantile(quantile)).idxmax())\n",
    "print(sort_term, s[index])\n",
    "print(\"Idx\", index)\n",
    "df.iloc[index][\n",
    "    [\n",
    "        \"test/cost\",\n",
    "        \"test/equality/bus_power/error_max\",\n",
    "        \"test/equality/bus_reference/error_max\",\n",
    "        \"test/inequality/error_max\",\n",
    "        \"test/inequality/active_power/error_max\",\n",
    "        \"test/inequality/reactive_power/error_max\",\n",
    "        \"test/inequality/voltage_magnitude/error_max\",\n",
    "        \"test/inequality/forward_rate/error_max\",\n",
    "        \"test/inequality/backward_rate/error_max\",\n",
    "        \"test/inequality/voltage_angle_difference/error_max\",\n",
    "    ]\n",
    "]"
   ]
  },
  {
   "cell_type": "code",
   "execution_count": null,
   "metadata": {},
   "outputs": [
    {
     "ename": "AssertionError",
     "evalue": "",
     "output_type": "error",
     "traceback": [
      "\u001b[0;31m---------------------------------------------------------------------------\u001b[0m",
      "\u001b[0;31mAssertionError\u001b[0m                            Traceback (most recent call last)",
      "\u001b[1;32m/home/damow/projects/opf/notebooks/analysis.ipynb Cell 12\u001b[0m line \u001b[0;36m8\n\u001b[1;32m      <a href='vscode-notebook-cell:/home/damow/projects/opf/notebooks/analysis.ipynb#X14sZmlsZQ%3D%3D?line=5'>6</a>\u001b[0m dm\u001b[39m.\u001b[39msetup(\u001b[39m\"\u001b[39m\u001b[39mtest\u001b[39m\u001b[39m\"\u001b[39m)\n\u001b[1;32m      <a href='vscode-notebook-cell:/home/damow/projects/opf/notebooks/analysis.ipynb#X14sZmlsZQ%3D%3D?line=6'>7</a>\u001b[0m dataset \u001b[39m=\u001b[39m dm\u001b[39m.\u001b[39mtest_dataset\n\u001b[0;32m----> <a href='vscode-notebook-cell:/home/damow/projects/opf/notebooks/analysis.ipynb#X14sZmlsZQ%3D%3D?line=7'>8</a>\u001b[0m \u001b[39massert\u001b[39;00m \u001b[39misinstance\u001b[39m(dataset, opf\u001b[39m.\u001b[39mdataset\u001b[39m.\u001b[39mStaticGraphDataset)\n\u001b[1;32m      <a href='vscode-notebook-cell:/home/damow/projects/opf/notebooks/analysis.ipynb#X14sZmlsZQ%3D%3D?line=8'>9</a>\u001b[0m data \u001b[39m=\u001b[39m dataset[index]\n\u001b[1;32m     <a href='vscode-notebook-cell:/home/damow/projects/opf/notebooks/analysis.ipynb#X14sZmlsZQ%3D%3D?line=9'>10</a>\u001b[0m V, S, Sd \u001b[39m=\u001b[39m barrier\u001b[39m.\u001b[39mfloat()(data)\n",
      "\u001b[0;31mAssertionError\u001b[0m: "
     ]
    }
   ],
   "source": [
    "# perform inference on the test set\n",
    "from opf.plot import plot_constraints\n",
    "import opf.powerflow as pf\n",
    "\n",
    "with torch.no_grad():\n",
    "    dm.setup(\"test\")\n",
    "    dataset = dm.test_dataset\n",
    "    assert isinstance(dataset, opf.dataset.StaticGraphDataset)\n",
    "    data = dataset[index]\n",
    "    V, S, Sd = barrier.float()(data)\n",
    "    variables, _, _, _ = barrier._step_helper(\n",
    "        V, S, Sd, data.powerflow_parameters, substitute_equality=True\n",
    "    )\n",
    "    constraints = pf.build_constraints(variables, data.powerflow_parameters)\n",
    "    plots = plot_constraints(constraints)"
   ]
  },
  {
   "cell_type": "code",
   "execution_count": null,
   "metadata": {
    "scrolled": false
   },
   "outputs": [],
   "source": [
    "# import numpy as np\n",
    "\n",
    "# dataset = dm.test_dataset\n",
    "# assert isinstance(dataset, opf.dataset.StaticGraphDataset)\n",
    "\n",
    "# n_bus = dataset[0].powerflow_parameters.n_bus\n",
    "# casefile = dm.case_path.as_posix()\n",
    "\n",
    "# V = np.zeros((len(dataset), n_bus, 2))\n",
    "# Sg = np.zeros((len(dataset), n_bus, 2))\n",
    "# Sd = np.zeros((len(dataset), n_bus, 2))\n",
    "# with torch.no_grad():\n",
    "#     for i in range(len(dataset)):\n",
    "#         data = dataset[i]\n",
    "#         _V, _Sg, _Sd = barrier.float()(data)\n",
    "#         V[i, :] = torch.view_as_real(_V).squeeze().numpy()\n",
    "#         Sg[i, :] = torch.view_as_real(_Sg).squeeze().numpy()\n",
    "#         Sd[i, :] = torch.view_as_real(_Sd).squeeze().numpy()\n",
    "\n",
    "# # project using Julia\n",
    "# with TemporaryDirectory() as tempdir:\n",
    "#     busfile = Path(tempdir) / \"busfile.npz\"\n",
    "#     np.savez(busfile, V=V, Sg=Sg, Sd=Sd)\n",
    "#     !julia ../scripts/project.jl --casefile {casefile} --busfile {busfile.as_posix()}\n",
    "#     bus = np.load(busfile)\n",
    "# V, Sg, Sd = bus[\"V\"], bus[\"Sg\"], bus[\"Sd\"]"
   ]
  },
  {
   "cell_type": "code",
   "execution_count": null,
   "metadata": {},
   "outputs": [],
   "source": [
    "# df[\"acopf/cost/relaxed\"] = None\n",
    "# for i in tqdm.tqdm(range(len(df))):\n",
    "#     forward_error = df.iloc[i][\"test/inequality/forward_rate/error_max\"]\n",
    "#     backward_error = df.iloc[i][\"test/inequality/backward_rate/error_max\"]\n",
    "\n",
    "#     increase = 1 + torch.clamp((torch.maximum(variables.Sf.abs(), variables.St.abs()) - barrier.powerflow_parameters.rate_a) / barrier.powerflow_parameters.rate_a, min=0) \\\n",
    "#         .squeeze().detach().numpy()\n",
    "#     net = barrier.net_wrapper.net\n",
    "#     original = net.line.copy()\n",
    "#     barrier.net_wrapper.set_load_sparse(variables.Sd.real.squeeze(), variables.Sd.imag.squeeze())\n",
    "\n",
    "#     net.line[\"max_i_ka\"] *= increase[:len(net.line)]\n",
    "#     bus = torch.as_tensor(barrier.net_wrapper.optimal_ac(False)[0]).double().unsqueeze(0)\n",
    "#     _, constraints, cost, _ = barrier._step_helper(\n",
    "#                     *barrier.parse_bus(bus),\n",
    "#                     variables.Sd,\n",
    "#                     project_pandapower=False,\n",
    "#     )\n",
    "#     net.line = original\n",
    "#     df[\"acopf/cost/relaxed\"].iloc[i] = cost.item()\n",
    "# print(\"IPOPT Original Cost:\", df[\"acopf/cost\"].mean())\n",
    "# print(\"IPOPT Relaxed Cost:\", df[\"acopf/cost/relaxed\"].mean())\n",
    "# print(\"GNN Cost\", df[\"test/cost\"].mean())"
   ]
  }
 ],
 "metadata": {
  "kernelspec": {
   "display_name": "Python 3.9.9 64-bit ('opf')",
   "language": "python",
   "name": "python3"
  },
  "language_info": {
   "codemirror_mode": {
    "name": "ipython",
    "version": 3
   },
   "file_extension": ".py",
   "mimetype": "text/x-python",
   "name": "python",
   "nbconvert_exporter": "python",
   "pygments_lexer": "ipython3",
   "version": "3.11.8"
  },
  "vscode": {
   "interpreter": {
    "hash": "64a203c16afbb1a06b1302851759b3889b998f26b46f127d5a005b1922b5de34"
   }
  }
 },
 "nbformat": 4,
 "nbformat_minor": 1
}
