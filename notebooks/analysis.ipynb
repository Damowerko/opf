{
 "cells": [
  {
   "cell_type": "code",
   "execution_count": null,
   "metadata": {},
   "outputs": [],
   "source": [
    "%load_ext autoreload\n",
    "%autoreload 2"
   ]
  },
  {
   "cell_type": "code",
   "execution_count": null,
   "metadata": {},
   "outputs": [],
   "source": [
    "from pathlib import Path\n",
    "from tempfile import TemporaryDirectory\n",
    "\n",
    "import matplotlib as mpl\n",
    "import seaborn as sns\n",
    "import torch\n",
    "import wandb\n",
    "from matplotlib import pyplot as plt\n",
    "import pandas as pd\n",
    "import typing\n",
    "\n",
    "import opf\n",
    "import opf.utils\n",
    "import opf.dataset\n",
    "from opf.hetero import HeteroGCN\n",
    "from opf.modules import OPFDual, OPFDual\n",
    "\n",
    "mpl.rcParams[\"text.usetex\"] = False\n",
    "\n",
    "sns.set_style(\"white\")\n",
    "sns.set_context(\"paper\")\n",
    "\n",
    "torch.set_float32_matmul_precision(\"high\")"
   ]
  },
  {
   "cell_type": "code",
   "execution_count": null,
   "metadata": {},
   "outputs": [],
   "source": [
    "run_uri = \"wandb://damowerko/opf/xtfljzbn\""
   ]
  },
  {
   "cell_type": "code",
   "execution_count": null,
   "metadata": {},
   "outputs": [],
   "source": [
    "base, path = run_uri.split(\"://\")\n",
    "if base != \"wandb\":\n",
    "    raise ValueError(\"Only wandb runs are supported\")\n",
    "\n",
    "api = wandb.Api()\n",
    "run = api.run(path)\n",
    "run.config.update(data_dir=\"../data\")\n",
    "\n",
    "# initialize data\n",
    "config = run.config\n",
    "# config.update(batch_size=128)\n",
    "dm = opf.dataset.CaseDataModule(**config)\n",
    "dm.setup(\"test\")\n",
    "assert dm.test_dataset is not None\n",
    "\n",
    "# initialize model and initialize lazy layers\n",
    "model = OPFDual(**run.config, model=HeteroGCN(dm.metadata(), -1, 4, **config))\n",
    "model(dm.test_dataset[0])\n",
    "\n",
    "# load checkpoint\n",
    "with TemporaryDirectory() as tmpdir:\n",
    "    artifact = api.artifact(f\"damowerko/opf/model-{run.id}:best\")\n",
    "    checkpoint_path = artifact.download(root=tmpdir)\n",
    "    checkpoint = torch.load(Path(checkpoint_path) / \"model.ckpt\", map_location=\"cpu\")\n",
    "    model.load_state_dict(checkpoint[\"state_dict\"], strict=True)"
   ]
  },
  {
   "cell_type": "code",
   "execution_count": null,
   "metadata": {},
   "outputs": [],
   "source": [
    "save_dir = Path(f\"../figures/dual/{run.config['case_name']}/\")\n",
    "save_dir.mkdir(parents=True, exist_ok=True)\n",
    "\n",
    "\n",
    "def save(title: str, fig=plt):\n",
    "    # fig.savefig(save_dir / f\"{title}.png\")\n",
    "    fig.savefig(save_dir / f\"{title}.pdf\")"
   ]
  },
  {
   "cell_type": "code",
   "execution_count": null,
   "metadata": {},
   "outputs": [],
   "source": [
    "from opf import powerflow as pf\n",
    "import h5py\n",
    "from pathlib import Path\n",
    "from tqdm.notebook import tqdm\n",
    "\n",
    "metrics = []\n",
    "with torch.no_grad():\n",
    "    for batch in tqdm(dm.test_dataloader()):\n",
    "        variables = model.forward(batch)\n",
    "        variables = model.project_powermodels(\n",
    "            variables, batch.powerflow_parameters, clamp=True\n",
    "        )\n",
    "        for i in range(batch.data.num_graphs):\n",
    "            _variables = variables[i]\n",
    "            cost = model.cost(_variables, batch.powerflow_parameters)\n",
    "            constraints = model.constraints(_variables, batch.powerflow_parameters)\n",
    "            metrics.append(\n",
    "                {\n",
    "                    k: v.item()\n",
    "                    for k, v in model.metrics(cost, constraints, \"test\", True).items()\n",
    "                }\n",
    "            )\n",
    "df = pd.DataFrame(metrics)"
   ]
  },
  {
   "cell_type": "code",
   "execution_count": null,
   "metadata": {},
   "outputs": [],
   "source": [
    "with h5py.File(Path(batch.powerflow_parameters.casefile).with_suffix(\".h5\"), \"r\") as f:\n",
    "    df[\"acopf/cost\"] = f[\"objective\"][-1000:] / batch.powerflow_parameters.reference_cost  # type: ignore"
   ]
  },
  {
   "cell_type": "markdown",
   "metadata": {},
   "source": [
    "# Summary"
   ]
  },
  {
   "cell_type": "code",
   "execution_count": null,
   "metadata": {},
   "outputs": [],
   "source": [
    "display(\n",
    "    df[\n",
    "        [\n",
    "            \"test/equality/error_max\",\n",
    "            \"test/equality/bus_active_power/error_max\",\n",
    "            \"test/equality/bus_reactive_power/error_max\",\n",
    "            \"test/inequality/error_max\",\n",
    "            \"test/inequality/active_power/error_max\",\n",
    "            \"test/inequality/reactive_power/error_max\",\n",
    "            \"test/inequality/voltage_magnitude/error_max\",\n",
    "            \"test/inequality/forward_rate/error_max\",\n",
    "            \"test/inequality/backward_rate/error_max\",\n",
    "            \"test/inequality/voltage_angle_difference/error_max\",\n",
    "        ]\n",
    "    ].max()\n",
    ")\n",
    "\n",
    "print(\n",
    "    f\"\"\"\n",
    "GNN Cost: {df[\"test/cost\"].mean():0.4f}\n",
    "\n",
    "Maximum violation rate: {df[\"test/inequality/rate\"].max():0.4f}\n",
    "Rate of any violation: {(df[\"test/inequality/error_max\"] > 1e-4).sum() / len(df):0.4f}\n",
    "IPOPT Cost: {df[\"acopf/cost\"].mean():0.4f}\n",
    "GNN/IPOPT: {(df[\"test/cost\"]/df[\"acopf/cost\"]).mean():0.4f}\n",
    "\"\"\"\n",
    ")"
   ]
  },
  {
   "cell_type": "markdown",
   "metadata": {},
   "source": [
    "# Histograms"
   ]
  },
  {
   "cell_type": "code",
   "execution_count": null,
   "metadata": {
    "tags": []
   },
   "outputs": [],
   "source": [
    "from opf.utils import FlowLayout\n",
    "\n",
    "aspect = 1.618\n",
    "ylabel = \"Count / # of samples\"\n",
    "kwargs = dict(\n",
    "    bins=10,\n",
    "    stat=\"proportion\",\n",
    "    aspect=aspect,\n",
    "    height=3.5 / aspect,\n",
    ")\n",
    "\n",
    "\n",
    "sns.displot(df, x=\"test/inequality/error_max\", **kwargs)\n",
    "plt.xlabel(\"Max inequality error\")\n",
    "plt.ylabel(ylabel)\n",
    "save(\"error_max\")\n",
    "\n",
    "sns.displot(df, x=\"test/inequality/error_mean\", **kwargs)\n",
    "plt.xlabel(\"Mean inequality error\")\n",
    "plt.ylabel(ylabel)\n",
    "save(\"error_mean\")\n",
    "\n",
    "# Cost improvement\n",
    "df[\"test/cost/improvement\"] = df[\"test/cost\"] / df[\"acopf/cost\"]\n",
    "df[\"violation\"] = df[\"test/inequality/rate\"] > 1e-3\n",
    "sns.displot(df[~df[\"violation\"]], x=\"test/cost/improvement\", **kwargs)\n",
    "plt.xlabel(\"GNN / IPOPT cost ratio\")\n",
    "plt.ylabel(ylabel)\n",
    "save(\"costs\")\n",
    "\n",
    "# map variable names to series names\n",
    "fmt = \"test/inequality/%s/error_max\"\n",
    "hist_dict = {\n",
    "    \"equality\": [\"test/equality/bus_active_power/error_max\"],\n",
    "    \"gen\": [fmt % \"active_power\", fmt % \"reactive_power\"],\n",
    "    \"vm\": [fmt % \"voltage_magnitude\"],\n",
    "    \"rate\": [fmt % \"forward_rate\", fmt % \"backward_rate\"],\n",
    "    \"vad\": [fmt % \"voltage_angle_difference\"],\n",
    "}\n",
    "\n",
    "sns.displot(df[\"test/equality/bus_active_power/error_max\"], **kwargs)\n",
    "plt.xlabel(\"Bus power equality error\")\n",
    "plt.ylabel(ylabel)\n",
    "save(\"error_equality\")\n",
    "\n",
    "power_df = df.melt(value_vars=[fmt % \"active_power\", fmt % \"reactive_power\"])\n",
    "sns.displot(power_df, x=\"value\", **kwargs)\n",
    "plt.xlabel(\"Generated power error\")\n",
    "plt.ylabel(ylabel)\n",
    "save(\"error_gen\")\n",
    "\n",
    "sns.displot(df[fmt % \"voltage_magnitude\"], **kwargs)\n",
    "plt.xlabel(\"Voltage magnitude error\")\n",
    "plt.ylabel(ylabel)\n",
    "save(\"error_vm\")\n",
    "\n",
    "flow_df = df.melt(value_vars=[fmt % \"forward_rate\", fmt % \"backward_rate\"])\n",
    "sns.displot(flow_df, x=\"value\", **kwargs)\n",
    "plt.xlabel(\"Power rate limit error\")\n",
    "plt.ylabel(ylabel)\n",
    "save(\"error_rate\")\n",
    "\n",
    "sns.displot(df[fmt % \"voltage_angle_difference\"], **kwargs)\n",
    "plt.xlabel(\"Voltage angle difference error\")\n",
    "plt.ylabel(ylabel)\n",
    "save(\"error_vad\")\n",
    "\n",
    "FlowLayout().all_open()"
   ]
  },
  {
   "cell_type": "markdown",
   "metadata": {},
   "source": [
    "# Visualizing Violations"
   ]
  },
  {
   "cell_type": "code",
   "execution_count": null,
   "metadata": {},
   "outputs": [],
   "source": [
    "sort_term = \"test/inequality/error_max\"\n",
    "quantile = 1.0\n",
    "\n",
    "s = df[sort_term]\n",
    "index = int((s.sort_values()[::-1] <= s.quantile(quantile)).idxmax())\n",
    "print(sort_term, s[index])\n",
    "print(\"Idx\", index)\n",
    "df.iloc[index][\n",
    "    [\n",
    "        \"test/cost\",\n",
    "        \"acopf/cost\",\n",
    "        \"test/equality/bus_active_power/error_max\",\n",
    "        \"test/equality/bus_reactive_power/error_max\",\n",
    "        \"test/equality/bus_reference/error_max\",\n",
    "        \"test/inequality/error_max\",\n",
    "        \"test/inequality/active_power/error_max\",\n",
    "        \"test/inequality/reactive_power/error_max\",\n",
    "        \"test/inequality/voltage_magnitude/error_max\",\n",
    "        \"test/inequality/forward_rate/error_max\",\n",
    "        \"test/inequality/backward_rate/error_max\",\n",
    "        \"test/inequality/voltage_angle_difference/error_max\",\n",
    "    ]\n",
    "]"
   ]
  },
  {
   "cell_type": "code",
   "execution_count": null,
   "metadata": {},
   "outputs": [],
   "source": [
    "# perform inference on the test set\n",
    "from opf.plot import plot_constraints\n",
    "import opf.powerflow as pf\n",
    "\n",
    "with torch.no_grad():\n",
    "    dm.setup(\"test\")\n",
    "    dataset = dm.test_dataset\n",
    "    # assert isinstance(dataset, opf.dataset.StaticGraphDataset)\n",
    "    data = dataset[index]\n",
    "    variables = model.float()(data)\n",
    "    # substitute_equality was True\n",
    "    variables, _, _, _ = model._step_helper(\n",
    "        variables, data.powerflow_parameters, project_powermodels=True\n",
    "    )\n",
    "    constraints = pf.build_constraints(variables, data.powerflow_parameters)\n",
    "    plots = plot_constraints(constraints)\n",
    "for name in plots:\n",
    "    name = typing.cast(str, name)\n",
    "    save(f\"constraint_{name.replace('/', '_')}\", fig=plots[name])"
   ]
  }
 ],
 "metadata": {
  "kernelspec": {
   "display_name": "opf",
   "language": "python",
   "name": "python3"
  },
  "language_info": {
   "codemirror_mode": {
    "name": "ipython",
    "version": 3
   },
   "file_extension": ".py",
   "mimetype": "text/x-python",
   "name": "python",
   "nbconvert_exporter": "python",
   "pygments_lexer": "ipython3",
   "version": "3.11.8"
  }
 },
 "nbformat": 4,
 "nbformat_minor": 1
}
