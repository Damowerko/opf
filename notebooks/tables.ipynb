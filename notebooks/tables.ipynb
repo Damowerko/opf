{
 "cells": [
  {
   "cell_type": "code",
   "execution_count": null,
   "metadata": {},
   "outputs": [],
   "source": [
    "%load_ext autoreload\n",
    "%autoreload 2"
   ]
  },
  {
   "cell_type": "code",
   "execution_count": null,
   "metadata": {},
   "outputs": [],
   "source": [
    "from functools import reduce\n",
    "import wandb\n",
    "import pandas as pd\n",
    "from matplotlib import pyplot as plt\n",
    "import opf\n",
    "import opf.dataset\n",
    "import utils\n",
    "import logging\n",
    "import seaborn as sns\n",
    "\n",
    "logging.getLogger(\"pytorch_lightning\").setLevel(logging.WARN)\n",
    "\n",
    "save_dir = \"/home/damow/Dropbox/Apps/Overleaf/Unsupervised Optimal Power Flow Using Graph Neural Networks/\"\n",
    "figure_dir = save_dir + \"figures/\"\n",
    "table_dir = save_dir + \"tables/\"\n",
    "log_dir = \"../logs/\"\n",
    "\n",
    "def savefig(title: str):\n",
    "    plt.savefig(f\"{figure_dir}{title}.png\")\n",
    "    plt.savefig(f\"{figure_dir}{title}.pdf\")\n",
    "    plt.savefig(f\"{figure_dir}{title}.pgf\")"
   ]
  },
  {
   "cell_type": "code",
   "execution_count": null,
   "metadata": {},
   "outputs": [],
   "source": [
    "api = wandb.Api()\n",
    "runs = api.runs(\"damowerko/opf\", filters={\"tags\": \"sweep1\"})\n",
    "data = [{**run.config, **run.summary} for run in runs]\n",
    "df = pd.DataFrame(data)"
   ]
  },
  {
   "cell_type": "code",
   "execution_count": null,
   "metadata": {
    "pycharm": {
     "name": "#%%\n"
    }
   },
   "outputs": [],
   "source": [
    "parameters = [\"s\", \"t\", \"K\", \"F\", \"L\", \"lr\"]\n",
    "best_idx = df[df[\"test/inequality/rate\"] < 0.01][\"test/cost\"].idxmin()\n",
    "best_parameters = {name: df.iloc[best_idx][name] for name in parameters}\n",
    "display(best_parameters)"
   ]
  },
  {
   "cell_type": "code",
   "execution_count": null,
   "metadata": {},
   "outputs": [],
   "source": [
    "# indices and column values to be renamed\n",
    "rename_dict = {\n",
    "    \"lr\": \"$\\eta$\",\n",
    "    0.00001: \"1e-5\",\n",
    "    0.0001: \"1e-4\",\n",
    "    0.001: \"1e-3\",\n",
    "    \"test/cost\": \"Generation Cost\",\n",
    "    \"test/inequality/rate\": \"Constraint Violation Rate\",\n",
    "}\n",
    "rename = lambda param: rename_dict[param] if param in rename_dict else param\n",
    "renamed_params = {rename(k): rename(v) for k, v in best_parameters.items()}\n",
    "\n",
    "values = [\"test/cost\", \"test/inequality/rate\"]\n",
    "for params in [(\"K\", \"F\"), (\"s\", \"t\"), (\"L\", \"lr\")]:\n",
    "    filename = f\"{table_dir}search_{params[0]}{params[1]}.tex\"\n",
    "    selected = []\n",
    "    for param_name, param_value in best_parameters.items():\n",
    "        if param_name in (params[0], params[1]):\n",
    "            continue\n",
    "        selected.append(df[param_name] == param_value)\n",
    "    selected = reduce(lambda a, b: a & b, selected)\n",
    "    table = df[selected].pivot(params[0], params[1], values)\n",
    "\n",
    "    # Rename the indices and index names based on rename_dict\n",
    "    table = table.rename(columns=rename_dict, index=rename_dict)\n",
    "    params = list(map(rename, params))\n",
    "    table.index.name = params[0]\n",
    "    table.columns.names = [None, params[1]]\n",
    "\n",
    "    style = table.style.format(\"{:0.4f}\").applymap(\n",
    "        lambda x: \"font-weight:bold;\",\n",
    "        subset=(renamed_params[params[0]], (slice(None), renamed_params[params[1]])),\n",
    "    )\n",
    "    display(style)\n",
    "    style.to_latex(buf=filename, convert_css=True, hrules=True)\n"
   ]
  },
  {
   "cell_type": "code",
   "execution_count": null,
   "metadata": {},
   "outputs": [],
   "source": [
    "import utils\n",
    "from IPython.display import clear_output\n",
    "\n",
    "dm = opf.dataset.CaseDataModule(\"case30\", \"../data\", adj_threshold=0.01)\n",
    "runs = api.runs(\"damowerko/opf\", filters={\"tags\": \"case30_cost_weight\"})\n",
    "data = []\n",
    "for run in runs:\n",
    "    model = opf.utils.create_model(dm, run.config)\n",
    "    utils.load_checkpoint(model, run.id, log_dir)\n",
    "    data.append(utils.test(model, dm))\n",
    "clear_output()"
   ]
  },
  {
   "cell_type": "code",
   "execution_count": null,
   "metadata": {},
   "outputs": [],
   "source": [
    "for i, run in enumerate(runs):\n",
    "    data[i][list(run.config.keys())] = list(run.config.values())\n",
    "df = pd.concat(data, ignore_index=True)\n",
    "\n",
    "df[\"Violates Constraints\"] = df[\"test/inequality/error_max\"] > 0.0001\n",
    "df[\"Cost Improvement\"] = df[\"acopf/cost\"] - df[\"test/cost\"]\n",
    "df[\"Constraint Weight\"] = 1 / df[\"cost_weight\"]\n",
    "\n",
    "# df = df.loc[~df[\"Violates Constraints\"]] # discard violations\n",
    "df = df.loc[df[\"Constraint Weight\"] <= 1000] # look at 4 weights\n",
    "\n",
    "sns.displot(\n",
    "    df,\n",
    "    x=\"Cost Improvement\",\n",
    "    fill=True,\n",
    "    kind=\"hist\",\n",
    "    hue=\"Violates Constraints\",\n",
    "    binrange=(-0.05,0.15),\n",
    "    common_norm=True,\n",
    "    row=\"Constraint Weight\",\n",
    "    height=2,\n",
    "    aspect=3,\n",
    ")\n",
    "savefig(\"case30/cost_weight\")\n"
   ]
  }
 ],
 "metadata": {
  "kernelspec": {
   "display_name": "Python 3.9.9 64-bit ('opf')",
   "language": "python",
   "name": "python3"
  },
  "language_info": {
   "codemirror_mode": {
    "name": "ipython",
    "version": 3
   },
   "file_extension": ".py",
   "mimetype": "text/x-python",
   "name": "python",
   "nbconvert_exporter": "python",
   "pygments_lexer": "ipython3",
   "version": "3.9.9"
  }
 },
 "nbformat": 4,
 "nbformat_minor": 1
}
