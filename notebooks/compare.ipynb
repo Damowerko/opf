{
 "cells": [
  {
   "cell_type": "code",
   "execution_count": null,
   "metadata": {},
   "outputs": [],
   "source": [
    "%load_ext autoreload\n",
    "%autoreload 2"
   ]
  },
  {
   "cell_type": "code",
   "execution_count": null,
   "metadata": {},
   "outputs": [],
   "source": [
    "import matplotlib.pyplot as plt\n",
    "import seaborn.objects as so\n",
    "from pathlib import Path\n",
    "\n",
    "from opf.plot.data import (\n",
    "    load_run_metadata,\n",
    "    test_or_load_runs,\n",
    "    case_summary,\n",
    "    model_summary,\n",
    "    case_names,\n",
    "    select_dual_models,\n",
    ")\n",
    "from opf.plot.plot import set_theme_paper, so_theme\n",
    "\n",
    "figure_dir = Path(\"../figures/thesis\")\n",
    "figure_dir.mkdir(exist_ok=True, parents=True)\n",
    "\n",
    "set_theme_paper()"
   ]
  },
  {
   "cell_type": "code",
   "execution_count": null,
   "metadata": {},
   "outputs": [],
   "source": [
    "run_dict = load_run_metadata()\n",
    "df = test_or_load_runs(run_dict)\n",
    "df = select_dual_models(df, [\"Dual-S+\", \"Dual-P+\", \"Dual-H+\"])"
   ]
  },
  {
   "cell_type": "code",
   "execution_count": null,
   "metadata": {},
   "outputs": [],
   "source": [
    "df_summary = case_summary(df)\n",
    "display(\n",
    "    df_summary.style.format(\"{:.2f}\", na_rep=\"--\").set_table_styles(\n",
    "        [{\"selector\": \"th\", \"props\": [(\"text-align\", \"center\")]}]\n",
    "    )\n",
    ")"
   ]
  },
  {
   "cell_type": "code",
   "execution_count": null,
   "metadata": {},
   "outputs": [],
   "source": [
    "df_model_summary = model_summary(df)\n",
    "model_summary(df).style.format(\"{:.2f}\", na_rep=\"--\")"
   ]
  },
  {
   "cell_type": "code",
   "execution_count": null,
   "metadata": {},
   "outputs": [],
   "source": [
    "from opf.plot.data import constraint_breakdown\n",
    "from opf.plot.plot import constraint_breakdown_latex\n",
    "\n",
    "\n",
    "df_pivoted = constraint_breakdown(df)\n",
    "\n",
    "constraint_breakdown_string = constraint_breakdown_latex(df_pivoted)\n",
    "(figure_dir / \"constraint_breakdown.tex\").write_text(constraint_breakdown_string)\n",
    "\n",
    "display(df_pivoted.style.format(\"{:.2f}\", na_rep=\"--\"))"
   ]
  },
  {
   "cell_type": "code",
   "execution_count": null,
   "metadata": {},
   "outputs": [],
   "source": [
    "for case_name in case_names:\n",
    "    data = df.query(\"case_name == @case_name\").melt(\n",
    "        id_vars=\"model_name\",\n",
    "        value_vars=[\n",
    "            \"optimality_gap\",\n",
    "            \"test_normal/inequality/error_max\",\n",
    "        ],\n",
    "    )\n",
    "    f = plt.figure(figsize=(7.0, 3))\n",
    "    f.suptitle(case_name)\n",
    "    p = (\n",
    "        so.Plot(data, x=\"value\", y=\"model_name\")\n",
    "        .add(so.Dot(pointsize=1), so.Jitter(y=0.5))\n",
    "        .facet(col=\"variable\")\n",
    "        .theme(so_theme() | {\"axes.grid.which\": \"both\"})\n",
    "        .share(x=False)\n",
    "        .on(f)\n",
    "        .plot()\n",
    "    )\n",
    "    f.axes[1].set_xscale(\"log\")\n",
    "    plt.close(f)\n",
    "    display(p)"
   ]
  },
  {
   "cell_type": "code",
   "execution_count": null,
   "metadata": {},
   "outputs": [],
   "source": [
    "from opf.plot.plot import plot_tradeoff\n",
    "\n",
    "p = plot_tradeoff(df, max=False)\n",
    "display(p)"
   ]
  },
  {
   "cell_type": "code",
   "execution_count": null,
   "metadata": {},
   "outputs": [],
   "source": [
    "p = plot_tradeoff(df, max=True)\n",
    "display(p)"
   ]
  },
  {
   "cell_type": "code",
   "execution_count": null,
   "metadata": {},
   "outputs": [],
   "source": [
    "import wandb\n",
    "import pandas as pd\n",
    "\n",
    "dual_kind = \"pointwise\"\n",
    "\n",
    "api = wandb.Api()\n",
    "runs = api.runs(\n",
    "    \"damowerko-academic/opf\",\n",
    "    filters={\"tags\": {\"$in\": [f\"search-{dual_kind}\"]}},\n",
    ")\n",
    "\n",
    "lr = {}\n",
    "for run in runs:\n",
    "    lr[run.id] = run.config[f\"lr_dual_{dual_kind}\"]\n",
    "run_data = runs.histories(samples=1000, keys=[\"val/invariant\"], format=\"pandas\")\n",
    "\n",
    "import seaborn.objects as so\n",
    "\n",
    "data = (\n",
    "    pd.merge(\n",
    "        run_data,\n",
    "        pd.DataFrame(lr.items(), columns=[\"run_id\", f\"lr_dual_{dual_kind}\"]),\n",
    "        on=\"run_id\",\n",
    "    )\n",
    "    .groupby(f\"lr_dual_{dual_kind}\", as_index=False)\n",
    "    .min()\n",
    "    .sort_values(f\"lr_dual_{dual_kind}\")\n",
    ")\n",
    "\n",
    "so.Plot(data, x=f\"lr_dual_{dual_kind}\", y=\"val/invariant\").add(so.Dot()).scale(x=\"log\")"
   ]
  }
 ],
 "metadata": {
  "kernelspec": {
   "display_name": "opf",
   "language": "python",
   "name": "python3"
  },
  "language_info": {
   "codemirror_mode": {
    "name": "ipython",
    "version": 3
   },
   "file_extension": ".py",
   "mimetype": "text/x-python",
   "name": "python",
   "nbconvert_exporter": "python",
   "pygments_lexer": "ipython3",
   "version": "3.11.8"
  }
 },
 "nbformat": 4,
 "nbformat_minor": 2
}
