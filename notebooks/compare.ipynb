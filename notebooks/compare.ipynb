{
 "cells": [
  {
   "cell_type": "code",
   "execution_count": null,
   "metadata": {},
   "outputs": [],
   "source": [
    "%load_ext autoreload\n",
    "%autoreload 2"
   ]
  },
  {
   "cell_type": "code",
   "execution_count": null,
   "metadata": {},
   "outputs": [],
   "source": [
    "import pandas as pd\n",
    "import matplotlib as mpl\n",
    "import seaborn as sns\n",
    "import torch\n",
    "\n",
    "from opf.test import load_run, test_run\n",
    "\n",
    "mpl.rcParams[\"text.usetex\"] = False\n",
    "\n",
    "sns.set_style(\"white\")\n",
    "sns.set_context(\"paper\")\n",
    "\n",
    "torch.set_float32_matmul_precision(\"high\")"
   ]
  },
  {
   "cell_type": "code",
   "execution_count": null,
   "metadata": {},
   "outputs": [],
   "source": [
    "import wandb\n",
    "\n",
    "api = wandb.Api()\n",
    "runs = api.runs(\n",
    "    \"damowerko-academic/opf\",\n",
    "    filters={\"$and\": [{\"config.case_name\": \"case300_ieee_simple\"}, {\"tags\": \"hybrid\"}]},\n",
    ")"
   ]
  },
  {
   "cell_type": "code",
   "execution_count": null,
   "metadata": {},
   "outputs": [],
   "source": [
    "runs.histories(format=\"pandas\").groupby(\"run_id\")[\"val/invariant\"].min()"
   ]
  },
  {
   "cell_type": "code",
   "execution_count": null,
   "metadata": {},
   "outputs": [],
   "source": [
    "run_ids = {\n",
    "    \"IEEE 30\": {\n",
    "        \"Supervised\": \"bzusmsf4\",  # 1000 epochs\n",
    "        \"Augmented\": \"\",\n",
    "        \"Pointwise\": \"qlq6szw2\",  # 2000 epochs\n",
    "        \"Hybrid\": \"3z34izuj\",  # 1000 epochs\n",
    "    },\n",
    "    \"IEEE 57\": {\n",
    "        \"Supervised\": \"vxepjaw9\",  # 1000 epochs\n",
    "        \"Augmented\": \"phjzbws9\",  # 1000 epochs\n",
    "        \"Pointwise\": \"bf1uux9g\",  # 2000 epochs\n",
    "        \"Hybrid\": \"pgsf77xl\",  # 1000 epochs\n",
    "    },\n",
    "    \"IEEE 118\": {\n",
    "        \"Supervised\": \"vjn6wwkb\",  # Old run\n",
    "        \"Augmented\": \"bzusmsf4\",  # Old run\n",
    "        \"Pointwise\": \"w50zi687\",  # Old run\n",
    "        \"Hybrid\": \"jmzzicbk\",  # 1000 epochs, old version\n",
    "    },\n",
    "    \"IEEE 300\": {\n",
    "        \"Supervised\": \"2as4y9kv\",  # Old run\n",
    "        \"Augmented\": \"ig4u3u49\",  # Old run\n",
    "        \"Pointwise\": \"hy3d6jy0\",  # 2000 epochs\n",
    "        \"Hybrid\": \"2as4y9kv\",  # Old run\n",
    "    },\n",
    "    \"PEGASE 1354\": {\n",
    "        \"Supervised\": \"\",\n",
    "        \"Augmented\": \"\",\n",
    "        \"Pointwise\": \"\",\n",
    "        \"Hybrid\": \"\",\n",
    "    },\n",
    "}"
   ]
  },
  {
   "cell_type": "code",
   "execution_count": null,
   "metadata": {},
   "outputs": [],
   "source": [
    "dfs = []\n",
    "for case_name in run_ids:\n",
    "    for model_name, id in run_ids[case_name].items():\n",
    "        if id == \"\":\n",
    "            continue\n",
    "        df = test_run(id, load_existing=False, project=True, clamp=True)\n",
    "        df = df.assign(id=id, case_name=case_name, model_name=model_name)\n",
    "        dfs.append(df)\n",
    "\n",
    "df = pd.concat(dfs)"
   ]
  },
  {
   "cell_type": "code",
   "execution_count": null,
   "metadata": {},
   "outputs": [],
   "source": [
    "index = pd.MultiIndex.from_product(\n",
    "    [\n",
    "        [\"IEEE 30\", \"IEEE 57\", \"IEEE 118\", \"IEEE 300\", \"PEGASE 1354\"],\n",
    "        [\"Supervised\", \"Augmented\", \"Pointwise\", \"Hybrid\"],\n",
    "    ],\n",
    "    names=[\"Case\", \"Model\"],\n",
    ")"
   ]
  },
  {
   "cell_type": "code",
   "execution_count": null,
   "metadata": {},
   "outputs": [],
   "source": [
    "df[\"optimality_gap\"] = df[\"test/cost\"] / df[\"acopf/cost\"] - 1\n",
    "df.groupby([\"case_name\", \"model_name\"])[\n",
    "    [\n",
    "        \"optimality_gap\",\n",
    "        \"test/inequality/error_mean\",\n",
    "        \"test/inequality/error_max\",\n",
    "        \"test/equality/error_mean\",\n",
    "        \"test/equality/error_max\",\n",
    "    ]\n",
    "].mean().reindex(index).style.format(\"{:.2%}\", na_rep=\"--\").set_table_styles(\n",
    "    [\n",
    "        {\n",
    "            \"selector\": f\"tr:nth-child({i * 4})\",\n",
    "            \"props\": [(\"border-bottom\", \"2px solid black\")],\n",
    "        }\n",
    "        for i in range(1, 5)\n",
    "    ]\n",
    ")"
   ]
  },
  {
   "cell_type": "code",
   "execution_count": null,
   "metadata": {},
   "outputs": [],
   "source": [
    "import re\n",
    "\n",
    "constraint_pattern = re.compile(\n",
    "    r\"test/(equality|inequality)/([^/]+)/(error_mean|error_max)\"\n",
    ")\n",
    "metric_columns = {}\n",
    "for column in df.columns:\n",
    "    match = constraint_pattern.match(column)\n",
    "    if not match:\n",
    "        continue\n",
    "    _, constraint_name, error_type = match.groups()\n",
    "    error_type = error_type.replace(\"error_\", \"\")\n",
    "    metric_columns[column] = (constraint_name, error_type)\n",
    "\n",
    "id_vars = [\"case_name\", \"model_name\"]\n",
    "df_melted = df[id_vars + list(metric_columns.keys())].melt(\n",
    "    id_vars=id_vars,\n",
    "    value_vars=list(metric_columns.keys()),\n",
    ")\n",
    "df_melted[\"constraint_type\"] = df_melted[\"variable\"].apply(\n",
    "    lambda x: metric_columns[x][0]\n",
    ")\n",
    "df_melted[\"statistic\"] = df_melted[\"variable\"].apply(lambda x: metric_columns[x][1])\n",
    "df_melted = df_melted.drop(columns=[\"variable\"])\n",
    "\n",
    "df_pivoted = (\n",
    "    df_melted.groupby(id_vars + [\"constraint_type\", \"statistic\"])\n",
    "    .mean()\n",
    "    .pivot_table(\n",
    "        index=id_vars,\n",
    "        columns=[\"constraint_type\", \"statistic\"],\n",
    "        values=\"value\",\n",
    "    )\n",
    "    .reindex(index)\n",
    ")\n",
    "df_pivoted.style.format(\"{:.2%}\", na_rep=\"--\").set_table_styles(\n",
    "    [\n",
    "        {\n",
    "            \"selector\": f\"tr:nth-child({i * 4})\",\n",
    "            \"props\": [(\"border-bottom\", \"2px solid black\")],\n",
    "        }\n",
    "        for i in range(1, 5)\n",
    "    ]\n",
    ")"
   ]
  }
 ],
 "metadata": {
  "kernelspec": {
   "display_name": "opf",
   "language": "python",
   "name": "python3"
  },
  "language_info": {
   "codemirror_mode": {
    "name": "ipython",
    "version": 3
   },
   "file_extension": ".py",
   "mimetype": "text/x-python",
   "name": "python",
   "nbconvert_exporter": "python",
   "pygments_lexer": "ipython3",
   "version": "3.11.8"
  }
 },
 "nbformat": 4,
 "nbformat_minor": 2
}
