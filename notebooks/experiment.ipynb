{
 "cells": [
  {
   "cell_type": "code",
   "execution_count": 1,
   "outputs": [],
   "source": [
    "%load_ext autoreload\n",
    "%autoreload 1"
   ],
   "metadata": {
    "collapsed": false,
    "pycharm": {
     "name": "#%%\n"
    }
   }
  },
  {
   "cell_type": "code",
   "execution_count": 2,
   "outputs": [
    {
     "data": {
      "text/plain": "<torch.autograd.anomaly_mode.set_detect_anomaly at 0x1d39a016dc0>"
     },
     "execution_count": 2,
     "metadata": {},
     "output_type": "execute_result"
    }
   ],
   "source": [
    "import comet_ml\n",
    "import pytorch_lightning as pl\n",
    "from pytorch_lightning.loggers import CometLogger\n",
    "from torch.utils.data import Dataset, random_split, TensorDataset\n",
    "import numpy as np\n",
    "import torch\n",
    "\n",
    "from alegnn.utils import graphTools\n",
    "\n",
    "%aimport opf\n",
    "from opf.data import load_data\n",
    "from opf.gnn import make_gnn\n",
    "from opf.modules import OPFLogBarrier\n",
    "from opf.power import load_case, NetworkManager\n",
    "\n",
    "torch.autograd.set_detect_anomaly(True)"
   ],
   "metadata": {
    "collapsed": false,
    "pycharm": {
     "name": "#%%\n"
    }
   }
  },
  {
   "cell_type": "code",
   "execution_count": 3,
   "outputs": [],
   "source": [
    "# Constants\n",
    "data_dir = \"../data\"\n",
    "ratio_train = 0.8\n",
    "dtype = torch.float32\n",
    "F0 = 2\n",
    "isjob = False # args.job\n",
    "\n",
    "# Meta-parameters\n",
    "A_scaling = 0.001\n",
    "A_threshold = 0.01\n",
    "case = \"case6ww\"\n",
    "\n",
    "# instantiate the NetworkManager\n",
    "manager = NetworkManager(load_case(case, data_dir), A_scaling, A_threshold)\n",
    "N = manager.n_buses\n",
    "\n",
    "# Parameters / Configuration\n",
    "param = {\n",
    "    \"train\": dict(\n",
    "        max_epochs=4,\n",
    "        batch_size=256,\n",
    "    ),\n",
    "    \"gnn\": dict(\n",
    "        dimLayersMLP=[4 * N],\n",
    "        dimNodeSignals=[F0, 64],\n",
    "        nFilterTaps=[4],\n",
    "    ),\n",
    "    \"barrier\": dict(\n",
    "        type=\"relaxed_log\",  # log, relaxed_log\n",
    "        t=200,  # higher -> better approximation to barrier\n",
    "        s=100,  # the slope at which the barrier becomes linear\n",
    "        cost_weight=1.0,\n",
    "    ),\n",
    "    \"meta\": dict(\n",
    "        A_scaling=A_scaling,\n",
    "        A_threshold=A_threshold,\n",
    "        model=\"selection\",\n",
    "        case=case\n",
    "    ),\n",
    "}"
   ],
   "metadata": {
    "collapsed": false,
    "pycharm": {
     "name": "#%%\n"
    }
   }
  },
  {
   "cell_type": "code",
   "execution_count": 12,
   "metadata": {
    "collapsed": true,
    "pycharm": {
     "name": "#%% Load data and convert from numpy to torch tensors.\n"
    }
   },
   "outputs": [],
   "source": [
    "train_samples, test_samples, test_labels = load_data(case, data_dir)\n",
    "train_data = TensorDataset(torch.from_numpy(train_samples).to(dtype))\n",
    "test_data = TensorDataset(\n",
    "    torch.from_numpy(test_samples).to(dtype),\n",
    "    torch.from_numpy(test_labels).to(dtype)\n",
    ")\n",
    "\n",
    "train_split = int(len(train_data) * ratio_train)\n",
    "val_split = len(train_data) - train_split\n",
    "train_data, val_data = random_split(train_data, [train_split, val_split])\n",
    "\n",
    "\n",
    "def collate_fn(batch):\n",
    "    return tuple([torch.stack(item).to(dtype) for item in zip(*batch)])\n",
    "\n",
    "\n",
    "train_loader = torch.utils.data.DataLoader(train_data, batch_size=param[\"train\"][\"batch_size\"], shuffle=True,\n",
    "                                           collate_fn=collate_fn)\n",
    "val_loader = torch.utils.data.DataLoader(val_data, batch_size=param[\"train\"][\"batch_size\"],\n",
    "                                         collate_fn=collate_fn)\n",
    "test_loader = torch.utils.data.DataLoader(test_data, batch_size=param[\"train\"][\"batch_size\"],\n",
    "                                          collate_fn=collate_fn)\n"
   ]
  },
  {
   "cell_type": "code",
   "execution_count": 13,
   "outputs": [
    {
     "name": "stdout",
     "output_type": "stream",
     "text": [
      "Edges: 22\n",
      "Density: 0.6111111111111112\n"
     ]
    }
   ],
   "source": [
    "# Prepare graph shift operator\n",
    "adjacencyMatrix = manager.get_adjacency()\n",
    "G = graphTools.Graph(\"adjacency\", adjacencyMatrix.shape[0], {\"adjacencyMatrix\": adjacencyMatrix})\n",
    "G.computeGFT()\n",
    "S, order = graphTools.permDegree(G.S / np.max(np.real(G.E)))  # normalize GSO by dividing by largest e-value\n",
    "\n",
    "edges = np.sum(S > 0)\n",
    "print(f\"Edges: {edges}\")\n",
    "print(f\"Density: {edges / (N * N)}\")"
   ],
   "metadata": {
    "collapsed": false,
    "pycharm": {
     "name": "#%% Perpare graph\n"
    }
   }
  },
  {
   "cell_type": "code",
   "execution_count": 14,
   "outputs": [],
   "source": [
    "gnn = make_gnn(S, param[\"gnn\"], dtype=dtype)\n",
    "barrier = OPFLogBarrier(manager, gnn, **param[\"barrier\"])"
   ],
   "metadata": {
    "collapsed": false,
    "pycharm": {
     "name": "#%% Create GNN\n"
    }
   }
  },
  {
   "cell_type": "code",
   "execution_count": 17,
   "outputs": [
    {
     "name": "stderr",
     "output_type": "stream",
     "text": [
      "CometLogger will be initialized in online mode\n",
      "COMET INFO: ---------------------------\n",
      "COMET INFO: Comet.ml Experiment Summary\n",
      "COMET INFO: ---------------------------\n",
      "COMET INFO:   Data:\n",
      "COMET INFO:     display_summary_level : 1\n",
      "COMET INFO:     url                   : https://www.comet.ml/damowerko/opf/6d2d48c66d2447df865d3e720a7272bd\n",
      "COMET INFO:   Parameters:\n",
      "COMET INFO:     barrier/cost_weight : 1.0\n",
      "COMET INFO:     barrier/s           : 100\n",
      "COMET INFO:     barrier/t           : 200\n",
      "COMET INFO:     barrier/type        : relaxed_log\n",
      "COMET INFO:     gnn/dimLayersMLP    : [24]\n",
      "COMET INFO:     gnn/dimNodeSignals  : [2, 64]\n",
      "COMET INFO:     gnn/nFilterTaps     : [4]\n",
      "COMET INFO:     meta/A_scaling      : 0.001\n",
      "COMET INFO:     meta/A_threshold    : 0.01\n",
      "COMET INFO:     meta/case           : case6ww\n",
      "COMET INFO:     meta/model          : selection\n",
      "COMET INFO:     train/batch_size    : 256\n",
      "COMET INFO:     train/max_epochs    : 2\n",
      "COMET INFO:   Uploads [count]:\n",
      "COMET INFO:     environment details      : 1\n",
      "COMET INFO:     filename                 : 1\n",
      "COMET INFO:     git metadata             : 1\n",
      "COMET INFO:     git-patch (uncompressed) : 1 (104 KB)\n",
      "COMET INFO:     installed packages       : 1\n",
      "COMET INFO:     model graph              : 1\n",
      "COMET INFO:     source_code [9]          : 9\n",
      "COMET INFO: ---------------------------\n",
      "COMET WARNING: As you are running in a Jupyter environment, you will need to call `experiment.end()` when finished to ensure all metrics and code are logged before exiting.\n",
      "COMET INFO: Experiment is live on comet.ml https://www.comet.ml/damowerko/opf/abd2d19944c0447f836b4f0f2ab84996\n",
      "\n"
     ]
    }
   ],
   "source": [
    "logger = CometLogger(workspace=\"damowerko\", project_name=\"opf\", save_dir=\"./logs\")\n",
    "logger.log_hyperparams(param)\n",
    "logger.experiment.log_code(folder=\"../src\")\n",
    "logger.experiment.log_code(folder=\"../scripts\")\n",
    "logger.experiment.set_model_graph(str(barrier))"
   ],
   "metadata": {
    "collapsed": false,
    "pycharm": {
     "name": "#%%\n"
    }
   }
  },
  {
   "cell_type": "code",
   "execution_count": 18,
   "outputs": [
    {
     "name": "stderr",
     "output_type": "stream",
     "text": [
      "GPU available: True, used: True\n",
      "TPU available: False, using: 0 TPU cores\n",
      "LOCAL_RANK: 0 - CUDA_VISIBLE_DEVICES: [0]\n",
      "\n",
      "  | Name | Type         | Params\n",
      "--------------------------------------\n",
      "0 | gnn  | SelectionGNN | 9.8 K \n",
      "--------------------------------------\n",
      "9.8 K     Trainable params\n",
      "0         Non-trainable params\n",
      "9.8 K     Total params\n",
      "0.039     Total estimated model params size (MB)\n"
     ]
    },
    {
     "data": {
      "text/plain": "Validation sanity check: 0it [00:00, ?it/s]",
      "application/vnd.jupyter.widget-view+json": {
       "version_major": 2,
       "version_minor": 0,
       "model_id": "80d43b57eebe4bfb87649cee2448ee06"
      }
     },
     "metadata": {},
     "output_type": "display_data"
    },
    {
     "name": "stderr",
     "output_type": "stream",
     "text": [
      "c:\\users\\damow\\.virtualenvs\\opf-1s7-svgk-py3.8\\lib\\site-packages\\pytorch_lightning\\utilities\\distributed.py:69: UserWarning: The dataloader, val dataloader 0, does not have many workers which may be a bottleneck. Consider increasing the value of the `num_workers` argument` (try 16 which is the number of cpus on this machine) in the `DataLoader` init to improve performance.\n",
      "  warnings.warn(*args, **kwargs)\n",
      "c:\\users\\damow\\.virtualenvs\\opf-1s7-svgk-py3.8\\lib\\site-packages\\pytorch_lightning\\utilities\\distributed.py:69: UserWarning: The dataloader, train dataloader, does not have many workers which may be a bottleneck. Consider increasing the value of the `num_workers` argument` (try 16 which is the number of cpus on this machine) in the `DataLoader` init to improve performance.\n",
      "  warnings.warn(*args, **kwargs)\n"
     ]
    },
    {
     "data": {
      "text/plain": "Training: 0it [00:00, ?it/s]",
      "application/vnd.jupyter.widget-view+json": {
       "version_major": 2,
       "version_minor": 0,
       "model_id": "edc5254239ea459eb1d7a876cf82f567"
      }
     },
     "metadata": {},
     "output_type": "display_data"
    },
    {
     "data": {
      "text/plain": "Validating: 0it [00:00, ?it/s]",
      "application/vnd.jupyter.widget-view+json": {
       "version_major": 2,
       "version_minor": 0,
       "model_id": "dfe595e5d1894d7c8d0250375315d2af"
      }
     },
     "metadata": {},
     "output_type": "display_data"
    },
    {
     "data": {
      "text/plain": "Validating: 0it [00:00, ?it/s]",
      "application/vnd.jupyter.widget-view+json": {
       "version_major": 2,
       "version_minor": 0,
       "model_id": "6eb6bc3b060b4b8fbf7fed0426eaa5a5"
      }
     },
     "metadata": {},
     "output_type": "display_data"
    },
    {
     "name": "stderr",
     "output_type": "stream",
     "text": [
      "COMET INFO: ---------------------------\n",
      "COMET INFO: Comet.ml Experiment Summary\n",
      "COMET INFO: ---------------------------\n",
      "COMET INFO:   Data:\n",
      "COMET INFO:     display_summary_level : 1\n",
      "COMET INFO:     url                   : https://www.comet.ml/damowerko/opf/abd2d19944c0447f836b4f0f2ab84996\n",
      "COMET INFO:   Metrics [count] (min, max):\n",
      "COMET INFO:     loss [7] : (-512.1500854492188, -490.6253662109375)\n",
      "COMET INFO:   Parameters:\n",
      "COMET INFO:     barrier/cost_weight : 1.0\n",
      "COMET INFO:     barrier/s           : 100\n",
      "COMET INFO:     barrier/t           : 200\n",
      "COMET INFO:     barrier/type        : relaxed_log\n",
      "COMET INFO:     gnn/dimLayersMLP    : [24]\n",
      "COMET INFO:     gnn/dimNodeSignals  : [2, 64]\n",
      "COMET INFO:     gnn/nFilterTaps     : [4]\n",
      "COMET INFO:     meta/A_scaling      : 0.001\n",
      "COMET INFO:     meta/A_threshold    : 0.01\n",
      "COMET INFO:     meta/case           : case6ww\n",
      "COMET INFO:     meta/model          : selection\n",
      "COMET INFO:     train/batch_size    : 256\n",
      "COMET INFO:     train/max_epochs    : 2\n",
      "COMET INFO:   Uploads [count]:\n",
      "COMET INFO:     environment details      : 1\n",
      "COMET INFO:     filename                 : 1\n",
      "COMET INFO:     git metadata             : 1\n",
      "COMET INFO:     git-patch (uncompressed) : 1 (100 KB)\n",
      "COMET INFO:     installed packages       : 1\n",
      "COMET INFO:     model graph              : 1\n",
      "COMET INFO:     notebook                 : 1\n",
      "COMET INFO:     source_code [10]         : 10\n",
      "COMET INFO: ---------------------------\n",
      "COMET INFO: Uploading metrics, params, and assets to Comet before program termination (may take several seconds)\n",
      "COMET INFO: The Python SDK has 3600 seconds to finish before aborting...\n"
     ]
    }
   ],
   "source": [
    "trainer = pl.Trainer(progress_bar_refresh_rate=(0 if isjob else 1), gpus=1, max_epochs=param[\"train\"][\"max_epochs\"])\n",
    "trainer.fit(barrier, train_loader, val_loader)\n",
    "logger.experiment.end()"
   ],
   "metadata": {
    "collapsed": false,
    "pycharm": {
     "name": "#%%\n"
    }
   }
  },
  {
   "cell_type": "code",
   "execution_count": 21,
   "outputs": [
    {
     "name": "stderr",
     "output_type": "stream",
     "text": [
      "LOCAL_RANK: 0 - CUDA_VISIBLE_DEVICES: [0]\n"
     ]
    },
    {
     "data": {
      "text/plain": "Testing: 0it [00:00, ?it/s]",
      "application/vnd.jupyter.widget-view+json": {
       "version_major": 2,
       "version_minor": 0,
       "model_id": "e342d08ccce74601a4cfa99aabcdf2e8"
      }
     },
     "metadata": {},
     "output_type": "display_data"
    },
    {
     "name": "stdout",
     "output_type": "stream",
     "text": [
      "--------------------------------------------------------------------------------\n",
      "DATALOADER:0 TEST RESULTS\n",
      "{'test_cost': -520.4771118164062,\n",
      " 'test_equality_loss': 1.035457730293274,\n",
      " 'test_equality_powerflow_loss': 1.0000000830368325e-16,\n",
      " 'test_equality_reactive_power_loss': 0.0,\n",
      " 'test_equality_real_power_loss': 0.0,\n",
      " 'test_equality_reference_loss': 0.07080059498548508,\n",
      " 'test_equality_voltage_angle_difference_loss': nan,\n",
      " 'test_equality_voltage_magnitude_loss': 0.9646571278572083,\n",
      " 'test_inequality_backward_rate_max_loss': -0.01897253841161728,\n",
      " 'test_inequality_backward_rate_max_violated_rate': 0.0,\n",
      " 'test_inequality_backward_rate_max_violated_rms': 0.0,\n",
      " 'test_inequality_forward_rate_max_loss': -0.019049545750021935,\n",
      " 'test_inequality_forward_rate_max_violated_rate': 0.0,\n",
      " 'test_inequality_forward_rate_max_violated_rms': 0.0,\n",
      " 'test_inequality_loss': 176.9461212158203,\n",
      " 'test_inequality_reactive_power_max_loss': -0.023026946932077408,\n",
      " 'test_inequality_reactive_power_max_violated_rate': 0.0,\n",
      " 'test_inequality_reactive_power_max_violated_rms': 0.0,\n",
      " 'test_inequality_reactive_power_min_loss': -0.023024694994091988,\n",
      " 'test_inequality_reactive_power_min_violated_rate': 0.0,\n",
      " 'test_inequality_reactive_power_min_violated_rms': 0.0,\n",
      " 'test_inequality_real_power_max_loss': 83.76557922363281,\n",
      " 'test_inequality_real_power_max_violated_rate': 0.010448264889419079,\n",
      " 'test_inequality_real_power_max_violated_rms': 1.07327401638031,\n",
      " 'test_inequality_real_power_min_loss': -0.01577027514576912,\n",
      " 'test_inequality_real_power_min_violated_rate': 0.0,\n",
      " 'test_inequality_real_power_min_violated_rms': 0.0,\n",
      " 'test_inequality_violated_rate': 1.015059232711792,\n",
      " 'test_inequality_violated_rms': 2.3160526752471924,\n",
      " 'test_inequality_voltage_angle_difference_max_loss': 0.00040737606468610466,\n",
      " 'test_inequality_voltage_angle_difference_max_violated_rate': 0.002593341516330838,\n",
      " 'test_inequality_voltage_angle_difference_max_violated_rms': 0.15394501388072968,\n",
      " 'test_inequality_voltage_angle_difference_min_loss': -2.1628118247463135e-06,\n",
      " 'test_inequality_voltage_angle_difference_min_violated_rate': 0.0020175636745989323,\n",
      " 'test_inequality_voltage_angle_difference_min_violated_rms': 0.1547401398420334,\n",
      " 'test_inequality_voltage_magnitude_max_loss': 9.106777724809945e-05,\n",
      " 'test_inequality_voltage_magnitude_max_violated_rate': 0.0,\n",
      " 'test_inequality_voltage_magnitude_max_violated_rms': 0.0,\n",
      " 'test_inequality_voltage_magnitude_min_loss': 93.27989196777344,\n",
      " 'test_inequality_voltage_magnitude_min_violated_rate': 1.0,\n",
      " 'test_inequality_voltage_magnitude_min_violated_rms': 0.9340935349464417}\n",
      "--------------------------------------------------------------------------------\n"
     ]
    },
    {
     "data": {
      "text/plain": "[{'test_cost': -520.4771118164062,\n  'test_equality_loss': 1.035457730293274,\n  'test_inequality_loss': 176.9461212158203,\n  'test_equality_powerflow_loss': 1.0000000830368325e-16,\n  'test_equality_reference_loss': 0.07080059498548508,\n  'test_equality_real_power_loss': 0.0,\n  'test_inequality_real_power_min_loss': -0.01577027514576912,\n  'test_inequality_real_power_min_violated_rate': 0.0,\n  'test_inequality_violated_rate': 1.015059232711792,\n  'test_inequality_real_power_min_violated_rms': 0.0,\n  'test_inequality_violated_rms': 2.3160526752471924,\n  'test_inequality_real_power_max_loss': 83.76557922363281,\n  'test_inequality_real_power_max_violated_rate': 0.010448264889419079,\n  'test_inequality_real_power_max_violated_rms': 1.07327401638031,\n  'test_equality_reactive_power_loss': 0.0,\n  'test_inequality_reactive_power_min_loss': -0.023024694994091988,\n  'test_inequality_reactive_power_min_violated_rate': 0.0,\n  'test_inequality_reactive_power_min_violated_rms': 0.0,\n  'test_inequality_reactive_power_max_loss': -0.023026946932077408,\n  'test_inequality_reactive_power_max_violated_rate': 0.0,\n  'test_inequality_reactive_power_max_violated_rms': 0.0,\n  'test_equality_voltage_magnitude_loss': 0.9646571278572083,\n  'test_inequality_voltage_magnitude_min_loss': 93.27989196777344,\n  'test_inequality_voltage_magnitude_min_violated_rate': 1.0,\n  'test_inequality_voltage_magnitude_min_violated_rms': 0.9340935349464417,\n  'test_inequality_voltage_magnitude_max_loss': 9.106777724809945e-05,\n  'test_inequality_voltage_magnitude_max_violated_rate': 0.0,\n  'test_inequality_voltage_magnitude_max_violated_rms': 0.0,\n  'test_inequality_forward_rate_max_loss': -0.019049545750021935,\n  'test_inequality_forward_rate_max_violated_rate': 0.0,\n  'test_inequality_forward_rate_max_violated_rms': 0.0,\n  'test_inequality_backward_rate_max_loss': -0.01897253841161728,\n  'test_inequality_backward_rate_max_violated_rate': 0.0,\n  'test_inequality_backward_rate_max_violated_rms': 0.0,\n  'test_equality_voltage_angle_difference_loss': nan,\n  'test_inequality_voltage_angle_difference_min_loss': -2.1628118247463135e-06,\n  'test_inequality_voltage_angle_difference_min_violated_rate': 0.0020175636745989323,\n  'test_inequality_voltage_angle_difference_min_violated_rms': 0.1547401398420334,\n  'test_inequality_voltage_angle_difference_max_loss': 0.00040737606468610466,\n  'test_inequality_voltage_angle_difference_max_violated_rate': 0.002593341516330838,\n  'test_inequality_voltage_angle_difference_max_violated_rms': 0.15394501388072968}]"
     },
     "execution_count": 21,
     "metadata": {},
     "output_type": "execute_result"
    }
   ],
   "source": [
    "trainer.test(test_dataloaders=test_loader)"
   ],
   "metadata": {
    "collapsed": false,
    "pycharm": {
     "name": "#%%\n"
    }
   }
  }
 ],
 "metadata": {
  "kernelspec": {
   "display_name": "Python 3",
   "language": "python",
   "name": "python3"
  },
  "language_info": {
   "codemirror_mode": {
    "name": "ipython",
    "version": 2
   },
   "file_extension": ".py",
   "mimetype": "text/x-python",
   "name": "python",
   "nbconvert_exporter": "python",
   "pygments_lexer": "ipython2",
   "version": "2.7.6"
  }
 },
 "nbformat": 4,
 "nbformat_minor": 0
}