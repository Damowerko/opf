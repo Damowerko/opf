{
 "cells": [
  {
   "cell_type": "code",
   "execution_count": 4,
   "source": [
    "%load_ext autoreload\n",
    "%autoreload 2"
   ],
   "outputs": [
    {
     "output_type": "stream",
     "name": "stdout",
     "text": [
      "The autoreload extension is already loaded. To reload it, use:\n",
      "  %reload_ext autoreload\n"
     ]
    }
   ],
   "metadata": {}
  },
  {
   "cell_type": "code",
   "execution_count": 83,
   "source": [
    "from functools import reduce\n",
    "import wandb\n",
    "import pandas as pd\n",
    "from matplotlib import pyplot as plt\n",
    "import opf\n",
    "import opf.dataset\n",
    "import utils\n",
    "import logging\n",
    "import seaborn as sns\n",
    "\n",
    "logging.getLogger(\"pytorch_lightning\").setLevel(logging.WARN)\n",
    "\n",
    "save_dir = \"/home/damow/Dropbox/Apps/Overleaf/Unsupervised Optimal Power Flow Using Graph Neural Networks/\"\n",
    "figure_dir = save_dir + \"figures/\"\n",
    "table_dir = save_dir + \"tables/\"\n",
    "log_dir = \"../logs/\""
   ],
   "outputs": [],
   "metadata": {}
  },
  {
   "cell_type": "code",
   "execution_count": 3,
   "source": [
    "api = wandb.Api()\n",
    "runs = api.runs(\"damowerko/opf\", filters={\"tags\": \"sweep1\"})\n",
    "data = [{**run.config, **run.summary} for run in runs]\n",
    "df = pd.DataFrame(data)"
   ],
   "outputs": [],
   "metadata": {}
  },
  {
   "cell_type": "code",
   "execution_count": 6,
   "source": [
    "parameters = [\"s\", \"t\", \"K\", \"F\", \"L\", \"lr\"]\n",
    "best_idx = df[df[\"test/inequality/rate\"] < 0.01][\"test/cost\"].idxmin()\n",
    "best_parameters = {name: df.iloc[best_idx][name] for name in parameters}\n",
    "display(best_parameters)"
   ],
   "outputs": [
    {
     "output_type": "display_data",
     "data": {
      "text/plain": [
       "{'s': 10, 't': 500, 'K': 8, 'F': 32, 'L': 2, 'lr': 0.0001}"
      ]
     },
     "metadata": {}
    }
   ],
   "metadata": {
    "pycharm": {
     "name": "#%%\n"
    }
   }
  },
  {
   "cell_type": "code",
   "execution_count": 11,
   "source": [
    "# indices and column values to be renamed\n",
    "rename_dict = {\n",
    "    \"lr\": \"$\\eta$\",\n",
    "    0.00001: \"1e-5\",\n",
    "    0.0001: \"1e-4\",\n",
    "    0.001: \"1e-3\",\n",
    "    \"test/cost\": \"Generation Cost\",\n",
    "    \"test/inequality/rate\": \"Constraint Violation Rate\",\n",
    "}\n",
    "rename = lambda param: rename_dict[param] if param in rename_dict else param\n",
    "renamed_params = {rename(k): rename(v) for k, v in best_parameters.items()}\n",
    "\n",
    "values = [\"test/cost\", \"test/inequality/rate\"]\n",
    "for params in [(\"K\", \"F\"), (\"s\", \"t\"), (\"L\", \"lr\")]:\n",
    "    filename = f\"{table_dir}search_{params[0]}{params[1]}.tex\"\n",
    "    selected = []\n",
    "    for param_name, param_value in best_parameters.items():\n",
    "        if param_name in (params[0], params[1]):\n",
    "            continue\n",
    "        selected.append(df[param_name] == param_value)\n",
    "    selected = reduce(lambda a, b: a & b, selected)\n",
    "    table = df[selected].pivot(params[0], params[1], values)\n",
    "\n",
    "    # Rename the indices and index names based on rename_dict\n",
    "    table = table.rename(columns=rename_dict, index=rename_dict)\n",
    "    params = list(map(rename, params))\n",
    "    table.index.name = params[0]\n",
    "    table.columns.names = [None, params[1]]\n",
    "\n",
    "    style = table.style.format(\"{:0.4f}\").applymap(\n",
    "        lambda x: \"font-weight:bold;\",\n",
    "        subset=(renamed_params[params[0]], (slice(None), renamed_params[params[1]])),\n",
    "    )\n",
    "    display(style)\n",
    "    style.to_latex(buf=filename, convert_css=True, hrules=True)\n"
   ],
   "outputs": [
    {
     "output_type": "display_data",
     "data": {
      "text/plain": [
       "<pandas.io.formats.style.Styler at 0x7efadb0e6160>"
      ],
      "text/html": [
       "<style type=\"text/css\">\n",
       "#T_dc010_row2_col1, #T_dc010_row2_col4 {\n",
       "  font-weight: bold;\n",
       "}\n",
       "</style>\n",
       "<table id=\"T_dc010_\">\n",
       "  <thead>\n",
       "    <tr>\n",
       "      <th class=\"blank level0\" >&nbsp;</th>\n",
       "      <th class=\"col_heading level0 col0\" colspan=\"3\">Generation Cost</th>\n",
       "      <th class=\"col_heading level0 col3\" colspan=\"3\">Constraint Violation Rate</th>\n",
       "    </tr>\n",
       "    <tr>\n",
       "      <th class=\"index_name level1\" >F</th>\n",
       "      <th class=\"col_heading level1 col0\" >16</th>\n",
       "      <th class=\"col_heading level1 col1\" >32</th>\n",
       "      <th class=\"col_heading level1 col2\" >64</th>\n",
       "      <th class=\"col_heading level1 col3\" >16</th>\n",
       "      <th class=\"col_heading level1 col4\" >32</th>\n",
       "      <th class=\"col_heading level1 col5\" >64</th>\n",
       "    </tr>\n",
       "    <tr>\n",
       "      <th class=\"index_name level0\" >K</th>\n",
       "      <th class=\"blank col0\" >&nbsp;</th>\n",
       "      <th class=\"blank col1\" >&nbsp;</th>\n",
       "      <th class=\"blank col2\" >&nbsp;</th>\n",
       "      <th class=\"blank col3\" >&nbsp;</th>\n",
       "      <th class=\"blank col4\" >&nbsp;</th>\n",
       "      <th class=\"blank col5\" >&nbsp;</th>\n",
       "    </tr>\n",
       "  </thead>\n",
       "  <tbody>\n",
       "    <tr>\n",
       "      <th id=\"T_dc010_level0_row0\" class=\"row_heading level0 row0\" >2</th>\n",
       "      <td id=\"T_dc010_row0_col0\" class=\"data row0 col0\" >4.5939</td>\n",
       "      <td id=\"T_dc010_row0_col1\" class=\"data row0 col1\" >1.3213</td>\n",
       "      <td id=\"T_dc010_row0_col2\" class=\"data row0 col2\" >1.1628</td>\n",
       "      <td id=\"T_dc010_row0_col3\" class=\"data row0 col3\" >0.0906</td>\n",
       "      <td id=\"T_dc010_row0_col4\" class=\"data row0 col4\" >0.0441</td>\n",
       "      <td id=\"T_dc010_row0_col5\" class=\"data row0 col5\" >0.0765</td>\n",
       "    </tr>\n",
       "    <tr>\n",
       "      <th id=\"T_dc010_level0_row1\" class=\"row_heading level0 row1\" >4</th>\n",
       "      <td id=\"T_dc010_row1_col0\" class=\"data row1 col0\" >3.8341</td>\n",
       "      <td id=\"T_dc010_row1_col1\" class=\"data row1 col1\" >1.1534</td>\n",
       "      <td id=\"T_dc010_row1_col2\" class=\"data row1 col2\" >1.2134</td>\n",
       "      <td id=\"T_dc010_row1_col3\" class=\"data row1 col3\" >0.0878</td>\n",
       "      <td id=\"T_dc010_row1_col4\" class=\"data row1 col4\" >0.0722</td>\n",
       "      <td id=\"T_dc010_row1_col5\" class=\"data row1 col5\" >0.0871</td>\n",
       "    </tr>\n",
       "    <tr>\n",
       "      <th id=\"T_dc010_level0_row2\" class=\"row_heading level0 row2\" >8</th>\n",
       "      <td id=\"T_dc010_row2_col0\" class=\"data row2 col0\" >1.3823</td>\n",
       "      <td id=\"T_dc010_row2_col1\" class=\"data row2 col1\" >1.1905</td>\n",
       "      <td id=\"T_dc010_row2_col2\" class=\"data row2 col2\" >1.1565</td>\n",
       "      <td id=\"T_dc010_row2_col3\" class=\"data row2 col3\" >0.0060</td>\n",
       "      <td id=\"T_dc010_row2_col4\" class=\"data row2 col4\" >0.0093</td>\n",
       "      <td id=\"T_dc010_row2_col5\" class=\"data row2 col5\" >0.0510</td>\n",
       "    </tr>\n",
       "  </tbody>\n",
       "</table>\n"
      ]
     },
     "metadata": {}
    },
    {
     "output_type": "display_data",
     "data": {
      "text/plain": [
       "<pandas.io.formats.style.Styler at 0x7efafbbd2d00>"
      ],
      "text/html": [
       "<style type=\"text/css\">\n",
       "#T_fd309_row0_col2, #T_fd309_row0_col5 {\n",
       "  font-weight: bold;\n",
       "}\n",
       "</style>\n",
       "<table id=\"T_fd309_\">\n",
       "  <thead>\n",
       "    <tr>\n",
       "      <th class=\"blank level0\" >&nbsp;</th>\n",
       "      <th class=\"col_heading level0 col0\" colspan=\"3\">Generation Cost</th>\n",
       "      <th class=\"col_heading level0 col3\" colspan=\"3\">Constraint Violation Rate</th>\n",
       "    </tr>\n",
       "    <tr>\n",
       "      <th class=\"index_name level1\" >t</th>\n",
       "      <th class=\"col_heading level1 col0\" >10</th>\n",
       "      <th class=\"col_heading level1 col1\" >100</th>\n",
       "      <th class=\"col_heading level1 col2\" >500</th>\n",
       "      <th class=\"col_heading level1 col3\" >10</th>\n",
       "      <th class=\"col_heading level1 col4\" >100</th>\n",
       "      <th class=\"col_heading level1 col5\" >500</th>\n",
       "    </tr>\n",
       "    <tr>\n",
       "      <th class=\"index_name level0\" >s</th>\n",
       "      <th class=\"blank col0\" >&nbsp;</th>\n",
       "      <th class=\"blank col1\" >&nbsp;</th>\n",
       "      <th class=\"blank col2\" >&nbsp;</th>\n",
       "      <th class=\"blank col3\" >&nbsp;</th>\n",
       "      <th class=\"blank col4\" >&nbsp;</th>\n",
       "      <th class=\"blank col5\" >&nbsp;</th>\n",
       "    </tr>\n",
       "  </thead>\n",
       "  <tbody>\n",
       "    <tr>\n",
       "      <th id=\"T_fd309_level0_row0\" class=\"row_heading level0 row0\" >10</th>\n",
       "      <td id=\"T_fd309_row0_col0\" class=\"data row0 col0\" >1.1512</td>\n",
       "      <td id=\"T_fd309_row0_col1\" class=\"data row0 col1\" >1.1673</td>\n",
       "      <td id=\"T_fd309_row0_col2\" class=\"data row0 col2\" >1.1905</td>\n",
       "      <td id=\"T_fd309_row0_col3\" class=\"data row0 col3\" >0.0394</td>\n",
       "      <td id=\"T_fd309_row0_col4\" class=\"data row0 col4\" >0.0685</td>\n",
       "      <td id=\"T_fd309_row0_col5\" class=\"data row0 col5\" >0.0093</td>\n",
       "    </tr>\n",
       "    <tr>\n",
       "      <th id=\"T_fd309_level0_row1\" class=\"row_heading level0 row1\" >100</th>\n",
       "      <td id=\"T_fd309_row1_col0\" class=\"data row1 col0\" >1.3631</td>\n",
       "      <td id=\"T_fd309_row1_col1\" class=\"data row1 col1\" >1.3474</td>\n",
       "      <td id=\"T_fd309_row1_col2\" class=\"data row1 col2\" >1.4386</td>\n",
       "      <td id=\"T_fd309_row1_col3\" class=\"data row1 col3\" >0.0262</td>\n",
       "      <td id=\"T_fd309_row1_col4\" class=\"data row1 col4\" >0.0028</td>\n",
       "      <td id=\"T_fd309_row1_col5\" class=\"data row1 col5\" >0.0189</td>\n",
       "    </tr>\n",
       "    <tr>\n",
       "      <th id=\"T_fd309_level0_row2\" class=\"row_heading level0 row2\" >500</th>\n",
       "      <td id=\"T_fd309_row2_col0\" class=\"data row2 col0\" >1.3263</td>\n",
       "      <td id=\"T_fd309_row2_col1\" class=\"data row2 col1\" >1.2807</td>\n",
       "      <td id=\"T_fd309_row2_col2\" class=\"data row2 col2\" >1.5720</td>\n",
       "      <td id=\"T_fd309_row2_col3\" class=\"data row2 col3\" >0.0334</td>\n",
       "      <td id=\"T_fd309_row2_col4\" class=\"data row2 col4\" >0.0384</td>\n",
       "      <td id=\"T_fd309_row2_col5\" class=\"data row2 col5\" >0.0686</td>\n",
       "    </tr>\n",
       "  </tbody>\n",
       "</table>\n"
      ]
     },
     "metadata": {}
    },
    {
     "output_type": "display_data",
     "data": {
      "text/plain": [
       "<pandas.io.formats.style.Styler at 0x7efadb0e63d0>"
      ],
      "text/html": [
       "<style type=\"text/css\">\n",
       "#T_03a2e_row1_col1, #T_03a2e_row1_col4 {\n",
       "  font-weight: bold;\n",
       "}\n",
       "</style>\n",
       "<table id=\"T_03a2e_\">\n",
       "  <thead>\n",
       "    <tr>\n",
       "      <th class=\"blank level0\" >&nbsp;</th>\n",
       "      <th class=\"col_heading level0 col0\" colspan=\"3\">Generation Cost</th>\n",
       "      <th class=\"col_heading level0 col3\" colspan=\"3\">Constraint Violation Rate</th>\n",
       "    </tr>\n",
       "    <tr>\n",
       "      <th class=\"index_name level1\" >$\\eta$</th>\n",
       "      <th class=\"col_heading level1 col0\" >1e-5</th>\n",
       "      <th class=\"col_heading level1 col1\" >1e-4</th>\n",
       "      <th class=\"col_heading level1 col2\" >1e-3</th>\n",
       "      <th class=\"col_heading level1 col3\" >1e-5</th>\n",
       "      <th class=\"col_heading level1 col4\" >1e-4</th>\n",
       "      <th class=\"col_heading level1 col5\" >1e-3</th>\n",
       "    </tr>\n",
       "    <tr>\n",
       "      <th class=\"index_name level0\" >L</th>\n",
       "      <th class=\"blank col0\" >&nbsp;</th>\n",
       "      <th class=\"blank col1\" >&nbsp;</th>\n",
       "      <th class=\"blank col2\" >&nbsp;</th>\n",
       "      <th class=\"blank col3\" >&nbsp;</th>\n",
       "      <th class=\"blank col4\" >&nbsp;</th>\n",
       "      <th class=\"blank col5\" >&nbsp;</th>\n",
       "    </tr>\n",
       "  </thead>\n",
       "  <tbody>\n",
       "    <tr>\n",
       "      <th id=\"T_03a2e_level0_row0\" class=\"row_heading level0 row0\" >1</th>\n",
       "      <td id=\"T_03a2e_row0_col0\" class=\"data row0 col0\" >4.2703</td>\n",
       "      <td id=\"T_03a2e_row0_col1\" class=\"data row0 col1\" >3.9904</td>\n",
       "      <td id=\"T_03a2e_row0_col2\" class=\"data row0 col2\" >4.0481</td>\n",
       "      <td id=\"T_03a2e_row0_col3\" class=\"data row0 col3\" >0.0880</td>\n",
       "      <td id=\"T_03a2e_row0_col4\" class=\"data row0 col4\" >0.0878</td>\n",
       "      <td id=\"T_03a2e_row0_col5\" class=\"data row0 col5\" >0.0878</td>\n",
       "    </tr>\n",
       "    <tr>\n",
       "      <th id=\"T_03a2e_level0_row1\" class=\"row_heading level0 row1\" >2</th>\n",
       "      <td id=\"T_03a2e_row1_col0\" class=\"data row1 col0\" >4.8803</td>\n",
       "      <td id=\"T_03a2e_row1_col1\" class=\"data row1 col1\" >1.1905</td>\n",
       "      <td id=\"T_03a2e_row1_col2\" class=\"data row1 col2\" >1.1776</td>\n",
       "      <td id=\"T_03a2e_row1_col3\" class=\"data row1 col3\" >0.0933</td>\n",
       "      <td id=\"T_03a2e_row1_col4\" class=\"data row1 col4\" >0.0093</td>\n",
       "      <td id=\"T_03a2e_row1_col5\" class=\"data row1 col5\" >0.0462</td>\n",
       "    </tr>\n",
       "  </tbody>\n",
       "</table>\n"
      ]
     },
     "metadata": {}
    }
   ],
   "metadata": {}
  },
  {
   "cell_type": "code",
   "execution_count": 29,
   "source": [
    "ids = [\"2lllzf30\", \"2ng1ftuc\", \"2zdzkf7r\", \"3ttyfoc7\"]\n",
    "runs = [api.run(f\"damowerko/opf/{id}\") for id in ids]\n",
    "data = []\n",
    "dm = opf.dataset.CaseDataModule(\"case30\", \"../data\", adj_threshold=0.01)\n",
    "for run in runs:\n",
    "    barrier = opf.utils.create_model(dm, run.config)\n",
    "    utils.load_checkpoint(barrier, run.id, log_dir)\n",
    "    data.append(utils.test(barrier, dm))"
   ],
   "outputs": [
    {
     "output_type": "stream",
     "name": "stderr",
     "text": [
      "/home/damow/.pyenv/versions/3.9.5/envs/opf/lib/python3.9/site-packages/pytorch_lightning/trainer/trainer.py:1295: UserWarning: GPU available but not used. Set the gpus flag in your trainer `Trainer(gpus=1)` or script `--gpus=1`.\n",
      "  rank_zero_warn(\n",
      "/home/damow/.pyenv/versions/3.9.5/envs/opf/lib/python3.9/site-packages/pytorch_lightning/trainer/data_loading.py:105: UserWarning: The dataloader, test dataloader 0, does not have many workers which may be a bottleneck. Consider increasing the value of the `num_workers` argument` (try 48 which is the number of cpus on this machine) in the `DataLoader` init to improve performance.\n",
      "  rank_zero_warn(\n"
     ]
    },
    {
     "output_type": "stream",
     "name": "stdout",
     "text": [
      "Testing: 100%|██████████| 798/798 [00:15<00:00, 53.07it/s]\n"
     ]
    },
    {
     "output_type": "stream",
     "name": "stderr",
     "text": [
      "/home/damow/.pyenv/versions/3.9.5/envs/opf/lib/python3.9/site-packages/pytorch_lightning/core/datamodule.py:423: LightningDeprecationWarning: DataModule.prepare_data has already been called, so it will not be called again. In v1.6 this behavior will change to always call DataModule.prepare_data.\n",
      "  rank_zero_deprecation(\n",
      "/home/damow/.pyenv/versions/3.9.5/envs/opf/lib/python3.9/site-packages/pytorch_lightning/core/datamodule.py:423: LightningDeprecationWarning: DataModule.setup has already been called, so it will not be called again. In v1.6 this behavior will change to always call DataModule.setup.\n",
      "  rank_zero_deprecation(\n"
     ]
    },
    {
     "output_type": "stream",
     "name": "stdout",
     "text": [
      "Testing: 100%|██████████| 798/798 [00:14<00:00, 54.53it/s]\n"
     ]
    },
    {
     "output_type": "stream",
     "name": "stderr",
     "text": [
      "/home/damow/.pyenv/versions/3.9.5/envs/opf/lib/python3.9/site-packages/pytorch_lightning/core/datamodule.py:423: LightningDeprecationWarning: DataModule.teardown has already been called, so it will not be called again. In v1.6 this behavior will change to always call DataModule.teardown.\n",
      "  rank_zero_deprecation(\n"
     ]
    },
    {
     "output_type": "stream",
     "name": "stdout",
     "text": [
      "Testing: 100%|██████████| 798/798 [00:15<00:00, 52.99it/s]\n",
      "Testing: 100%|██████████| 798/798 [00:14<00:00, 54.29it/s]\n"
     ]
    }
   ],
   "metadata": {}
  },
  {
   "cell_type": "code",
   "execution_count": 123,
   "source": [
    "for i in range(len(ids)):\n",
    "    config = runs[i].config\n",
    "    data[i][list(config.keys())] = list(config.values())\n",
    "    data[i][\"Cost Improvement\"] = data[i][\"acopf/cost\"] - data[i][\"test/cost\"]\n",
    "    data[i][\"id\"] = ids[i]\n",
    "df = (pd\n",
    "    .concat(data, ignore_index=True)\n",
    "    .rename(columns = {\"cost_weight\": \"Cost Weight\"})\n",
    ")\n",
    "df = df.loc[df[\"test/inequality/error_max\"] < 0.01]\n",
    "\n",
    "sns.displot(df, x=\"Cost Improvement\", hue=\"Cost Weight\", kind=\"kde\", common_norm=False)"
   ],
   "outputs": [
    {
     "output_type": "execute_result",
     "data": {
      "text/plain": [
       "<seaborn.axisgrid.FacetGrid at 0x7efd14d523a0>"
      ]
     },
     "metadata": {},
     "execution_count": 123
    },
    {
     "output_type": "display_data",
     "data": {
      "text/plain": [
       "<Figure size 422.02x360 with 1 Axes>"
      ],
      "image/svg+xml": "<?xml version=\"1.0\" encoding=\"utf-8\" standalone=\"no\"?>\n<!DOCTYPE svg PUBLIC \"-//W3C//DTD SVG 1.1//EN\"\n  \"http://www.w3.org/Graphics/SVG/1.1/DTD/svg11.dtd\">\n<svg height=\"352.8pt\" version=\"1.1\" viewBox=\"0 0 420.619731 352.8\" width=\"420.619731pt\" xmlns=\"http://www.w3.org/2000/svg\" xmlns:xlink=\"http://www.w3.org/1999/xlink\">\n <metadata>\n  <rdf:RDF xmlns:cc=\"http://creativecommons.org/ns#\" xmlns:dc=\"http://purl.org/dc/elements/1.1/\" xmlns:rdf=\"http://www.w3.org/1999/02/22-rdf-syntax-ns#\">\n   <cc:Work>\n    <dc:type rdf:resource=\"http://purl.org/dc/dcmitype/StillImage\"/>\n    <dc:date>2021-09-04T12:30:02.551022</dc:date>\n    <dc:format>image/svg+xml</dc:format>\n    <dc:creator>\n     <cc:Agent>\n      <dc:title>Matplotlib v3.4.3, https://matplotlib.org/</dc:title>\n     </cc:Agent>\n    </dc:creator>\n   </cc:Work>\n  </rdf:RDF>\n </metadata>\n <defs>\n  <style type=\"text/css\">*{stroke-linecap:butt;stroke-linejoin:round;}</style>\n </defs>\n <g id=\"figure_1\">\n  <g id=\"patch_1\">\n   <path d=\"M 0 352.8 \nL 420.619731 352.8 \nL 420.619731 0 \nL 0 0 \nz\n\" style=\"fill:none;\"/>\n  </g>\n  <g id=\"axes_1\">\n   <g id=\"patch_2\">\n    <path d=\"M 41.999682 316.888647 \nL 341.379803 316.888647 \nL 341.379803 7.2 \nL 41.999682 7.2 \nz\n\" style=\"fill:#ffffff;\"/>\n   </g>\n   <g id=\"matplotlib.axis_1\">\n    <g id=\"xtick_1\">\n     <g id=\"line2d_1\">\n      <defs>\n       <path d=\"M 0 0 \nL 0 3.5 \n\" id=\"m2b33d4f33c\" style=\"stroke:#000000;stroke-width:0.8;\"/>\n      </defs>\n      <g>\n       <use style=\"stroke:#000000;stroke-width:0.8;\" x=\"81.890545\" xlink:href=\"#m2b33d4f33c\" y=\"316.888647\"/>\n      </g>\n     </g>\n     <g id=\"text_1\">\n      <!-- $\\mathdefault{0.02}$ -->\n      <g transform=\"translate(73.034838 330.807145)scale(0.1 -0.1)\">\n       <defs>\n        <path d=\"M 2688 2025 \nC 2688 2416 2682 3080 2413 3591 \nC 2176 4039 1798 4198 1466 4198 \nC 1158 4198 768 4058 525 3597 \nC 269 3118 243 2524 243 2025 \nC 243 1661 250 1106 448 619 \nC 723 -39 1216 -128 1466 -128 \nC 1760 -128 2208 -7 2470 600 \nC 2662 1042 2688 1559 2688 2025 \nz\nM 1466 -26 \nC 1056 -26 813 325 723 812 \nC 653 1188 653 1738 653 2096 \nC 653 2588 653 2997 736 3387 \nC 858 3929 1216 4096 1466 4096 \nC 1728 4096 2067 3923 2189 3400 \nC 2272 3036 2278 2607 2278 2096 \nC 2278 1680 2278 1169 2202 792 \nC 2067 95 1690 -26 1466 -26 \nz\n\" id=\"CMR17-30\" transform=\"scale(0.015625)\"/>\n        <path d=\"M 1178 307 \nC 1178 492 1024 619 870 619 \nC 685 619 557 466 557 313 \nC 557 128 710 0 864 0 \nC 1050 0 1178 153 1178 307 \nz\n\" id=\"CMMI12-3a\" transform=\"scale(0.015625)\"/>\n        <path d=\"M 2669 989 \nL 2554 989 \nC 2490 536 2438 459 2413 420 \nC 2381 369 1920 369 1830 369 \nL 602 369 \nC 832 619 1280 1072 1824 1597 \nC 2214 1967 2669 2402 2669 3035 \nC 2669 3790 2067 4224 1395 4224 \nC 691 4224 262 3604 262 3030 \nC 262 2780 448 2748 525 2748 \nC 589 2748 781 2787 781 3010 \nC 781 3207 614 3264 525 3264 \nC 486 3264 448 3258 422 3245 \nC 544 3790 915 4058 1306 4058 \nC 1862 4058 2227 3617 2227 3035 \nC 2227 2479 1901 2000 1536 1584 \nL 262 146 \nL 262 0 \nL 2515 0 \nL 2669 989 \nz\n\" id=\"CMR17-32\" transform=\"scale(0.015625)\"/>\n       </defs>\n       <use transform=\"scale(0.996264)\" xlink:href=\"#CMR17-30\"/>\n       <use transform=\"translate(45.690477 0)scale(0.996264)\" xlink:href=\"#CMMI12-3a\"/>\n       <use transform=\"translate(72.787654 0)scale(0.996264)\" xlink:href=\"#CMR17-30\"/>\n       <use transform=\"translate(118.478131 0)scale(0.996264)\" xlink:href=\"#CMR17-32\"/>\n      </g>\n     </g>\n    </g>\n    <g id=\"xtick_2\">\n     <g id=\"line2d_2\">\n      <g>\n       <use style=\"stroke:#000000;stroke-width:0.8;\" x=\"139.400658\" xlink:href=\"#m2b33d4f33c\" y=\"316.888647\"/>\n      </g>\n     </g>\n     <g id=\"text_2\">\n      <!-- $\\mathdefault{0.04}$ -->\n      <g transform=\"translate(130.544951 330.807145)scale(0.1 -0.1)\">\n       <defs>\n        <path d=\"M 2150 4122 \nC 2150 4256 2144 4256 2029 4256 \nL 128 1254 \nL 128 1088 \nL 1779 1088 \nL 1779 457 \nC 1779 224 1766 160 1318 160 \nL 1197 160 \nL 1197 0 \nC 1402 0 1747 0 1965 0 \nC 2182 0 2528 0 2733 0 \nL 2733 160 \nL 2611 160 \nC 2163 160 2150 224 2150 457 \nL 2150 1088 \nL 2803 1088 \nL 2803 1254 \nL 2150 1254 \nL 2150 4122 \nz\nM 1798 3703 \nL 1798 1254 \nL 256 1254 \nL 1798 3703 \nz\n\" id=\"CMR17-34\" transform=\"scale(0.015625)\"/>\n       </defs>\n       <use transform=\"scale(0.996264)\" xlink:href=\"#CMR17-30\"/>\n       <use transform=\"translate(45.690477 0)scale(0.996264)\" xlink:href=\"#CMMI12-3a\"/>\n       <use transform=\"translate(72.787654 0)scale(0.996264)\" xlink:href=\"#CMR17-30\"/>\n       <use transform=\"translate(118.478131 0)scale(0.996264)\" xlink:href=\"#CMR17-34\"/>\n      </g>\n     </g>\n    </g>\n    <g id=\"xtick_3\">\n     <g id=\"line2d_3\">\n      <g>\n       <use style=\"stroke:#000000;stroke-width:0.8;\" x=\"196.910771\" xlink:href=\"#m2b33d4f33c\" y=\"316.888647\"/>\n      </g>\n     </g>\n     <g id=\"text_3\">\n      <!-- $\\mathdefault{0.06}$ -->\n      <g transform=\"translate(188.055064 330.807145)scale(0.1 -0.1)\">\n       <defs>\n        <path d=\"M 678 2176 \nC 678 3690 1395 4032 1811 4032 \nC 1946 4032 2272 4009 2400 3776 \nC 2298 3776 2106 3776 2106 3553 \nC 2106 3381 2246 3323 2336 3323 \nC 2394 3323 2566 3348 2566 3560 \nC 2566 3954 2246 4179 1805 4179 \nC 1043 4179 243 3390 243 1984 \nC 243 253 966 -128 1478 -128 \nC 2099 -128 2688 427 2688 1283 \nC 2688 2081 2170 2662 1517 2662 \nC 1126 2662 838 2407 678 1960 \nL 678 2176 \nz\nM 1478 25 \nC 691 25 691 1200 691 1436 \nC 691 1896 909 2560 1504 2560 \nC 1613 2560 1926 2560 2138 2120 \nC 2253 1870 2253 1609 2253 1289 \nC 2253 944 2253 690 2118 434 \nC 1978 171 1773 25 1478 25 \nz\n\" id=\"CMR17-36\" transform=\"scale(0.015625)\"/>\n       </defs>\n       <use transform=\"scale(0.996264)\" xlink:href=\"#CMR17-30\"/>\n       <use transform=\"translate(45.690477 0)scale(0.996264)\" xlink:href=\"#CMMI12-3a\"/>\n       <use transform=\"translate(72.787654 0)scale(0.996264)\" xlink:href=\"#CMR17-30\"/>\n       <use transform=\"translate(118.478131 0)scale(0.996264)\" xlink:href=\"#CMR17-36\"/>\n      </g>\n     </g>\n    </g>\n    <g id=\"xtick_4\">\n     <g id=\"line2d_4\">\n      <g>\n       <use style=\"stroke:#000000;stroke-width:0.8;\" x=\"254.420884\" xlink:href=\"#m2b33d4f33c\" y=\"316.888647\"/>\n      </g>\n     </g>\n     <g id=\"text_4\">\n      <!-- $\\mathdefault{0.08}$ -->\n      <g transform=\"translate(245.565177 330.807145)scale(0.1 -0.1)\">\n       <defs>\n        <path d=\"M 1741 2264 \nC 2144 2467 2554 2773 2554 3263 \nC 2554 3841 1990 4179 1472 4179 \nC 890 4179 378 3759 378 3180 \nC 378 3021 416 2747 666 2505 \nC 730 2442 998 2251 1171 2130 \nC 883 1983 211 1634 211 934 \nC 211 279 838 -128 1459 -128 \nC 2144 -128 2720 362 2720 1010 \nC 2720 1590 2330 1857 2074 2029 \nL 1741 2264 \nz\nM 902 2822 \nC 851 2854 595 3051 595 3351 \nC 595 3739 998 4032 1459 4032 \nC 1965 4032 2336 3676 2336 3262 \nC 2336 2669 1670 2331 1638 2331 \nC 1632 2331 1626 2331 1574 2370 \nL 902 2822 \nz\nM 2080 1519 \nC 2176 1449 2483 1240 2483 851 \nC 2483 381 2010 25 1472 25 \nC 890 25 448 438 448 940 \nC 448 1443 838 1862 1280 2060 \nL 2080 1519 \nz\n\" id=\"CMR17-38\" transform=\"scale(0.015625)\"/>\n       </defs>\n       <use transform=\"scale(0.996264)\" xlink:href=\"#CMR17-30\"/>\n       <use transform=\"translate(45.690477 0)scale(0.996264)\" xlink:href=\"#CMMI12-3a\"/>\n       <use transform=\"translate(72.787654 0)scale(0.996264)\" xlink:href=\"#CMR17-30\"/>\n       <use transform=\"translate(118.478131 0)scale(0.996264)\" xlink:href=\"#CMR17-38\"/>\n      </g>\n     </g>\n    </g>\n    <g id=\"xtick_5\">\n     <g id=\"line2d_5\">\n      <g>\n       <use style=\"stroke:#000000;stroke-width:0.8;\" x=\"311.930998\" xlink:href=\"#m2b33d4f33c\" y=\"316.888647\"/>\n      </g>\n     </g>\n     <g id=\"text_5\">\n      <!-- $\\mathdefault{0.10}$ -->\n      <g transform=\"translate(303.075291 330.807145)scale(0.1 -0.1)\">\n       <defs>\n        <path d=\"M 1702 4058 \nC 1702 4192 1696 4192 1606 4192 \nC 1357 3916 979 3827 621 3827 \nC 602 3827 570 3827 563 3808 \nC 557 3795 557 3782 557 3648 \nC 755 3648 1088 3686 1344 3839 \nL 1344 461 \nC 1344 236 1331 160 781 160 \nL 589 160 \nL 589 0 \nC 896 0 1216 0 1523 0 \nC 1830 0 2150 0 2458 0 \nL 2458 160 \nL 2266 160 \nC 1715 160 1702 230 1702 458 \nL 1702 4058 \nz\n\" id=\"CMR17-31\" transform=\"scale(0.015625)\"/>\n       </defs>\n       <use transform=\"scale(0.996264)\" xlink:href=\"#CMR17-30\"/>\n       <use transform=\"translate(45.690477 0)scale(0.996264)\" xlink:href=\"#CMMI12-3a\"/>\n       <use transform=\"translate(72.787654 0)scale(0.996264)\" xlink:href=\"#CMR17-31\"/>\n       <use transform=\"translate(118.478131 0)scale(0.996264)\" xlink:href=\"#CMR17-30\"/>\n      </g>\n     </g>\n    </g>\n    <g id=\"text_6\">\n     <!-- Cost Improvement -->\n     <g transform=\"translate(151.38249 343.662822)scale(0.1 -0.1)\">\n      <defs>\n       <path d=\"M 3974 4289 \nC 3974 4403 3968 4410 3930 4410 \nC 3904 4410 3898 4403 3853 4327 \nL 3571 3792 \nC 3258 4187 2874 4416 2381 4416 \nC 1286 4416 294 3456 294 2148 \nC 294 826 1286 -128 2387 -128 \nC 3366 -128 3974 730 3974 1461 \nC 3974 1524 3974 1550 3917 1550 \nC 3866 1550 3866 1531 3859 1474 \nC 3808 585 3168 38 2477 38 \nC 1824 38 781 495 781 2147 \nC 781 3805 1843 4250 2464 4250 \nC 3187 4250 3712 3628 3834 2745 \nC 3846 2668 3846 2655 3904 2655 \nC 3974 2655 3974 2668 3974 2783 \nL 3974 4289 \nz\n\" id=\"CMR17-43\" transform=\"scale(0.015625)\"/>\n       <path d=\"M 2758 1356 \nC 2758 2176 2163 2816 1466 2816 \nC 768 2816 173 2176 173 1356 \nC 173 551 768 -64 1466 -64 \nC 2163 -64 2758 551 2758 1356 \nz\nM 1466 51 \nC 1165 51 909 230 762 480 \nC 602 767 582 1126 582 1408 \nC 582 1677 595 2010 762 2298 \nC 890 2509 1139 2714 1466 2714 \nC 1754 2714 1997 2554 2150 2330 \nC 2349 2029 2349 1607 2349 1408 \nC 2349 1158 2336 775 2163 467 \nC 1984 173 1709 51 1466 51 \nz\n\" id=\"CMR17-6f\" transform=\"scale(0.015625)\"/>\n       <path d=\"M 1978 2697 \nC 1978 2813 1971 2819 1933 2819 \nC 1907 2819 1901 2813 1824 2717 \nC 1805 2691 1747 2626 1728 2601 \nC 1523 2819 1235 2819 1126 2819 \nC 416 2819 160 2447 160 2076 \nC 160 1498 813 1365 998 1325 \nC 1402 1243 1542 1217 1677 1101 \nC 1760 1025 1901 884 1901 654 \nC 1901 384 1747 38 1158 38 \nC 602 38 403 460 288 1021 \nC 269 1110 269 1117 218 1117 \nC 166 1117 160 1110 160 983 \nL 160 63 \nC 160 -51 166 -58 205 -58 \nC 237 -58 243 -51 275 0 \nC 314 57 410 211 448 276 \nC 576 103 800 -64 1158 -64 \nC 1792 -64 2131 283 2131 784 \nC 2131 1112 1958 1285 1875 1362 \nC 1683 1561 1459 1606 1190 1657 \nC 838 1735 390 1825 390 2217 \nC 390 2383 480 2737 1126 2737 \nC 1811 2737 1850 2094 1862 1888 \nC 1869 1856 1901 1849 1920 1849 \nC 1978 1849 1978 1869 1978 1978 \nL 1978 2697 \nz\n\" id=\"CMR17-73\" transform=\"scale(0.015625)\"/>\n       <path d=\"M 966 2560 \nL 1862 2560 \nL 1862 2725 \nL 966 2725 \nL 966 3904 \nL 851 3904 \nC 838 3245 614 2668 70 2668 \nL 70 2560 \nL 627 2560 \nL 627 771 \nC 627 650 627 -64 1370 -64 \nC 1747 -64 1965 306 1965 777 \nL 1965 1140 \nL 1850 1140 \nL 1850 783 \nC 1850 344 1677 51 1408 51 \nC 1222 51 966 178 966 758 \nL 966 2560 \nz\n\" id=\"CMR17-74\" transform=\"scale(0.015625)\"/>\n       <path d=\"M 1261 3905 \nC 1261 4192 1338 4192 1798 4192 \nL 1798 4352 \nC 1594 4352 1267 4352 1050 4352 \nC 832 4352 506 4352 301 4352 \nL 301 4192 \nC 762 4192 838 4192 838 3905 \nL 838 447 \nC 838 160 762 160 301 160 \nL 301 0 \nC 506 0 832 0 1050 0 \nC 1267 0 1594 0 1798 0 \nL 1798 160 \nC 1338 160 1261 160 1261 447 \nL 1261 3905 \nz\n\" id=\"CMR17-49\" transform=\"scale(0.015625)\"/>\n       <path d=\"M 4326 1933 \nC 4326 2252 4269 2790 3507 2790 \nC 3072 2790 2771 2496 2656 2151 \nL 2650 2151 \nC 2573 2676 2195 2790 1837 2790 \nC 1331 2790 1069 2400 973 2144 \nL 966 2144 \nL 966 2790 \nL 211 2720 \nL 211 2554 \nC 589 2554 646 2515 646 2208 \nL 646 428 \nC 646 184 621 153 211 153 \nL 211 -13 \nC 365 0 646 0 813 0 \nC 979 0 1267 0 1421 -13 \nL 1421 153 \nC 1011 153 986 178 986 428 \nL 986 1658 \nC 986 2247 1344 2688 1792 2688 \nC 2266 2688 2317 2266 2317 1958 \nL 2317 428 \nC 2317 184 2291 153 1882 153 \nL 1882 -13 \nC 2035 0 2317 0 2483 0 \nC 2650 0 2938 0 3091 -13 \nL 3091 153 \nC 2682 153 2656 178 2656 428 \nL 2656 1658 \nC 2656 2247 3014 2688 3462 2688 \nC 3936 2688 3987 2266 3987 1958 \nL 3987 428 \nC 3987 184 3962 153 3552 153 \nL 3552 -13 \nC 3706 0 3987 0 4154 0 \nC 4320 0 4608 0 4762 -13 \nL 4762 153 \nC 4352 153 4326 178 4326 428 \nL 4326 1933 \nz\n\" id=\"CMR17-6d\" transform=\"scale(0.015625)\"/>\n       <path d=\"M 1408 -1063 \nC 998 -1063 973 -1037 973 -789 \nL 973 402 \nC 1158 134 1427 -38 1766 -38 \nC 2406 -38 3053 523 3053 1388 \nC 3053 2191 2496 2802 1837 2802 \nC 1453 2802 1139 2592 960 2338 \nL 960 2802 \nL 198 2732 \nL 198 2567 \nC 576 2567 634 2528 634 2223 \nL 634 -789 \nC 634 -1031 608 -1063 198 -1063 \nL 198 -1228 \nC 352 -1216 634 -1216 800 -1216 \nC 966 -1216 1254 -1216 1408 -1228 \nL 1408 -1063 \nz\nM 973 2012 \nC 973 2102 973 2235 1222 2471 \nC 1254 2497 1472 2688 1792 2688 \nC 2259 2688 2643 2108 2643 1382 \nC 2643 656 2234 64 1728 64 \nC 1498 64 1248 172 1056 472 \nC 973 612 973 650 973 752 \nL 973 2012 \nz\n\" id=\"CMR17-70\" transform=\"scale(0.015625)\"/>\n       <path d=\"M 960 1497 \nC 960 2112 1222 2688 1702 2688 \nC 1747 2688 1792 2682 1837 2662 \nC 1837 2662 1696 2617 1696 2452 \nC 1696 2298 1818 2234 1914 2234 \nC 1990 2234 2131 2279 2131 2458 \nC 2131 2663 1926 2790 1709 2790 \nC 1222 2790 1011 2317 947 2093 \nL 941 2093 \nL 941 2790 \nL 198 2720 \nL 198 2554 \nC 576 2554 634 2515 634 2208 \nL 634 428 \nC 634 184 608 153 198 153 \nL 198 -13 \nC 352 0 646 0 813 0 \nC 998 0 1325 0 1498 -13 \nL 1498 153 \nC 1037 153 960 153 960 440 \nL 960 1497 \nz\n\" id=\"CMR17-72\" transform=\"scale(0.015625)\"/>\n       <path d=\"M 2502 2163 \nC 2560 2304 2662 2560 3034 2560 \nL 3034 2726 \nC 2912 2726 2752 2726 2630 2726 \nC 2496 2726 2285 2726 2157 2732 \nL 2157 2566 \nC 2317 2553 2406 2477 2406 2311 \nC 2406 2253 2406 2240 2368 2151 \nL 1664 377 \nL 902 2286 \nC 864 2369 864 2381 864 2407 \nC 864 2560 1075 2560 1171 2560 \nL 1171 2732 \nC 1018 2726 736 2726 576 2726 \nC 403 2726 205 2726 64 2732 \nL 64 2560 \nC 307 2560 442 2560 518 2362 \nL 1446 44 \nC 1485 -51 1491 -64 1549 -64 \nC 1606 -64 1613 -51 1651 44 \nL 2502 2163 \nz\n\" id=\"CMR17-76\" transform=\"scale(0.015625)\"/>\n       <path d=\"M 2438 1472 \nC 2464 1498 2464 1511 2464 1576 \nC 2464 2238 2118 2816 1389 2816 \nC 710 2816 173 2169 173 1383 \nC 173 551 781 -64 1459 -64 \nC 2176 -64 2458 607 2458 740 \nC 2458 784 2419 784 2406 784 \nC 2362 784 2355 771 2330 696 \nC 2189 265 1837 51 1504 51 \nC 1229 51 954 203 781 480 \nC 582 803 582 1176 582 1472 \nL 2438 1472 \nz\nM 589 1568 \nC 634 2505 1126 2714 1382 2714 \nC 1818 2714 2112 2297 2118 1568 \nL 589 1568 \nz\n\" id=\"CMR17-65\" transform=\"scale(0.015625)\"/>\n       <path d=\"M 2656 1933 \nC 2656 2259 2592 2790 1837 2790 \nC 1331 2790 1069 2400 973 2144 \nL 966 2144 \nL 966 2790 \nL 211 2720 \nL 211 2554 \nC 589 2554 646 2515 646 2208 \nL 646 428 \nC 646 184 621 153 211 153 \nL 211 -13 \nC 365 0 646 0 813 0 \nC 979 0 1267 0 1421 -13 \nL 1421 153 \nC 1011 153 986 178 986 428 \nL 986 1658 \nC 986 2247 1344 2688 1792 2688 \nC 2266 2688 2317 2266 2317 1958 \nL 2317 428 \nC 2317 184 2291 153 1882 153 \nL 1882 -13 \nC 2035 0 2317 0 2483 0 \nC 2650 0 2938 0 3091 -13 \nL 3091 153 \nC 2682 153 2656 178 2656 428 \nL 2656 1933 \nz\n\" id=\"CMR17-6e\" transform=\"scale(0.015625)\"/>\n      </defs>\n      <use transform=\"scale(0.996264)\" xlink:href=\"#CMR17-43\"/>\n      <use transform=\"translate(66.509881 0)scale(0.996264)\" xlink:href=\"#CMR17-6f\"/>\n      <use transform=\"translate(112.200358 0)scale(0.996264)\" xlink:href=\"#CMR17-73\"/>\n      <use transform=\"translate(148.001695 0)scale(0.996264)\" xlink:href=\"#CMR17-74\"/>\n      <use transform=\"translate(213.358429 0)scale(0.996264)\" xlink:href=\"#CMR17-49\"/>\n      <use transform=\"translate(245.996839 0)scale(0.996264)\" xlink:href=\"#CMR17-6d\"/>\n      <use transform=\"translate(322.916429 0)scale(0.996264)\" xlink:href=\"#CMR17-70\"/>\n      <use transform=\"translate(373.811798 0)scale(0.996264)\" xlink:href=\"#CMR17-72\"/>\n      <use transform=\"translate(409.092566 0)scale(0.996264)\" xlink:href=\"#CMR17-6f\"/>\n      <use transform=\"translate(452.180589 0)scale(0.996264)\" xlink:href=\"#CMR17-76\"/>\n      <use transform=\"translate(497.871051 0)scale(0.996264)\" xlink:href=\"#CMR17-65\"/>\n      <use transform=\"translate(538.356712 0)scale(0.996264)\" xlink:href=\"#CMR17-6d\"/>\n      <use transform=\"translate(615.276302 0)scale(0.996264)\" xlink:href=\"#CMR17-65\"/>\n      <use transform=\"translate(655.761962 0)scale(0.996264)\" xlink:href=\"#CMR17-6e\"/>\n      <use transform=\"translate(704.054878 0)scale(0.996264)\" xlink:href=\"#CMR17-74\"/>\n     </g>\n    </g>\n   </g>\n   <g id=\"matplotlib.axis_2\">\n    <g id=\"ytick_1\">\n     <g id=\"line2d_6\">\n      <defs>\n       <path d=\"M 0 0 \nL -3.5 0 \n\" id=\"mf97528cfc3\" style=\"stroke:#000000;stroke-width:0.8;\"/>\n      </defs>\n      <g>\n       <use style=\"stroke:#000000;stroke-width:0.8;\" x=\"41.999682\" xlink:href=\"#mf97528cfc3\" y=\"316.888647\"/>\n      </g>\n     </g>\n     <g id=\"text_7\">\n      <!-- $\\mathdefault{0}$ -->\n      <g transform=\"translate(30.018347 320.347896)scale(0.1 -0.1)\">\n       <use transform=\"scale(0.996264)\" xlink:href=\"#CMR17-30\"/>\n      </g>\n     </g>\n    </g>\n    <g id=\"ytick_2\">\n     <g id=\"line2d_7\">\n      <g>\n       <use style=\"stroke:#000000;stroke-width:0.8;\" x=\"41.999682\" xlink:href=\"#mf97528cfc3\" y=\"258.386669\"/>\n      </g>\n     </g>\n     <g id=\"text_8\">\n      <!-- $\\mathdefault{20}$ -->\n      <g transform=\"translate(25.037012 261.845918)scale(0.1 -0.1)\">\n       <use transform=\"scale(0.996264)\" xlink:href=\"#CMR17-32\"/>\n       <use transform=\"translate(45.690477 0)scale(0.996264)\" xlink:href=\"#CMR17-30\"/>\n      </g>\n     </g>\n    </g>\n    <g id=\"ytick_3\">\n     <g id=\"line2d_8\">\n      <g>\n       <use style=\"stroke:#000000;stroke-width:0.8;\" x=\"41.999682\" xlink:href=\"#mf97528cfc3\" y=\"199.884691\"/>\n      </g>\n     </g>\n     <g id=\"text_9\">\n      <!-- $\\mathdefault{40}$ -->\n      <g transform=\"translate(25.037012 203.34394)scale(0.1 -0.1)\">\n       <use transform=\"scale(0.996264)\" xlink:href=\"#CMR17-34\"/>\n       <use transform=\"translate(45.690477 0)scale(0.996264)\" xlink:href=\"#CMR17-30\"/>\n      </g>\n     </g>\n    </g>\n    <g id=\"ytick_4\">\n     <g id=\"line2d_9\">\n      <g>\n       <use style=\"stroke:#000000;stroke-width:0.8;\" x=\"41.999682\" xlink:href=\"#mf97528cfc3\" y=\"141.382713\"/>\n      </g>\n     </g>\n     <g id=\"text_10\">\n      <!-- $\\mathdefault{60}$ -->\n      <g transform=\"translate(25.037012 144.841962)scale(0.1 -0.1)\">\n       <use transform=\"scale(0.996264)\" xlink:href=\"#CMR17-36\"/>\n       <use transform=\"translate(45.690477 0)scale(0.996264)\" xlink:href=\"#CMR17-30\"/>\n      </g>\n     </g>\n    </g>\n    <g id=\"ytick_5\">\n     <g id=\"line2d_10\">\n      <g>\n       <use style=\"stroke:#000000;stroke-width:0.8;\" x=\"41.999682\" xlink:href=\"#mf97528cfc3\" y=\"82.880735\"/>\n      </g>\n     </g>\n     <g id=\"text_11\">\n      <!-- $\\mathdefault{80}$ -->\n      <g transform=\"translate(25.037012 86.339984)scale(0.1 -0.1)\">\n       <use transform=\"scale(0.996264)\" xlink:href=\"#CMR17-38\"/>\n       <use transform=\"translate(45.690477 0)scale(0.996264)\" xlink:href=\"#CMR17-30\"/>\n      </g>\n     </g>\n    </g>\n    <g id=\"ytick_6\">\n     <g id=\"line2d_11\">\n      <g>\n       <use style=\"stroke:#000000;stroke-width:0.8;\" x=\"41.999682\" xlink:href=\"#mf97528cfc3\" y=\"24.378757\"/>\n      </g>\n     </g>\n     <g id=\"text_12\">\n      <!-- $\\mathdefault{100}$ -->\n      <g transform=\"translate(20.055677 27.838007)scale(0.1 -0.1)\">\n       <use transform=\"scale(0.996264)\" xlink:href=\"#CMR17-31\"/>\n       <use transform=\"translate(45.690477 0)scale(0.996264)\" xlink:href=\"#CMR17-30\"/>\n       <use transform=\"translate(91.380954 0)scale(0.996264)\" xlink:href=\"#CMR17-30\"/>\n      </g>\n     </g>\n    </g>\n    <g id=\"text_13\">\n     <!-- Density -->\n     <g transform=\"translate(14.118498 178.607243)rotate(-90)scale(0.1 -0.1)\">\n      <defs>\n       <path d=\"M 333 4352 \nL 333 4186 \nC 774 4186 845 4186 845 3900 \nL 845 452 \nC 845 166 774 166 333 166 \nL 333 0 \nL 2368 0 \nC 3398 0 4224 943 4224 2141 \nC 4224 3346 3411 4352 2368 4352 \nL 333 4352 \nz\nM 1523 166 \nC 1267 166 1254 197 1254 414 \nL 1254 3938 \nC 1254 4155 1267 4186 1523 4186 \nL 2240 4186 \nC 2771 4186 3750 3874 3750 2141 \nC 3750 1242 3488 879 3366 707 \nC 3213 510 2848 166 2240 166 \nL 1523 166 \nz\n\" id=\"CMR17-44\" transform=\"scale(0.015625)\"/>\n       <path d=\"M 992 3909 \nC 992 4049 877 4170 730 4170 \nC 589 4170 467 4056 467 3909 \nC 467 3769 582 3648 730 3648 \nC 870 3648 992 3763 992 3909 \nz\nM 243 2706 \nL 243 2541 \nC 602 2541 653 2502 653 2197 \nL 653 427 \nC 653 184 627 153 218 153 \nL 218 -13 \nC 371 0 646 0 806 0 \nC 960 0 1222 0 1370 -13 \nL 1370 153 \nC 992 153 979 191 979 420 \nL 979 2776 \nL 243 2706 \nz\n\" id=\"CMR17-69\" transform=\"scale(0.015625)\"/>\n       <path d=\"M 2496 2197 \nC 2656 2586 2944 2586 3034 2586 \nL 3034 2752 \nC 2912 2752 2752 2752 2630 2752 \nC 2496 2752 2285 2752 2157 2758 \nL 2157 2592 \nC 2400 2573 2406 2394 2406 2343 \nC 2406 2280 2394 2248 2362 2171 \nL 1664 449 \nL 902 2306 \nC 870 2382 870 2426 870 2433 \nC 870 2573 1018 2586 1171 2586 \nL 1171 2758 \nC 1018 2752 742 2752 582 2752 \nC 410 2752 205 2752 64 2758 \nL 64 2586 \nC 410 2586 448 2554 531 2350 \nL 1485 15 \nC 1197 -738 1030 -1178 627 -1178 \nC 557 -1178 397 -1159 282 -1044 \nC 429 -1031 493 -942 493 -833 \nC 493 -725 416 -629 288 -629 \nC 147 -629 77 -725 77 -840 \nC 77 -1095 339 -1280 627 -1280 \nC 998 -1280 1229 -922 1357 -604 \nL 2496 2197 \nz\n\" id=\"CMR17-79\" transform=\"scale(0.015625)\"/>\n      </defs>\n      <use transform=\"scale(0.996264)\" xlink:href=\"#CMR17-44\"/>\n      <use transform=\"translate(70.393556 0)scale(0.996264)\" xlink:href=\"#CMR17-65\"/>\n      <use transform=\"translate(110.879216 0)scale(0.996264)\" xlink:href=\"#CMR17-6e\"/>\n      <use transform=\"translate(161.774586 0)scale(0.996264)\" xlink:href=\"#CMR17-73\"/>\n      <use transform=\"translate(197.575924 0)scale(0.996264)\" xlink:href=\"#CMR17-69\"/>\n      <use transform=\"translate(222.446982 0)scale(0.996264)\" xlink:href=\"#CMR17-74\"/>\n      <use transform=\"translate(255.125296 0)scale(0.996264)\" xlink:href=\"#CMR17-79\"/>\n     </g>\n    </g>\n   </g>\n   <g id=\"line2d_12\">\n    <path clip-path=\"url(#p87365589ea)\" d=\"M 55.60787 316.870776 \nL 62.145764 316.727226 \nL 66.815688 316.392014 \nL 78.023506 315.276678 \nL 80.82546 315.328439 \nL 85.495385 315.704672 \nL 89.231324 315.91859 \nL 92.033278 315.82807 \nL 94.835233 315.460904 \nL 97.637187 314.85583 \nL 106.043051 312.800479 \nL 110.712975 311.783212 \nL 112.580945 311.165773 \nL 114.448915 310.271324 \nL 116.316884 308.989944 \nL 118.184854 307.226071 \nL 120.052824 304.911831 \nL 121.920793 302.01835 \nL 123.788763 298.563996 \nL 125.656733 294.618393 \nL 128.458687 288.052507 \nL 133.128611 276.870565 \nL 134.996581 272.88644 \nL 136.864551 269.432699 \nL 138.73252 266.604792 \nL 140.60049 264.418509 \nL 142.46846 262.796455 \nL 144.336429 261.565151 \nL 147.138384 259.870018 \nL 149.006354 258.375181 \nL 149.940338 257.397287 \nL 150.874323 256.218204 \nL 151.808308 254.808735 \nL 152.742293 253.146372 \nL 153.676278 251.216208 \nL 155.544247 246.533663 \nL 157.412217 240.804171 \nL 159.280187 234.186316 \nL 162.082141 223.136685 \nL 167.68605 200.524611 \nL 169.55402 193.767277 \nL 171.42199 187.715312 \nL 173.289959 182.489322 \nL 175.157929 178.168606 \nL 176.091914 176.364056 \nL 177.025899 174.803448 \nL 177.959884 173.491896 \nL 178.893868 172.435452 \nL 179.827853 171.641666 \nL 180.761838 171.119859 \nL 181.695823 170.880982 \nL 182.629808 170.937005 \nL 183.563793 171.299811 \nL 184.497777 171.979669 \nL 185.431762 172.983428 \nL 186.365747 174.312651 \nL 187.299732 175.961931 \nL 188.233717 177.917674 \nL 190.101686 182.650959 \nL 191.969656 188.242143 \nL 195.705595 200.643606 \nL 203.177474 226.176863 \nL 205.045444 233.412617 \nL 206.913414 241.324427 \nL 209.715368 254.297812 \nL 214.385292 276.543254 \nL 216.253262 284.644584 \nL 218.121232 291.868443 \nL 219.989201 298.06345 \nL 221.857171 303.17701 \nL 223.725141 307.239376 \nL 225.59311 310.342296 \nL 226.527095 311.57402 \nL 227.46108 312.617057 \nL 229.32905 314.214102 \nL 231.197019 315.285353 \nL 233.064989 315.970326 \nL 234.932959 316.386986 \nL 237.734913 316.703926 \nL 241.470853 316.847863 \nL 241.470853 316.847863 \n\" style=\"fill:none;stroke:#2d1e3e;stroke-linecap:square;stroke-width:1.5;\"/>\n   </g>\n   <g id=\"line2d_13\">\n    <path clip-path=\"url(#p87365589ea)\" d=\"M 62.875327 316.872367 \nL 67.356 316.739385 \nL 69.916384 316.482999 \nL 71.836672 316.12081 \nL 73.75696 315.546623 \nL 75.677248 314.678703 \nL 76.95744 313.872029 \nL 78.237633 312.807593 \nL 79.517825 311.386311 \nL 80.798017 309.471217 \nL 82.078209 306.88529 \nL 83.358401 303.414552 \nL 84.638593 298.81623 \nL 85.918785 292.830751 \nL 87.198977 285.196121 \nL 88.479169 275.664483 \nL 89.759362 264.022814 \nL 91.039554 250.121854 \nL 92.319746 233.917361 \nL 94.240034 205.599695 \nL 96.800418 162.782559 \nL 99.360802 120.598202 \nL 100.640994 102.590014 \nL 101.921187 88.072087 \nL 102.561283 82.367685 \nL 103.201379 77.781844 \nL 103.841475 74.341865 \nL 104.481571 72.04718 \nL 105.121667 70.870629 \nL 105.761763 70.760968 \nL 106.401859 71.646362 \nL 107.041955 73.438602 \nL 107.682051 76.037721 \nL 108.322147 79.33674 \nL 109.602339 87.59875 \nL 111.522627 102.639859 \nL 117.283492 152.018519 \nL 124.324549 212.621181 \nL 125.604741 221.797605 \nL 126.884933 229.615603 \nL 128.165125 235.98289 \nL 129.445317 241.013325 \nL 130.725509 244.998127 \nL 132.645797 249.88604 \nL 135.206182 256.293982 \nL 137.12647 261.840544 \nL 140.967046 273.367463 \nL 142.247238 276.382338 \nL 143.52743 278.577231 \nL 144.167526 279.329309 \nL 144.807622 279.84811 \nL 145.447718 280.142918 \nL 146.087814 280.232088 \nL 146.727911 280.142328 \nL 148.008103 279.56721 \nL 150.568487 278.026838 \nL 151.208583 277.807995 \nL 151.848679 277.72575 \nL 152.488775 277.803515 \nL 153.128871 278.05641 \nL 153.768967 278.490918 \nL 154.409063 279.105021 \nL 155.689255 280.82522 \nL 156.969447 283.061314 \nL 161.45012 291.697555 \nL 162.730312 293.632219 \nL 164.010504 295.197244 \nL 165.290696 296.450633 \nL 170.411465 300.886469 \nL 171.691657 302.40376 \nL 173.611945 305.076919 \nL 177.452521 310.736618 \nL 178.732713 312.328827 \nL 180.012905 313.654755 \nL 181.293098 314.69707 \nL 182.57329 315.471103 \nL 183.853482 316.014404 \nL 185.77377 316.502116 \nL 187.694058 316.73579 \nL 190.254442 316.851476 \nL 190.254442 316.851476 \n\" style=\"fill:none;stroke:#ab6990;stroke-linecap:square;stroke-width:1.5;\"/>\n   </g>\n   <g id=\"line2d_14\">\n    <path clip-path=\"url(#p87365589ea)\" d=\"M 95.468267 316.879309 \nL 104.807095 316.749198 \nL 110.643862 316.428805 \nL 115.313276 315.936 \nL 119.982691 315.193585 \nL 124.652105 314.183649 \nL 129.321519 312.906581 \nL 133.990933 311.37926 \nL 137.492993 310.043121 \nL 140.995054 308.452504 \nL 143.329761 307.180969 \nL 145.664468 305.68127 \nL 147.999175 303.900828 \nL 150.333882 301.78956 \nL 152.668589 299.301806 \nL 155.003296 296.397108 \nL 157.338003 293.04172 \nL 159.67271 289.213426 \nL 162.007417 284.911318 \nL 164.342124 280.169276 \nL 167.844184 272.422339 \nL 174.848306 256.593017 \nL 177.183013 251.863309 \nL 179.51772 247.612865 \nL 181.852427 243.86828 \nL 184.187134 240.58831 \nL 186.521841 237.678432 \nL 190.023901 233.722475 \nL 194.693315 228.463774 \nL 197.028022 225.557336 \nL 199.362729 222.365919 \nL 202.86479 217.108053 \nL 206.36685 211.794615 \nL 208.701557 208.740386 \nL 209.868911 207.506753 \nL 211.036264 206.533671 \nL 212.203618 205.863469 \nL 213.370971 205.529746 \nL 214.538325 205.554788 \nL 215.705678 205.947705 \nL 216.873032 206.703502 \nL 218.040385 207.803218 \nL 219.207739 209.21517 \nL 220.375092 210.897206 \nL 222.709799 214.86967 \nL 227.379213 223.83499 \nL 232.048628 232.51608 \nL 236.718042 241.105116 \nL 239.052749 245.795205 \nL 241.387456 250.90326 \nL 244.889516 259.249033 \nL 249.55893 270.564581 \nL 251.893637 275.649587 \nL 254.228344 280.016356 \nL 256.563051 283.557222 \nL 258.897758 286.324033 \nL 261.232465 288.512462 \nL 268.236586 294.325874 \nL 270.571293 296.643462 \nL 274.073354 300.4982 \nL 277.575414 304.379987 \nL 279.910121 306.725993 \nL 282.244828 308.752843 \nL 284.579536 310.415266 \nL 286.914243 311.718014 \nL 289.24895 312.701614 \nL 291.583657 313.427125 \nL 295.085717 314.181137 \nL 299.755131 314.879784 \nL 310.261313 316.183751 \nL 314.930727 316.569061 \nL 320.767494 316.804576 \nL 327.771615 316.878775 \nL 327.771615 316.878775 \n\" style=\"fill:none;stroke:#e6bdbc;stroke-linecap:square;stroke-width:1.5;\"/>\n   </g>\n   <g id=\"line2d_15\">\n    <path clip-path=\"url(#p87365589ea)\" d=\"M 128.742908 316.761787 \nL 131.163216 316.51952 \nL 132.978447 316.127423 \nL 134.188601 315.698731 \nL 135.398755 315.079803 \nL 136.608908 314.212602 \nL 137.819062 313.032388 \nL 139.029216 311.470625 \nL 140.23937 309.458712 \nL 141.449524 306.932066 \nL 142.659678 303.834026 \nL 143.869832 300.119063 \nL 145.079986 295.754914 \nL 146.290139 290.723404 \nL 148.10537 281.917512 \nL 149.920601 271.627037 \nL 151.735832 259.888645 \nL 153.551063 246.678302 \nL 155.366293 231.819451 \nL 157.181524 214.916013 \nL 158.996755 195.385061 \nL 160.811986 172.657378 \nL 162.627217 146.54882 \nL 165.047524 107.746545 \nL 167.467832 68.880833 \nL 168.677986 51.787231 \nL 169.88814 37.713776 \nL 170.493217 32.136912 \nL 171.098294 27.686707 \nL 171.703371 24.458397 \nL 172.308448 22.527393 \nL 172.913525 21.946634 \nL 173.518602 22.744606 \nL 174.123678 24.924147 \nL 174.728755 28.462073 \nL 175.333832 33.309657 \nL 175.938909 39.39394 \nL 177.149063 54.872887 \nL 178.359217 73.926683 \nL 180.174448 106.64229 \nL 183.199833 162.418004 \nL 185.015063 191.620003 \nL 186.225217 208.262661 \nL 187.435371 222.509007 \nL 188.645525 234.466851 \nL 189.855679 244.371924 \nL 191.065833 252.522227 \nL 192.275987 259.223361 \nL 193.48614 264.751159 \nL 194.696294 269.333189 \nL 195.906448 273.146517 \nL 197.116602 276.326324 \nL 198.326756 278.979079 \nL 199.53691 281.194728 \nL 200.747064 283.054491 \nL 202.562294 285.33894 \nL 204.377525 287.207582 \nL 206.797833 289.322305 \nL 211.033372 292.60122 \nL 214.058756 295.05125 \nL 217.084141 297.811983 \nL 220.109526 300.581196 \nL 221.924756 302.00583 \nL 223.739987 303.168278 \nL 226.160295 304.413101 \nL 229.18568 305.991137 \nL 231.00091 307.204195 \nL 232.816141 308.660956 \nL 238.866911 313.787038 \nL 240.682141 314.889284 \nL 242.497372 315.688384 \nL 244.312603 316.218196 \nL 246.732911 316.613164 \nL 249.153219 316.789223 \nL 249.153219 316.789223 \n\" style=\"fill:none;stroke:#edd1cb;stroke-linecap:square;stroke-width:1.5;\"/>\n   </g>\n   <g id=\"patch_3\">\n    <path d=\"M 41.999682 316.888647 \nL 41.999682 7.2 \n\" style=\"fill:none;stroke:#000000;stroke-linecap:square;stroke-linejoin:miter;stroke-width:0.8;\"/>\n   </g>\n   <g id=\"patch_4\">\n    <path d=\"M 41.999682 316.888647 \nL 341.379803 316.888647 \n\" style=\"fill:none;stroke:#000000;stroke-linecap:square;stroke-linejoin:miter;stroke-width:0.8;\"/>\n   </g>\n  </g>\n  <g id=\"legend_1\">\n   <g id=\"text_14\">\n    <!-- Cost Weight -->\n    <g transform=\"translate(357.6 151.016303)scale(0.1 -0.1)\">\n     <defs>\n      <path d=\"M 5523 3764 \nC 5581 3936 5677 4160 6048 4160 \nL 6048 4326 \nC 5939 4326 5715 4326 5600 4326 \nC 5440 4326 5158 4326 5005 4332 \nL 5005 4160 \nC 5293 4160 5414 4000 5414 3847 \nC 5414 3802 5408 3777 5382 3707 \nL 4390 555 \nL 3347 3873 \nC 3328 3937 3322 3963 3322 3988 \nC 3322 4160 3603 4160 3725 4160 \nL 3725 4326 \nC 3539 4326 3219 4326 3021 4326 \nC 2861 4326 2573 4326 2426 4332 \nL 2426 4160 \nC 2720 4160 2797 4141 2861 4027 \nC 2886 3969 2989 3638 2989 3619 \nC 2989 3593 2976 3555 2970 3536 \nL 2029 561 \nL 986 3867 \nC 954 3957 954 3969 954 3982 \nC 954 4160 1235 4160 1363 4160 \nL 1363 4326 \nC 1178 4326 858 4326 659 4326 \nC 493 4326 211 4326 58 4332 \nL 58 4160 \nC 442 4160 467 4122 531 3918 \nL 1779 -20 \nC 1811 -115 1811 -128 1869 -128 \nC 1920 -128 1939 -115 1965 -26 \nL 3053 3433 \nL 4141 -26 \nC 4166 -115 4186 -128 4237 -128 \nC 4294 -128 4294 -115 4326 -20 \nL 5523 3764 \nz\n\" id=\"CMR17-57\" transform=\"scale(0.015625)\"/>\n      <path d=\"M 710 1164 \nC 832 1068 1043 960 1299 960 \nC 1805 960 2240 1357 2240 1888 \nC 2240 2054 2189 2310 1997 2509 \nC 2176 2692 2438 2752 2586 2752 \nC 2611 2752 2650 2752 2682 2734 \nC 2656 2728 2598 2703 2598 2605 \nC 2598 2527 2656 2471 2739 2471 \nC 2835 2471 2886 2533 2886 2614 \nC 2886 2731 2790 2854 2586 2854 \nC 2330 2854 2106 2738 1926 2580 \nC 1734 2753 1504 2816 1299 2816 \nC 794 2816 358 2419 358 1888 \nC 358 1522 570 1292 634 1228 \nC 442 1004 442 743 442 711 \nC 442 545 506 302 723 168 \nC 390 85 128 -169 128 -486 \nC 128 -943 736 -1280 1466 -1280 \nC 2170 -1280 2803 -956 2803 -479 \nC 2803 384 1856 384 1363 384 \nC 1216 384 954 384 922 391 \nC 723 423 589 602 589 826 \nC 589 883 589 1024 710 1164 \nz\nM 1299 1068 \nC 736 1068 736 1760 736 1889 \nC 736 2016 736 2708 1299 2708 \nC 1862 2708 1862 2016 1862 1889 \nC 1862 1760 1862 1068 1299 1068 \nz\nM 1466 -1171 \nC 826 -1171 384 -835 384 -486 \nC 384 -289 493 -105 634 -4 \nC 794 104 858 104 1293 104 \nC 1818 104 2547 104 2547 -486 \nC 2547 -835 2106 -1171 1466 -1171 \nz\n\" id=\"CMR17-67\" transform=\"scale(0.015625)\"/>\n      <path d=\"M 2656 1933 \nC 2656 2259 2592 2790 1837 2790 \nC 1312 2790 1056 2368 979 2157 \nL 973 2157 \nL 973 4396 \nL 211 4326 \nL 211 4160 \nC 589 4160 646 4122 646 3817 \nL 646 426 \nC 646 184 621 153 211 153 \nL 211 -13 \nC 365 0 646 0 813 0 \nC 979 0 1267 0 1421 -13 \nL 1421 153 \nC 1011 153 986 178 986 428 \nL 986 1658 \nC 986 2247 1344 2688 1792 2688 \nC 2266 2688 2317 2266 2317 1958 \nL 2317 428 \nC 2317 184 2291 153 1882 153 \nL 1882 -13 \nC 2035 0 2317 0 2483 0 \nC 2650 0 2938 0 3091 -13 \nL 3091 153 \nC 2682 153 2656 178 2656 428 \nL 2656 1933 \nz\n\" id=\"CMR17-68\" transform=\"scale(0.015625)\"/>\n     </defs>\n     <use transform=\"scale(0.996264)\" xlink:href=\"#CMR17-43\"/>\n     <use transform=\"translate(66.509881 0)scale(0.996264)\" xlink:href=\"#CMR17-6f\"/>\n     <use transform=\"translate(112.200358 0)scale(0.996264)\" xlink:href=\"#CMR17-73\"/>\n     <use transform=\"translate(148.001695 0)scale(0.996264)\" xlink:href=\"#CMR17-74\"/>\n     <use transform=\"translate(213.358429 0)scale(0.996264)\" xlink:href=\"#CMR17-57\"/>\n     <use transform=\"translate(300.647824 0)scale(0.996264)\" xlink:href=\"#CMR17-65\"/>\n     <use transform=\"translate(341.133484 0)scale(0.996264)\" xlink:href=\"#CMR17-69\"/>\n     <use transform=\"translate(366.004543 0)scale(0.996264)\" xlink:href=\"#CMR17-67\"/>\n     <use transform=\"translate(411.69502 0)scale(0.996264)\" xlink:href=\"#CMR17-68\"/>\n     <use transform=\"translate(459.987936 0)scale(0.996264)\" xlink:href=\"#CMR17-74\"/>\n    </g>\n   </g>\n   <g id=\"line2d_16\">\n    <path d=\"M 359.263491 161.453482 \nL 379.263491 161.453482 \n\" style=\"fill:none;stroke:#edd1cb;stroke-linecap:square;stroke-width:1.5;\"/>\n   </g>\n   <g id=\"line2d_17\"/>\n   <g id=\"text_15\">\n    <!-- 0.001 -->\n    <g transform=\"translate(387.263491 164.953482)scale(0.1 -0.1)\">\n     <defs>\n      <path d=\"M 1062 261 \nC 1062 420 934 522 800 522 \nC 672 522 538 420 538 261 \nC 538 102 666 0 800 0 \nC 928 0 1062 102 1062 261 \nz\n\" id=\"CMR17-2e\" transform=\"scale(0.015625)\"/>\n     </defs>\n     <use transform=\"scale(0.996264)\" xlink:href=\"#CMR17-30\"/>\n     <use transform=\"translate(45.690477 0)scale(0.996264)\" xlink:href=\"#CMR17-2e\"/>\n     <use transform=\"translate(70.561536 0)scale(0.996264)\" xlink:href=\"#CMR17-30\"/>\n     <use transform=\"translate(116.252013 0)scale(0.996264)\" xlink:href=\"#CMR17-30\"/>\n     <use transform=\"translate(161.94249 0)scale(0.996264)\" xlink:href=\"#CMR17-31\"/>\n    </g>\n   </g>\n   <g id=\"line2d_18\">\n    <path d=\"M 359.263491 175.39066 \nL 379.263491 175.39066 \n\" style=\"fill:none;stroke:#e6bdbc;stroke-linecap:square;stroke-width:1.5;\"/>\n   </g>\n   <g id=\"line2d_19\"/>\n   <g id=\"text_16\">\n    <!-- 0.01 -->\n    <g transform=\"translate(387.263491 178.89066)scale(0.1 -0.1)\">\n     <use transform=\"scale(0.996264)\" xlink:href=\"#CMR17-30\"/>\n     <use transform=\"translate(45.690477 0)scale(0.996264)\" xlink:href=\"#CMR17-2e\"/>\n     <use transform=\"translate(70.561536 0)scale(0.996264)\" xlink:href=\"#CMR17-30\"/>\n     <use transform=\"translate(116.252013 0)scale(0.996264)\" xlink:href=\"#CMR17-31\"/>\n    </g>\n   </g>\n   <g id=\"line2d_20\">\n    <path d=\"M 359.263491 189.327838 \nL 379.263491 189.327838 \n\" style=\"fill:none;stroke:#ab6990;stroke-linecap:square;stroke-width:1.5;\"/>\n   </g>\n   <g id=\"line2d_21\"/>\n   <g id=\"text_17\">\n    <!-- 0.05 -->\n    <g transform=\"translate(387.263491 192.827838)scale(0.1 -0.1)\">\n     <defs>\n      <path d=\"M 730 3692 \nC 794 3666 1056 3584 1325 3584 \nC 1920 3584 2246 3911 2432 4100 \nC 2432 4157 2432 4192 2394 4192 \nC 2387 4192 2374 4192 2323 4163 \nC 2099 4058 1837 3973 1517 3973 \nC 1325 3973 1037 3999 723 4139 \nC 653 4171 640 4171 634 4171 \nC 602 4171 595 4164 595 4037 \nL 595 2203 \nC 595 2089 595 2057 659 2057 \nC 691 2057 704 2070 736 2114 \nC 941 2401 1222 2522 1542 2522 \nC 1766 2522 2246 2382 2246 1289 \nC 2246 1085 2246 715 2054 421 \nC 1894 159 1645 25 1370 25 \nC 947 25 518 320 403 814 \nC 429 807 480 795 506 795 \nC 589 795 749 840 749 1038 \nC 749 1210 627 1280 506 1280 \nC 358 1280 262 1190 262 1011 \nC 262 454 704 -128 1382 -128 \nC 2042 -128 2669 440 2669 1264 \nC 2669 2030 2170 2624 1549 2624 \nC 1222 2624 947 2503 730 2274 \nL 730 3692 \nz\n\" id=\"CMR17-35\" transform=\"scale(0.015625)\"/>\n     </defs>\n     <use transform=\"scale(0.996264)\" xlink:href=\"#CMR17-30\"/>\n     <use transform=\"translate(45.690477 0)scale(0.996264)\" xlink:href=\"#CMR17-2e\"/>\n     <use transform=\"translate(70.561536 0)scale(0.996264)\" xlink:href=\"#CMR17-30\"/>\n     <use transform=\"translate(116.252013 0)scale(0.996264)\" xlink:href=\"#CMR17-35\"/>\n    </g>\n   </g>\n   <g id=\"line2d_22\">\n    <path d=\"M 359.263491 203.265017 \nL 379.263491 203.265017 \n\" style=\"fill:none;stroke:#2d1e3e;stroke-linecap:square;stroke-width:1.5;\"/>\n   </g>\n   <g id=\"line2d_23\"/>\n   <g id=\"text_18\">\n    <!-- 0.1 -->\n    <g transform=\"translate(387.263491 206.765017)scale(0.1 -0.1)\">\n     <use transform=\"scale(0.996264)\" xlink:href=\"#CMR17-30\"/>\n     <use transform=\"translate(45.690477 0)scale(0.996264)\" xlink:href=\"#CMR17-2e\"/>\n     <use transform=\"translate(70.561536 0)scale(0.996264)\" xlink:href=\"#CMR17-31\"/>\n    </g>\n   </g>\n  </g>\n </g>\n <defs>\n  <clipPath id=\"p87365589ea\">\n   <rect height=\"309.688647\" width=\"299.38012\" x=\"41.999682\" y=\"7.2\"/>\n  </clipPath>\n </defs>\n</svg>\n",
      "image/png": "[encoded data removed]"
     },
     "metadata": {
      "needs_background": "light"
     }
    }
   ],
   "metadata": {}
  }
 ],
 "metadata": {
  "interpreter": {
   "hash": "e5fbda20988e957388c9a3a00dcb9ed41bc70017dbd51a8f0ab69eb07c4807c3"
  },
  "kernelspec": {
   "display_name": "Python 3",
   "language": "python",
   "name": "python3"
  },
  "language_info": {
   "codemirror_mode": {
    "name": "ipython",
    "version": 3
   },
   "file_extension": ".py",
   "mimetype": "text/x-python",
   "name": "python",
   "nbconvert_exporter": "python",
   "pygments_lexer": "ipython3",
   "version": "3.9.5"
  }
 },
 "nbformat": 4,
 "nbformat_minor": 1
}