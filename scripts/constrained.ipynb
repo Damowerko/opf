{
 "cells": [
  {
   "cell_type": "code",
   "execution_count": 26,
   "metadata": {
    "tags": []
   },
   "outputs": [
    {
     "name": "stdout",
     "output_type": "stream",
     "text": [
      "The autoreload extension is already loaded. To reload it, use:\n",
      "  %reload_ext autoreload\n"
     ]
    }
   ],
   "source": [
    "%load_ext autoreload\n",
    "%autoreload 1"
   ]
  },
  {
   "cell_type": "code",
   "execution_count": 27,
   "metadata": {
    "collapsed": false,
    "jupyter": {
     "outputs_hidden": false
    },
    "pycharm": {
     "name": "#%%\n"
    }
   },
   "outputs": [],
   "source": [
    "import numpy as np\n",
    "import comet_ml\n",
    "import pytorch_lightning as pl\n",
    "import torch\n",
    "from pytorch_lightning.loggers import CometLogger\n",
    "\n",
    "from opf.dataset import CaseDataModule\n",
    "from opf.modules import OPFLogBarrier, GNN\n",
    "from opf.utils import graph_info\n",
    "%aimport opf"
   ]
  },
  {
   "cell_type": "code",
   "execution_count": 28,
   "metadata": {
    "collapsed": false,
    "jupyter": {
     "outputs_hidden": false
    },
    "pycharm": {
     "name": "#%%\n"
    }
   },
   "outputs": [],
   "source": [
    "# constants\n",
    "data_dir = \"../data\"\n",
    "\n",
    "# parameters that should be saved for logging\n",
    "param = dict(\n",
    "    case_name=\"case30\",\n",
    "    A_scaling=300,\n",
    "    A_threshold=0.01,\n",
    "    model=\"selection\",\n",
    "    batch_size=128,\n",
    "    num_workers=8,\n",
    "    pin_memory=True\n",
    ")\n",
    "dm = CaseDataModule(\n",
    "    param[\"case_name\"],\n",
    "    data_dir=data_dir,\n",
    "    batch_size=param[\"batch_size\"],\n",
    "    ratio_train=0.8\n",
    ")"
   ]
  },
  {
   "cell_type": "code",
   "execution_count": 29,
   "metadata": {
    "collapsed": false,
    "jupyter": {
     "outputs_hidden": false
    },
    "pycharm": {
     "name": "#%% Load Dataset\n"
    }
   },
   "outputs": [
    {
     "name": "stdout",
     "output_type": "stream",
     "text": [
      "Non-zero edges: 82\n",
      "Connected components: 1\n"
     ]
    },
    {
     "data": {
      "text/plain": "<Figure size 432x288 with 2 Axes>",
      "image/png": "[encoded data removed]"
     },
     "metadata": {
      "needs_background": "light"
     },
     "output_type": "display_data"
    },
    {
     "data": {
      "text/plain": "<Figure size 432x288 with 1 Axes>",
      "image/png": "[encoded data removed]"
     },
     "metadata": {
      "needs_background": "light"
     },
     "output_type": "display_data"
    },
    {
     "name": "stdout",
     "output_type": "stream",
     "text": [
      "Non-zero edges: 82\n",
      "Connected components: 1\n"
     ]
    }
   ],
   "source": [
    "# Choose scaling factor so that the mean weight is 0.5\n",
    "param[\"A_scaling\"] = 2 * np.exp(-1) / np.mean(dm.net_wrapper.impedence_matrix().data)\n",
    "adjacency = dm.adjacency(param[\"A_scaling\"], param[\"A_threshold\"])\n",
    "graph_info(adjacency, plot=True)\n",
    "# Normalize GSO by dividing by larget eigenvalue\n",
    "gso = adjacency / np.max(np.real(np.linalg.eigh(adjacency)[0]))\n",
    "\n",
    "adjacency = dm.adjacency(param[\"A_scaling\"], param[\"A_threshold\"])\n",
    "graph_info(adjacency)\n",
    "# Normalize GSO by dividing by larget eigenvalue\n",
    "gso = adjacency / np.max(np.real(np.linalg.eigh(adjacency)[0]))\n"
   ]
  },
  {
   "cell_type": "code",
   "execution_count": 30,
   "metadata": {},
   "outputs": [],
   "source": [
    "gnn = GNN(\n",
    "    gso,\n",
    "    [2, 64],\n",
    "    [4],\n",
    "    [4 * dm.size(1)]\n",
    ").float()\n",
    "\n",
    "barrier = OPFLogBarrier(\n",
    "    dm.net_wrapper,\n",
    "    gnn,\n",
    "    t=200,\n",
    "    s=100,\n",
    "    cost_weight=1.0,\n",
    "    type=\"relaxed_log\",\n",
    ").float()"
   ]
  },
  {
   "cell_type": "code",
   "execution_count": 35,
   "metadata": {},
   "outputs": [
    {
     "name": "stderr",
     "output_type": "stream",
     "text": [
      "CometLogger will be initialized in online mode\n",
      "COMET WARNING: As you are running in a Jupyter environment, you will need to call `experiment.end()` when finished to ensure all metrics and code are logged before exiting.\n",
      "COMET INFO: Experiment is live on comet.ml https://www.comet.ml/damowerko/opf/3341e6d575454ae88f8b5fbd305c141d\n",
      "\n",
      "GPU available: True, used: True\n",
      "TPU available: False, using: 0 TPU cores\n",
      "LOCAL_RANK: 0 - CUDA_VISIBLE_DEVICES: [0]\n",
      "\n",
      "  | Name  | Type | Params\n",
      "-------------------------------\n",
      "0 | model | GNN  | 231 K \n",
      "-------------------------------\n",
      "231 K     Trainable params\n",
      "0         Non-trainable params\n",
      "231 K     Total params\n",
      "0.924     Total estimated model params size (MB)\n"
     ]
    },
    {
     "data": {
      "text/plain": "Validation sanity check: 0it [00:00, ?it/s]",
      "application/vnd.jupyter.widget-view+json": {
       "version_major": 2,
       "version_minor": 0,
       "model_id": "270e7dddd3914828a1f0f147d396387e"
      }
     },
     "metadata": {},
     "output_type": "display_data"
    },
    {
     "data": {
      "text/plain": "Training: 0it [00:00, ?it/s]",
      "application/vnd.jupyter.widget-view+json": {
       "version_major": 2,
       "version_minor": 0,
       "model_id": "868511e329b44a7bb1575621a646bd46"
      }
     },
     "metadata": {},
     "output_type": "display_data"
    },
    {
     "data": {
      "text/plain": "Validating: 0it [00:00, ?it/s]",
      "application/vnd.jupyter.widget-view+json": {
       "version_major": 2,
       "version_minor": 0,
       "model_id": "4c5b338c60744510bef29fe8a4ebda55"
      }
     },
     "metadata": {},
     "output_type": "display_data"
    },
    {
     "data": {
      "text/plain": "Validating: 0it [00:00, ?it/s]",
      "application/vnd.jupyter.widget-view+json": {
       "version_major": 2,
       "version_minor": 0,
       "model_id": "4229b25c7c7845ecbe8787305ab713f1"
      }
     },
     "metadata": {},
     "output_type": "display_data"
    },
    {
     "data": {
      "text/plain": "Validating: 0it [00:00, ?it/s]",
      "application/vnd.jupyter.widget-view+json": {
       "version_major": 2,
       "version_minor": 0,
       "model_id": "0e51161a3cde414fb09ce61d0a4d5544"
      }
     },
     "metadata": {},
     "output_type": "display_data"
    },
    {
     "data": {
      "text/plain": "Validating: 0it [00:00, ?it/s]",
      "application/vnd.jupyter.widget-view+json": {
       "version_major": 2,
       "version_minor": 0,
       "model_id": "0063fd5da00b478c8978562a49ccc9b2"
      }
     },
     "metadata": {},
     "output_type": "display_data"
    },
    {
     "data": {
      "text/plain": "Validating: 0it [00:00, ?it/s]",
      "application/vnd.jupyter.widget-view+json": {
       "version_major": 2,
       "version_minor": 0,
       "model_id": "665c1ecbad774fce9c554d5781dd594a"
      }
     },
     "metadata": {},
     "output_type": "display_data"
    },
    {
     "data": {
      "text/plain": "Validating: 0it [00:00, ?it/s]",
      "application/vnd.jupyter.widget-view+json": {
       "version_major": 2,
       "version_minor": 0,
       "model_id": "983bd871b66a4502b1d7369a3ac4d519"
      }
     },
     "metadata": {},
     "output_type": "display_data"
    },
    {
     "data": {
      "text/plain": "Validating: 0it [00:00, ?it/s]",
      "application/vnd.jupyter.widget-view+json": {
       "version_major": 2,
       "version_minor": 0,
       "model_id": "3f803e48c36a4c3a9df6edb744b33305"
      }
     },
     "metadata": {},
     "output_type": "display_data"
    },
    {
     "data": {
      "text/plain": "Validating: 0it [00:00, ?it/s]",
      "application/vnd.jupyter.widget-view+json": {
       "version_major": 2,
       "version_minor": 0,
       "model_id": "18bf03a80c5e4a3b87c1e4fc67aa9a76"
      }
     },
     "metadata": {},
     "output_type": "display_data"
    },
    {
     "data": {
      "text/plain": "Validating: 0it [00:00, ?it/s]",
      "application/vnd.jupyter.widget-view+json": {
       "version_major": 2,
       "version_minor": 0,
       "model_id": "4e487395dae34b67a748b966a74d42a5"
      }
     },
     "metadata": {},
     "output_type": "display_data"
    },
    {
     "data": {
      "text/plain": "Validating: 0it [00:00, ?it/s]",
      "application/vnd.jupyter.widget-view+json": {
       "version_major": 2,
       "version_minor": 0,
       "model_id": "6e7774aa154a4889ac824838918a439a"
      }
     },
     "metadata": {},
     "output_type": "display_data"
    },
    {
     "data": {
      "text/plain": "Validating: 0it [00:00, ?it/s]",
      "application/vnd.jupyter.widget-view+json": {
       "version_major": 2,
       "version_minor": 0,
       "model_id": "28b30ccc945b4fccb6b73f5c83292612"
      }
     },
     "metadata": {},
     "output_type": "display_data"
    },
    {
     "data": {
      "text/plain": "Validating: 0it [00:00, ?it/s]",
      "application/vnd.jupyter.widget-view+json": {
       "version_major": 2,
       "version_minor": 0,
       "model_id": "9de8829b92a7432986f419d73f0ec371"
      }
     },
     "metadata": {},
     "output_type": "display_data"
    },
    {
     "name": "stderr",
     "output_type": "stream",
     "text": [
      "C:\\Users\\damow\\.virtualenvs\\opf-1S7-sVgk-py3.8\\lib\\site-packages\\pytorch_lightning\\utilities\\distributed.py:69: UserWarning: Detected KeyboardInterrupt, attempting graceful shutdown...\n",
      "  warnings.warn(*args, **kwargs)\n",
      "LOCAL_RANK: 0 - CUDA_VISIBLE_DEVICES: [0]\n",
      "COMET WARNING: Set model graph ignored; already called. Call with overwrite=True to replace graph definition\n"
     ]
    },
    {
     "data": {
      "text/plain": "Testing: 0it [00:00, ?it/s]",
      "application/vnd.jupyter.widget-view+json": {
       "version_major": 2,
       "version_minor": 0,
       "model_id": "4d1ab660c7eb4402a201c63cd3bdd531"
      }
     },
     "metadata": {},
     "output_type": "display_data"
    },
    {
     "name": "stderr",
     "output_type": "stream",
     "text": [
      "COMET ERROR: Error sending a notification, make sure you have opted-in for notifications\n"
     ]
    },
    {
     "name": "stdout",
     "output_type": "stream",
     "text": [
      "--------------------------------------------------------------------------------\n",
      "DATALOADER:0 TEST RESULTS\n",
      "{'test_cost': -1.7786635160446167,\n",
      " 'test_equality_loss': 93.1901626586914,\n",
      " 'test_equality_powerflow_loss': 69.49614715576172,\n",
      " 'test_equality_reactive_power_loss': 8.086933135986328,\n",
      " 'test_equality_real_power_loss': 12.030430793762207,\n",
      " 'test_equality_reference_loss': 2.734255313873291,\n",
      " 'test_equality_voltage_angle_difference_loss': nan,\n",
      " 'test_equality_voltage_magnitude_loss': 0.8423852920532227,\n",
      " 'test_inequality_backward_rate_max_loss': 1.606850266456604,\n",
      " 'test_inequality_backward_rate_max_violated_rate': 0.0008630885276943445,\n",
      " 'test_inequality_backward_rate_max_violated_rms': 0.01622183434665203,\n",
      " 'test_inequality_forward_rate_max_loss': -0.017574140802025795,\n",
      " 'test_inequality_forward_rate_max_violated_rate': 0.0,\n",
      " 'test_inequality_forward_rate_max_violated_rms': 0.0,\n",
      " 'test_inequality_loss': 123.63619995117188,\n",
      " 'test_inequality_reactive_power_max_loss': -0.0205323938280344,\n",
      " 'test_inequality_reactive_power_max_violated_rate': 0.0,\n",
      " 'test_inequality_reactive_power_max_violated_rms': 0.0,\n",
      " 'test_inequality_reactive_power_min_loss': -0.012888742610812187,\n",
      " 'test_inequality_reactive_power_min_violated_rate': 0.0,\n",
      " 'test_inequality_reactive_power_min_violated_rms': 0.0,\n",
      " 'test_inequality_real_power_max_loss': -0.019495373591780663,\n",
      " 'test_inequality_real_power_max_violated_rate': 0.0,\n",
      " 'test_inequality_real_power_max_violated_rms': 0.0,\n",
      " 'test_inequality_real_power_min_loss': -0.0005045051220804453,\n",
      " 'test_inequality_real_power_min_violated_rate': 0.0,\n",
      " 'test_inequality_real_power_min_violated_rms': 0.0,\n",
      " 'test_inequality_violated_rate': 0.13812044262886047,\n",
      " 'test_inequality_violated_rms': 3.6646835803985596,\n",
      " 'test_inequality_voltage_angle_difference_max_loss': 0.0006055960548110306,\n",
      " 'test_inequality_voltage_angle_difference_max_violated_rate': 0.005342944525182247,\n",
      " 'test_inequality_voltage_angle_difference_max_violated_rms': 0.8440172672271729,\n",
      " 'test_inequality_voltage_angle_difference_min_loss': -0.000789653800893575,\n",
      " 'test_inequality_voltage_angle_difference_min_violated_rate': 0.005587592720985413,\n",
      " 'test_inequality_voltage_angle_difference_min_violated_rms': 1.0752428770065308,\n",
      " 'test_inequality_voltage_magnitude_max_loss': 8.647397044114769e-05,\n",
      " 'test_inequality_voltage_magnitude_max_violated_rate': 0.0,\n",
      " 'test_inequality_voltage_magnitude_max_violated_rms': 0.0,\n",
      " 'test_inequality_voltage_magnitude_min_loss': 122.10043334960938,\n",
      " 'test_inequality_voltage_magnitude_min_violated_rate': 0.12632682919502258,\n",
      " 'test_inequality_voltage_magnitude_min_violated_rms': 1.7292017936706543}\n",
      "--------------------------------------------------------------------------------\n"
     ]
    },
    {
     "name": "stderr",
     "output_type": "stream",
     "text": [
      "COMET INFO: Uploading 1 metrics, params and output messages\n"
     ]
    }
   ],
   "source": [
    "logger = CometLogger(workspace=\"damowerko\", project_name=\"opf\", save_dir=\"../logs\", display_summary_level=0)\n",
    "logger.log_hyperparams(param)\n",
    "logger.experiment.log_code(folder=\"../src\")\n",
    "logger.experiment.log_code(folder=\"../scripts\")\n",
    "\n",
    "trainer = pl.Trainer(logger=logger,\n",
    "                     progress_bar_refresh_rate=1,\n",
    "                     gpus=1,\n",
    "                     max_epochs=1000)\n",
    "trainer.fit(barrier, dm)\n",
    "trainer.test(datamodule=dm)\n",
    "trainer.save_checkpoint(\"latest.ckpt\")\n",
    "logger.experiment.end()"
   ]
  },
  {
   "cell_type": "code",
   "execution_count": 16,
   "outputs": [
    {
     "data": {
      "text/plain": "<All keys matched successfully>"
     },
     "execution_count": 16,
     "metadata": {},
     "output_type": "execute_result"
    }
   ],
   "source": [
    "# Load model\n",
    "checkpoint = torch.load(\"latest.ckpt\", map_location=lambda storage, loc: storage)\n",
    "barrier.load_state_dict(checkpoint[\"state_dict\"])"
   ],
   "metadata": {
    "collapsed": false,
    "pycharm": {
     "name": "#%%\n"
    }
   }
  },
  {
   "cell_type": "code",
   "execution_count": 19,
   "outputs": [],
   "source": [
    "barrier.to(\"cpu\")\n",
    "\n",
    "dm.setup(\"test\")\n",
    "data = list(dm.test_dataloader())\n",
    "load, gen = data[0]\n",
    "\n",
    "with torch.no_grad():\n",
    "    bus, load = barrier(load)\n",
    "    V, S, Sg, Sd = barrier.bus(bus, load)\n",
    "    If, It, Sf, St, Sbus = barrier.power_flow(V)"
   ],
   "metadata": {
    "collapsed": false,
    "pycharm": {
     "name": "#%%\n"
    }
   }
  },
  {
   "cell_type": "code",
   "execution_count": 28,
   "outputs": [
    {
     "data": {
      "text/plain": "<Figure size 432x288 with 1 Axes>",
      "image/png": "[encoded data removed]"
     },
     "metadata": {
      "needs_background": "light"
     },
     "output_type": "display_data"
    }
   ],
   "source": [
    "from IPython.display import JSON\n",
    "import matplotlib.pyplot as plt\n",
    "\n",
    "#display(JSON(barrier.pm))\n",
    "diff = V.angle() + V.conj().angle().transpose(-1,-2)\n",
    "mult = (V @ V.conj().transpose(-1, -2)).angle()\n",
    "\n",
    "plt.figure()\n",
    "plt.plot(diff.numpy().flat)\n",
    "plt.plot(mult.numpy().flat)\n",
    "plt.show()\n",
    "# plt.figure()\n",
    "# value = V.matmul(V.conj().transpose(-1,-2))\n",
    "# ub = barrier.vad_max\n",
    "# lb = barrier.vad_min\n",
    "# mask = ~ub.isinf() & ~lb.isinf()\n",
    "#\n",
    "# plt.plot(value.squeeze()[mask].detach().numpy().flat)\n",
    "# plt.plot(ub[mask].squeeze().detach().numpy().flat)\n",
    "# plt.plot(lb[mask].squeeze().detach().numpy().flat)\n",
    "# plt.legend([\"value\", \"max\", \"min\"])\n",
    "# plt.show()"
   ],
   "metadata": {
    "collapsed": false,
    "pycharm": {
     "name": "#%%\n"
    }
   }
  },
  {
   "cell_type": "code",
   "execution_count": null,
   "outputs": [],
   "source": [],
   "metadata": {
    "collapsed": false,
    "pycharm": {
     "name": "#%%\n"
    }
   }
  }
 ],
 "metadata": {
  "kernelspec": {
   "name": "opf",
   "language": "python",
   "display_name": "opf"
  },
  "language_info": {
   "file_extension": ".py",
   "mimetype": "text/x-python",
   "name": "python",
   "version": "3.8.5"
  }
 },
 "nbformat": 4,
 "nbformat_minor": 4
}