{
 "cells": [
  {
   "cell_type": "code",
   "execution_count": 2,
   "metadata": {
    "tags": []
   },
   "outputs": [],
   "source": [
    "%load_ext autoreload\n",
    "%autoreload 1"
   ]
  },
  {
   "cell_type": "code",
   "execution_count": 4,
   "metadata": {
    "jupyter": {
     "outputs_hidden": false
    },
    "pycharm": {
     "name": "#%%\n"
    }
   },
   "outputs": [],
   "source": [
    "import numpy as np\n",
    "import pytorch_lightning as pl\n",
    "import torch\n",
    "from pytorch_lightning.loggers import WandbLogger\n",
    "\n",
    "from opf.dataset import CaseDataModule\n",
    "from opf.modules import OPFLogBarrier, GNN\n",
    "from opf.utils import graph_info\n",
    "%aimport opf\n",
    "%aimport opf.modules"
   ]
  },
  {
   "cell_type": "code",
   "execution_count": 5,
   "metadata": {
    "jupyter": {
     "outputs_hidden": false
    },
    "pycharm": {
     "name": "#%%\n"
    }
   },
   "outputs": [],
   "source": [
    "# constants\n",
    "data_dir = \"../data\"\n",
    "\n",
    "# parameters that should be saved for logging\n",
    "param = dict(\n",
    "    case_name=\"case30\",\n",
    "    A_scaling=300,\n",
    "    A_threshold=0.01,\n",
    "    model=\"selection\",\n",
    "    batch_size=512,\n",
    "    num_workers=16,\n",
    "    pin_memory=True\n",
    ")\n",
    "dm = CaseDataModule(\n",
    "    param[\"case_name\"],\n",
    "    data_dir=data_dir,\n",
    "    batch_size=param[\"batch_size\"],\n",
    "    ratio_train=0.8\n",
    ")"
   ]
  },
  {
   "cell_type": "code",
   "execution_count": 6,
   "metadata": {
    "jupyter": {
     "outputs_hidden": false
    },
    "pycharm": {
     "name": "#%% Load Dataset\n"
    }
   },
   "outputs": [
    {
     "name": "stdout",
     "output_type": "stream",
     "text": [
      "Non-zero edges: 82\n",
      "Connected components: 1\n"
     ]
    },
    {
     "data": {
      "text/plain": "<Figure size 432x288 with 2 Axes>",
      "image/png": "[encoded data removed]"
     },
     "metadata": {
      "needs_background": "light"
     },
     "output_type": "display_data"
    },
    {
     "data": {
      "text/plain": "<Figure size 432x288 with 1 Axes>",
      "image/png": "[encoded data removed]"
     },
     "metadata": {
      "needs_background": "light"
     },
     "output_type": "display_data"
    },
    {
     "name": "stdout",
     "output_type": "stream",
     "text": [
      "Non-zero edges: 82\n",
      "Connected components: 1\n"
     ]
    }
   ],
   "source": [
    "# Choose scaling factor so that the mean weight is 0.5\n",
    "param[\"A_scaling\"] = 2 * np.exp(-1) / np.mean(dm.net_wrapper.impedence_matrix().data)\n",
    "adjacency = dm.adjacency(param[\"A_scaling\"], param[\"A_threshold\"])\n",
    "graph_info(adjacency, plot=True)\n",
    "# Normalize GSO by dividing by larget eigenvalue\n",
    "gso = adjacency / np.max(np.real(np.linalg.eigh(adjacency)[0]))\n",
    "\n",
    "adjacency = dm.adjacency(param[\"A_scaling\"], param[\"A_threshold\"])\n",
    "graph_info(adjacency)\n",
    "# Normalize GSO by dividing by larget eigenvalue\n",
    "gso = adjacency / np.max(np.real(np.linalg.eigh(adjacency)[0]))\n"
   ]
  },
  {
   "cell_type": "code",
   "execution_count": 10,
   "metadata": {},
   "outputs": [],
   "source": [
    "gnn = GNN(\n",
    "    gso,\n",
    "    [8, 64, 64, 4],\n",
    "    [4, 4, 4],\n",
    "    [4 * dm.net_wrapper.n_buses]\n",
    ").float()\n",
    "\n",
    "barrier = OPFLogBarrier(\n",
    "    dm.net_wrapper,\n",
    "    gnn,\n",
    "    t=20,\n",
    "    s=10,\n",
    "    cost_weight=1.0,\n",
    "    type=\"relaxed_log\",\n",
    "    lr=3e-4,\n",
    "    constraint_features=True\n",
    ").float()"
   ]
  },
  {
   "cell_type": "code",
   "execution_count": 11,
   "metadata": {},
   "outputs": [
    {
     "name": "stderr",
     "output_type": "stream",
     "text": [
      "GPU available: True, used: True\n",
      "TPU available: False, using: 0 TPU cores\n",
      "LOCAL_RANK: 0 - CUDA_VISIBLE_DEVICES: [0]\n",
      "\n",
      "  | Name  | Type | Params\n",
      "-------------------------------\n",
      "0 | model | GNN  | 34.1 K\n",
      "-------------------------------\n",
      "34.1 K    Trainable params\n",
      "0         Non-trainable params\n",
      "34.1 K    Total params\n",
      "0.136     Total estimated model params size (MB)\n"
     ]
    },
    {
     "data": {
      "text/plain": "Finding best initial lr:   0%|          | 0/100 [00:00<?, ?it/s]",
      "application/vnd.jupyter.widget-view+json": {
       "version_major": 2,
       "version_minor": 0,
       "model_id": "8e6ff971e0534b018f550bd6a5bef598"
      }
     },
     "metadata": {},
     "output_type": "display_data"
    },
    {
     "name": "stderr",
     "output_type": "stream",
     "text": [
      "Restored states from the checkpoint file at C:\\Users\\damow\\OneDrive\\Documents\\_Research\\OPF\\scripts\\lr_find_temp_model.ckpt\n",
      "Learning rate set to 0.00012022644346174131\n",
      "LOCAL_RANK: 0 - CUDA_VISIBLE_DEVICES: [0]\n",
      "\n",
      "  | Name  | Type | Params\n",
      "-------------------------------\n",
      "0 | model | GNN  | 34.1 K\n",
      "-------------------------------\n",
      "34.1 K    Trainable params\n",
      "0         Non-trainable params\n",
      "34.1 K    Total params\n",
      "0.136     Total estimated model params size (MB)\n"
     ]
    },
    {
     "data": {
      "text/plain": "Validation sanity check: 0it [00:00, ?it/s]",
      "application/vnd.jupyter.widget-view+json": {
       "version_major": 2,
       "version_minor": 0,
       "model_id": "e919dbc090a246f8bbb760f2f0cd2f0d"
      }
     },
     "metadata": {},
     "output_type": "display_data"
    },
    {
     "data": {
      "text/plain": "Training: 99it [00:00, ?it/s]",
      "application/vnd.jupyter.widget-view+json": {
       "version_major": 2,
       "version_minor": 0,
       "model_id": "368a5f8bb81748d79ba63e07eb8098f5"
      }
     },
     "metadata": {},
     "output_type": "display_data"
    },
    {
     "data": {
      "text/plain": "Validating: 0it [00:00, ?it/s]",
      "application/vnd.jupyter.widget-view+json": {
       "version_major": 2,
       "version_minor": 0,
       "model_id": "28cd8df91c854efea6c8464927f59313"
      }
     },
     "metadata": {},
     "output_type": "display_data"
    },
    {
     "data": {
      "text/plain": "Validating: 0it [00:00, ?it/s]",
      "application/vnd.jupyter.widget-view+json": {
       "version_major": 2,
       "version_minor": 0,
       "model_id": "44ebcc5d798c464a8923538295dbd0a8"
      }
     },
     "metadata": {},
     "output_type": "display_data"
    },
    {
     "data": {
      "text/plain": "Validating: 0it [00:00, ?it/s]",
      "application/vnd.jupyter.widget-view+json": {
       "version_major": 2,
       "version_minor": 0,
       "model_id": "651b92f9d3564639904da25217d7796d"
      }
     },
     "metadata": {},
     "output_type": "display_data"
    },
    {
     "data": {
      "text/plain": "Validating: 0it [00:00, ?it/s]",
      "application/vnd.jupyter.widget-view+json": {
       "version_major": 2,
       "version_minor": 0,
       "model_id": "2168e712fe6f443e81328cddb9408f1c"
      }
     },
     "metadata": {},
     "output_type": "display_data"
    },
    {
     "data": {
      "text/plain": "Validating: 0it [00:00, ?it/s]",
      "application/vnd.jupyter.widget-view+json": {
       "version_major": 2,
       "version_minor": 0,
       "model_id": "e7a6f356552d43a38da2f8c3a0d8427d"
      }
     },
     "metadata": {},
     "output_type": "display_data"
    },
    {
     "data": {
      "text/plain": "Validating: 0it [00:00, ?it/s]",
      "application/vnd.jupyter.widget-view+json": {
       "version_major": 2,
       "version_minor": 0,
       "model_id": "553ff59ddcb246cb807e98b03d8a35a9"
      }
     },
     "metadata": {},
     "output_type": "display_data"
    },
    {
     "data": {
      "text/plain": "Validating: 0it [00:00, ?it/s]",
      "application/vnd.jupyter.widget-view+json": {
       "version_major": 2,
       "version_minor": 0,
       "model_id": "aa33e949a0ac4352a6b9389ee498302f"
      }
     },
     "metadata": {},
     "output_type": "display_data"
    },
    {
     "data": {
      "text/plain": "Validating: 0it [00:00, ?it/s]",
      "application/vnd.jupyter.widget-view+json": {
       "version_major": 2,
       "version_minor": 0,
       "model_id": "f3a0b9f8cc9245c1921dc20979753b53"
      }
     },
     "metadata": {},
     "output_type": "display_data"
    },
    {
     "data": {
      "text/plain": "Validating: 0it [00:00, ?it/s]",
      "application/vnd.jupyter.widget-view+json": {
       "version_major": 2,
       "version_minor": 0,
       "model_id": "1b37db357b02482f91a47562c80f2ee5"
      }
     },
     "metadata": {},
     "output_type": "display_data"
    },
    {
     "data": {
      "text/plain": "Validating: 0it [00:00, ?it/s]",
      "application/vnd.jupyter.widget-view+json": {
       "version_major": 2,
       "version_minor": 0,
       "model_id": "26dba755e22346c4b056f4e993ca5c2b"
      }
     },
     "metadata": {},
     "output_type": "display_data"
    },
    {
     "data": {
      "text/plain": "Validating: 0it [00:00, ?it/s]",
      "application/vnd.jupyter.widget-view+json": {
       "version_major": 2,
       "version_minor": 0,
       "model_id": "e8e802143afe422ca28bd7967bd1564a"
      }
     },
     "metadata": {},
     "output_type": "display_data"
    },
    {
     "data": {
      "text/plain": "Validating: 0it [00:00, ?it/s]",
      "application/vnd.jupyter.widget-view+json": {
       "version_major": 2,
       "version_minor": 0,
       "model_id": "46869047339e45fd868dc0e6704f35c7"
      }
     },
     "metadata": {},
     "output_type": "display_data"
    },
    {
     "data": {
      "text/plain": "Validating: 0it [00:00, ?it/s]",
      "application/vnd.jupyter.widget-view+json": {
       "version_major": 2,
       "version_minor": 0,
       "model_id": "4aff8a36dcc94adbba5cf5e910001b27"
      }
     },
     "metadata": {},
     "output_type": "display_data"
    },
    {
     "data": {
      "text/plain": "Validating: 0it [00:00, ?it/s]",
      "application/vnd.jupyter.widget-view+json": {
       "version_major": 2,
       "version_minor": 0,
       "model_id": "05b69a722f374bf2824f252d711afaff"
      }
     },
     "metadata": {},
     "output_type": "display_data"
    },
    {
     "data": {
      "text/plain": "Validating: 0it [00:00, ?it/s]",
      "application/vnd.jupyter.widget-view+json": {
       "version_major": 2,
       "version_minor": 0,
       "model_id": "a8fda19d81bc465c9b6d3291a0f1130f"
      }
     },
     "metadata": {},
     "output_type": "display_data"
    },
    {
     "data": {
      "text/plain": "Validating: 0it [00:00, ?it/s]",
      "application/vnd.jupyter.widget-view+json": {
       "version_major": 2,
       "version_minor": 0,
       "model_id": "a3275b2b3aa54375a26513c2f66027b4"
      }
     },
     "metadata": {},
     "output_type": "display_data"
    },
    {
     "data": {
      "text/plain": "Validating: 0it [00:00, ?it/s]",
      "application/vnd.jupyter.widget-view+json": {
       "version_major": 2,
       "version_minor": 0,
       "model_id": "f982373edeb84fcdb9765d026bb73e82"
      }
     },
     "metadata": {},
     "output_type": "display_data"
    },
    {
     "data": {
      "text/plain": "Validating: 0it [00:00, ?it/s]",
      "application/vnd.jupyter.widget-view+json": {
       "version_major": 2,
       "version_minor": 0,
       "model_id": "cacb68957298412f9a56b36f2cd36fb2"
      }
     },
     "metadata": {},
     "output_type": "display_data"
    },
    {
     "name": "stderr",
     "output_type": "stream",
     "text": [
      "LOCAL_RANK: 0 - CUDA_VISIBLE_DEVICES: [0]\n"
     ]
    },
    {
     "data": {
      "text/plain": "Testing: 0it [00:00, ?it/s]",
      "application/vnd.jupyter.widget-view+json": {
       "version_major": 2,
       "version_minor": 0,
       "model_id": "234915a2be474286bf70232122a748dd"
      }
     },
     "metadata": {},
     "output_type": "display_data"
    },
    {
     "name": "stdout",
     "output_type": "stream",
     "text": [
      "--------------------------------------------------------------------------------\n",
      "DATALOADER:0 TEST RESULTS\n",
      "{'test_cost': -1.9864598512649536,\n",
      " 'test_equality_loss': 46.49311447143555,\n",
      " 'test_equality_powerflow_loss': 22.986732482910156,\n",
      " 'test_equality_reactive_power_loss': 8.326313972473145,\n",
      " 'test_equality_real_power_loss': 14.192145347595215,\n",
      " 'test_equality_voltage_angle_difference_loss': 0.0,\n",
      " 'test_equality_voltage_magnitude_loss': 0.9879202842712402,\n",
      " 'test_inequality_backward_rate_max_loss': -0.1718883216381073,\n",
      " 'test_inequality_backward_rate_max_violated_rate': 0.0,\n",
      " 'test_inequality_backward_rate_max_violated_rms': 0.0,\n",
      " 'test_inequality_forward_rate_max_loss': -0.1754823476076126,\n",
      " 'test_inequality_forward_rate_max_violated_rate': 0.0,\n",
      " 'test_inequality_forward_rate_max_violated_rms': 0.0,\n",
      " 'test_inequality_loss': 8.261024475097656,\n",
      " 'test_inequality_reactive_power_max_loss': -0.20343881845474243,\n",
      " 'test_inequality_reactive_power_max_violated_rate': 0.0,\n",
      " 'test_inequality_reactive_power_max_violated_rms': 0.0,\n",
      " 'test_inequality_reactive_power_min_loss': -0.14102503657341003,\n",
      " 'test_inequality_reactive_power_min_violated_rate': 0.0,\n",
      " 'test_inequality_reactive_power_min_violated_rms': 0.0,\n",
      " 'test_inequality_real_power_max_loss': -0.19640511274337769,\n",
      " 'test_inequality_real_power_max_violated_rate': 0.0,\n",
      " 'test_inequality_real_power_max_violated_rms': 0.0,\n",
      " 'test_inequality_real_power_min_loss': 0.08071338385343552,\n",
      " 'test_inequality_real_power_min_violated_rate': 0.0,\n",
      " 'test_inequality_real_power_min_violated_rms': 0.0,\n",
      " 'test_inequality_violated_rate': 1.0277621746063232,\n",
      " 'test_inequality_violated_rms': 3.0933640003204346,\n",
      " 'test_inequality_voltage_angle_difference_max_loss': 0.002912345575168729,\n",
      " 'test_inequality_voltage_angle_difference_max_violated_rate': 0.01945795863866806,\n",
      " 'test_inequality_voltage_angle_difference_max_violated_rms': 1.0390524864196777,\n",
      " 'test_inequality_voltage_angle_difference_min_loss': -0.026502201333642006,\n",
      " 'test_inequality_voltage_angle_difference_min_violated_rate': 0.008304168470203876,\n",
      " 'test_inequality_voltage_angle_difference_min_violated_rms': 1.1750361919403076,\n",
      " 'test_inequality_voltage_magnitude_max_loss': 0.0007651963387615979,\n",
      " 'test_inequality_voltage_magnitude_max_violated_rate': 0.0,\n",
      " 'test_inequality_voltage_magnitude_max_violated_rms': 0.0,\n",
      " 'test_inequality_voltage_magnitude_min_loss': 9.091375350952148,\n",
      " 'test_inequality_voltage_magnitude_min_violated_rate': 1.0,\n",
      " 'test_inequality_voltage_magnitude_min_violated_rms': 0.8792751431465149}\n",
      "--------------------------------------------------------------------------------\n"
     ]
    },
    {
     "ename": "AttributeError",
     "evalue": "'Run' object has no attribute 'end'",
     "output_type": "error",
     "traceback": [
      "\u001B[1;31m---------------------------------------------------------------------------\u001B[0m",
      "\u001B[1;31mAttributeError\u001B[0m                            Traceback (most recent call last)",
      "\u001B[1;32m<ipython-input-11-e23d037c42fe>\u001B[0m in \u001B[0;36m<module>\u001B[1;34m\u001B[0m\n\u001B[0;32m     11\u001B[0m \u001B[0mtrainer\u001B[0m\u001B[1;33m.\u001B[0m\u001B[0mtest\u001B[0m\u001B[1;33m(\u001B[0m\u001B[0mdatamodule\u001B[0m\u001B[1;33m=\u001B[0m\u001B[0mdm\u001B[0m\u001B[1;33m)\u001B[0m\u001B[1;33m\u001B[0m\u001B[1;33m\u001B[0m\u001B[0m\n\u001B[0;32m     12\u001B[0m \u001B[0mtrainer\u001B[0m\u001B[1;33m.\u001B[0m\u001B[0msave_checkpoint\u001B[0m\u001B[1;33m(\u001B[0m\u001B[1;34m\"latest.ckpt\"\u001B[0m\u001B[1;33m)\u001B[0m\u001B[1;33m\u001B[0m\u001B[1;33m\u001B[0m\u001B[0m\n\u001B[1;32m---> 13\u001B[1;33m \u001B[0mlogger\u001B[0m\u001B[1;33m.\u001B[0m\u001B[0mexperiment\u001B[0m\u001B[1;33m.\u001B[0m\u001B[0mend\u001B[0m\u001B[1;33m(\u001B[0m\u001B[1;33m)\u001B[0m\u001B[1;33m\u001B[0m\u001B[1;33m\u001B[0m\u001B[0m\n\u001B[0m\u001B[0;32m     14\u001B[0m \u001B[1;33m\u001B[0m\u001B[0m\n",
      "\u001B[1;31mAttributeError\u001B[0m: 'Run' object has no attribute 'end'"
     ]
    }
   ],
   "source": [
    "logger = WandbLogger(project=\"opf\", save_dir=\"../logs\")\n",
    "logger.log_hyperparams(param)\n",
    "\n",
    "trainer = pl.Trainer(logger=logger,\n",
    "                     progress_bar_refresh_rate=1,\n",
    "                     gpus=1,\n",
    "                     max_epochs=200,\n",
    "                     auto_lr_find=True)\n",
    "trainer.tune(barrier, dm)\n",
    "trainer.fit(barrier, dm)\n",
    "trainer.test(datamodule=dm)\n",
    "trainer.save_checkpoint(\"latest.ckpt\")\n",
    "logger.experiment.end()"
   ]
  },
  {
   "cell_type": "code",
   "execution_count": 6,
   "metadata": {
    "pycharm": {
     "name": "#%%\n"
    }
   },
   "outputs": [
    {
     "data": {
      "text/plain": [
       "<All keys matched successfully>"
      ]
     },
     "execution_count": 6,
     "metadata": {},
     "output_type": "execute_result"
    }
   ],
   "source": [
    "# Load model\n",
    "checkpoint = torch.load(\"latest.ckpt\", map_location=lambda storage, loc: storage)\n",
    "barrier.load_state_dict(checkpoint[\"state_dict\"])"
   ]
  },
  {
   "cell_type": "code",
   "execution_count": 9,
   "metadata": {
    "pycharm": {
     "name": "#%%\n"
    }
   },
   "outputs": [],
   "source": [
    "import matplotlib.pyplot as plt\n",
    "\n",
    "barrier.to(\"cpu\")\n",
    "\n",
    "dm.setup(\"test\")\n",
    "data = list(dm.test_dataloader())\n",
    "load, gen = data[0]\n",
    "\n",
    "with torch.no_grad():\n",
    "    bus, load = barrier(load)\n",
    "    V, S, Sg, Sd = barrier.bus(bus, load)\n",
    "    If, It, Sf, St, Sbus = barrier.power_flow(V)"
   ]
  },
  {
   "cell_type": "code",
   "execution_count": null,
   "metadata": {},
   "outputs": [],
   "source": []
  }
 ],
 "metadata": {
  "kernelspec": {
   "display_name": "opf",
   "language": "python",
   "name": "opf"
  },
  "language_info": {
   "codemirror_mode": {
    "name": "ipython",
    "version": 3
   },
   "file_extension": ".py",
   "mimetype": "text/x-python",
   "name": "python",
   "nbconvert_exporter": "python",
   "pygments_lexer": "ipython3",
   "version": "3.8.5"
  }
 },
 "nbformat": 4,
 "nbformat_minor": 4
}